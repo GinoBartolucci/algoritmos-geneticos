{
 "cells": [
  {
   "cell_type": "code",
   "execution_count": 5,
   "metadata": {},
   "outputs": [
    {
     "name": "stdout",
     "output_type": "stream",
     "text": [
      "Dinero total en la mochila: 299\n",
      "Combinación de objetos en la mochila: [[150, 20], [325, 40], [600, 50], [430, 25], [1200, 64], [770, 54], [60, 18], [353, 28]]\n"
     ]
    }
   ],
   "source": [
    "def mochila_exhaustiva(VOL_MOCHILA, objetos):\n",
    "    mejor_dinero = 0\n",
    "    mejor_combinacion = []\n",
    "    \n",
    "    def buscar_combinaciones(i, volumen_actual, dinero_actual, combinacion_actual):\n",
    "        nonlocal mejor_dinero, mejor_combinacion\n",
    "\n",
    "        if i == len(objetos):\n",
    "            # Si llegamos al final de la lista de objetos, verificamos si esta combinación es mejor\n",
    "            if dinero_actual > mejor_dinero and volumen_actual <= VOL_MOCHILA:\n",
    "                mejor_dinero = dinero_actual\n",
    "                mejor_combinacion = combinacion_actual.copy()\n",
    "            return\n",
    "\n",
    "        # No incluir el objeto actual\n",
    "        buscar_combinaciones(i + 1, volumen_actual, dinero_actual, combinacion_actual)\n",
    "\n",
    "        # Incluir el objeto actual si no excede el volumen de la mochila\n",
    "        if volumen_actual + objetos[i][0] <= VOL_MOCHILA:\n",
    "            buscar_combinaciones(i + 1, volumen_actual + objetos[i][0], dinero_actual + objetos[i][1], combinacion_actual + [objetos[i]])\n",
    "        \n",
    "\n",
    "\n",
    "    buscar_combinaciones(0, 0, 0, [])\n",
    "    return mejor_dinero, mejor_combinacion\n",
    "\n",
    "VOL_MOCHILA = 4200\n",
    "objetos = [\n",
    "    [150, 20],\n",
    "    [325, 40],\n",
    "    [600, 50],\n",
    "    [805, 36],\n",
    "    [430, 25],\n",
    "    [1200, 64],\n",
    "    [770, 54],\n",
    "    [60, 18],\n",
    "    [930, 46],\n",
    "    [353, 28]\n",
    "]\n",
    "\n",
    "dinero_en_mochila, combinacion_en_mochila = mochila_exhaustiva(VOL_MOCHILA, objetos)\n",
    "print(\"Dinero total en la mochila:\", dinero_en_mochila)\n",
    "print(\"Combinación de objetos en la mochila:\", combinacion_en_mochila)"
   ]
  }
 ],
 "metadata": {
  "kernelspec": {
   "display_name": "Python 3.9.13 64-bit",
   "language": "python",
   "name": "python3"
  },
  "language_info": {
   "codemirror_mode": {
    "name": "ipython",
    "version": 3
   },
   "file_extension": ".py",
   "mimetype": "text/x-python",
   "name": "python",
   "nbconvert_exporter": "python",
   "pygments_lexer": "ipython3",
   "version": "3.9.13"
  },
  "orig_nbformat": 4,
  "vscode": {
   "interpreter": {
    "hash": "f1a5d23aa71d821cb89ea9bf9e09d6a9661f348a5982dd36c24152f8b8a929a8"
   }
  }
 },
 "nbformat": 4,
 "nbformat_minor": 2
}
