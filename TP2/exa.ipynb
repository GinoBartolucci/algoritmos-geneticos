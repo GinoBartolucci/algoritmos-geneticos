{
 "cells": [
  {
   "cell_type": "code",
<<<<<<< HEAD
   "execution_count": 16,
=======
   "execution_count": 13,
>>>>>>> 67804433edd6c22554e2dddc3d1fb7016130f4ce
   "metadata": {},
   "outputs": [],
   "source": [
    "import pandas as pd\n"
   ]
  },
  {
   "cell_type": "code",
   "execution_count": 14,
   "metadata": {},
   "outputs": [],
   "source": [
    "def generar_tabla(filas,columnas):\n",
    "    return pd.DataFrame(filas,columns=columnas)"
   ]
  },
  {
   "cell_type": "code",
   "execution_count": 15,
   "metadata": {},
   "outputs": [],
   "source": [
    "def busqueda_exhautiva(VAL_MAX, objetos):\n",
    "    mejor_dinero = 0\n",
    "    mejor_combinacion = []\n",
    "    \n",
    "    def buscar_combinaciones(i, valor_actual, dinero_actual, combinacion_actual):\n",
    "        nonlocal mejor_dinero, mejor_combinacion\n",
    "        \n",
    "        if i == len(objetos):\n",
    "            \n",
    "            # Si llegamos al final de la lista de objetos, verificamos si esta combinación es mejor\n",
    "            if dinero_actual > mejor_dinero and valor_actual <= VAL_MAX:\n",
    "                mejor_dinero = dinero_actual\n",
    "                mejor_combinacion = combinacion_actual.copy()\n",
    "            return\n",
    "\n",
<<<<<<< HEAD
    "        # Incluir el objeto actual si no excede el volumen de la mochila\n",
    "        if volumen_actual + objetos[i][0] <= VOL_MOCHILA:\n",
    "            buscar_combinaciones(i + 1, volumen_actual + objetos[i][0], dinero_actual + objetos[i][1], combinacion_actual + [objetos[i]])\n",
    "            \n",
    "        # No incluir el objeto actual\n",
    "        buscar_combinaciones(i + 1, volumen_actual, dinero_actual, combinacion_actual)\n",
=======
    "        # No incluir el objeto actual\n",
    "        buscar_combinaciones(i + 1, valor_actual, dinero_actual, combinacion_actual)\n",
    "\n",
    "        # Incluir el objeto actual si no excede el volumen de la mochila\n",
    "        if valor_actual + objetos[i][0] <= VAL_MAX:\n",
    "            buscar_combinaciones(i + 1, valor_actual + objetos[i][0], dinero_actual + objetos[i][1], combinacion_actual + [objetos[i]])\n",
>>>>>>> 67804433edd6c22554e2dddc3d1fb7016130f4ce
    "        \n",
    "    buscar_combinaciones(0, 0, 0, [])\n",
    "    return mejor_dinero, mejor_combinacion"
   ]
  },
  {
   "cell_type": "markdown",
   "metadata": {},
   "source": [
    "# Ejercicio 1\n",
    "Resolver el problema de la Mochila utilizando una búsqueda exhaustiva."
   ]
  },
  {
   "cell_type": "code",
   "execution_count": 16,
   "metadata": {},
   "outputs": [
    {
     "data": {
      "text/html": [
       "<div>\n",
       "<style scoped>\n",
       "    .dataframe tbody tr th:only-of-type {\n",
       "        vertical-align: middle;\n",
       "    }\n",
       "\n",
       "    .dataframe tbody tr th {\n",
       "        vertical-align: top;\n",
       "    }\n",
       "\n",
       "    .dataframe thead th {\n",
       "        text-align: right;\n",
       "    }\n",
       "</style>\n",
       "<table border=\"1\" class=\"dataframe\">\n",
       "  <thead>\n",
       "    <tr style=\"text-align: right;\">\n",
       "      <th></th>\n",
       "      <th>Volumen</th>\n",
       "      <th>precio</th>\n",
       "    </tr>\n",
       "  </thead>\n",
       "  <tbody>\n",
       "    <tr>\n",
       "      <th>0</th>\n",
       "      <td>150</td>\n",
       "      <td>20</td>\n",
       "    </tr>\n",
       "    <tr>\n",
       "      <th>1</th>\n",
       "      <td>325</td>\n",
       "      <td>40</td>\n",
       "    </tr>\n",
       "    <tr>\n",
       "      <th>2</th>\n",
       "      <td>600</td>\n",
       "      <td>50</td>\n",
       "    </tr>\n",
       "    <tr>\n",
       "      <th>3</th>\n",
       "      <td>430</td>\n",
       "      <td>25</td>\n",
       "    </tr>\n",
       "    <tr>\n",
       "      <th>4</th>\n",
       "      <td>1200</td>\n",
       "      <td>64</td>\n",
       "    </tr>\n",
       "    <tr>\n",
       "      <th>5</th>\n",
       "      <td>770</td>\n",
       "      <td>54</td>\n",
       "    </tr>\n",
       "    <tr>\n",
       "      <th>6</th>\n",
       "      <td>60</td>\n",
       "      <td>18</td>\n",
       "    </tr>\n",
       "    <tr>\n",
       "      <th>7</th>\n",
       "      <td>353</td>\n",
       "      <td>28</td>\n",
       "    </tr>\n",
       "  </tbody>\n",
       "</table>\n",
       "</div>"
      ],
      "text/plain": [
       "   Volumen  precio\n",
       "0      150      20\n",
       "1      325      40\n",
       "2      600      50\n",
       "3      430      25\n",
       "4     1200      64\n",
       "5      770      54\n",
       "6       60      18\n",
       "7      353      28"
      ]
     },
     "execution_count": 16,
     "metadata": {},
     "output_type": "execute_result"
    }
   ],
   "source": [
    "VOL_MAX = 4200\n",
    "objetos = [\n",
    "    [150, 20],\n",
    "    [325, 40],\n",
    "    [600, 50],\n",
    "    [805, 36],\n",
    "    [430, 25],\n",
    "    [1200, 64],\n",
    "    [770, 54],\n",
    "    [60, 18],\n",
    "    [930, 46],\n",
    "    [353, 28]\n",
    "]\n",
    "dinero_en_mochila, combinacion_en_mochila = busqueda_exhautiva(VOL_MAX, objetos)\n",
    "print(\"Dinero total en la mochila:\", dinero_en_mochila)\n",
    "# print(\"Combinación de objetos en la mochila:\", combinacion_en_mochila)\n",
    "generar_tabla(combinacion_en_mochila,[\"Volumen\",\"precio\"])"
   ]
  },
  {
   "cell_type": "markdown",
   "metadata": {},
   "source": [
    "# Ejercicio 3\n",
    "respectivamente, y con una mochila que puede soportar hasta 3000 grs. se pide:\n",
    "\n",
    "A) Hallar una solución utilizando un algoritmo goloso y exhaustivo.\n",
    "\n",
    "B) Analizar dicha solución respecto a su grado de optimización y elaborar las conclusiones que considere adecuadas."
   ]
  },
  {
   "cell_type": "code",
   "execution_count": 17,
   "metadata": {},
   "outputs": [
    {
     "data": {
      "text/html": [
       "<div>\n",
       "<style scoped>\n",
       "    .dataframe tbody tr th:only-of-type {\n",
       "        vertical-align: middle;\n",
       "    }\n",
       "\n",
       "    .dataframe tbody tr th {\n",
       "        vertical-align: top;\n",
       "    }\n",
       "\n",
       "    .dataframe thead th {\n",
       "        text-align: right;\n",
       "    }\n",
       "</style>\n",
       "<table border=\"1\" class=\"dataframe\">\n",
       "  <thead>\n",
       "    <tr style=\"text-align: right;\">\n",
       "      <th></th>\n",
       "      <th>Peso</th>\n",
       "      <th>precio</th>\n",
       "    </tr>\n",
       "  </thead>\n",
       "  <tbody>\n",
       "    <tr>\n",
       "      <th>0</th>\n",
       "      <td>1800</td>\n",
       "      <td>72</td>\n",
       "    </tr>\n",
       "    <tr>\n",
       "      <th>1</th>\n",
       "      <td>1200</td>\n",
       "      <td>60</td>\n",
       "    </tr>\n",
       "  </tbody>\n",
       "</table>\n",
       "</div>"
      ],
      "text/plain": [
       "   Peso  precio\n",
       "0  1800      72\n",
       "1  1200      60"
      ]
     },
     "execution_count": 17,
     "metadata": {},
     "output_type": "execute_result"
    }
   ],
   "source": [
    "PESO_MAX = 3000\n",
    "objetos_por_peso = [\n",
    "    # grs, $\n",
    "    [1800, 72],\n",
    "    [600, 36],\n",
    "    [1200, 60],\n",
    "]\n",
    "dinero_en_mochila, combinacion_en_mochila = busqueda_exhautiva(PESO_MAX, objetos_por_peso)\n",
    "print(\"Dinero total en la mochila:\", dinero_en_mochila)\n",
    "# print(\"Combinación de objetos en la mochila:\", combinacion_en_mochila)\n",
    "generar_tabla(combinacion_en_mochila,[\"Peso\",\"precio\"])"
   ]
  }
 ],
 "metadata": {
  "kernelspec": {
   "display_name": "Python 3.9.13 64-bit",
   "language": "python",
   "name": "python3"
  },
  "language_info": {
   "codemirror_mode": {
    "name": "ipython",
    "version": 3
   },
   "file_extension": ".py",
   "mimetype": "text/x-python",
   "name": "python",
   "nbconvert_exporter": "python",
   "pygments_lexer": "ipython3",
   "version": "3.8.0"
  },
  "orig_nbformat": 4,
  "vscode": {
   "interpreter": {
    "hash": "f1a5d23aa71d821cb89ea9bf9e09d6a9661f348a5982dd36c24152f8b8a929a8"
   }
  }
 },
 "nbformat": 4,
 "nbformat_minor": 2
}
