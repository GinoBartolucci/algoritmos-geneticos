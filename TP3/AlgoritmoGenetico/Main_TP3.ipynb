{
 "cells": [
  {
   "cell_type": "code",
   "execution_count": 46,
   "metadata": {},
   "outputs": [],
   "source": [
    "\n",
    "from DNA import DNA\n",
    "from Graficador import *\n",
    "from Seleccion import Seleccion\n",
    "import pandas as pd\n",
    "from Cromosoma import Cromosoma"
   ]
  },
  {
   "cell_type": "code",
   "execution_count": 47,
   "metadata": {},
   "outputs": [],
   "source": [
    "DATOS_EN_TABLA = '../TablaCapitales.xlsx' \n",
    "RUTA =  DATOS_EN_TABLA\n",
    "FILAS_TABLA = 24 \n",
    "lista_provincias_visitadas = []\n",
    "cantidad_km = 0 \n",
    "\n",
    "df = pd.read_excel(DATOS_EN_TABLA)\n",
    "\n",
    "def devolver_informacion_tabla_crudo():\n",
    "    df = pd.read_excel(RUTA)\n",
    "    tabla = df.values \n",
    " \n",
    "    return tabla"
   ]
  },
  {
   "cell_type": "code",
   "execution_count": 48,
   "metadata": {},
   "outputs": [],
   "source": [
    "def procesar_informacion_tabla(tabla: pd.DataFrame):\n",
    "    lista_provincias = list(tabla[:,0])\n",
    "    \n",
    "    return [lista_provincias, tabla]\n",
    "\n",
    "lista_provincias,tabla = procesar_informacion_tabla(devolver_informacion_tabla_crudo())"
   ]
  },
  {
   "cell_type": "code",
   "execution_count": 49,
   "metadata": {},
   "outputs": [],
   "source": [
    " \n",
    "\n",
    "def get_distance(city1: str, city2: str) -> float:\n",
    "    # print(city1, city2)\n",
    "    distancia = tabla[city1][city2+1]\n",
    "    if type(distancia) == float:\n",
    "        return distancia\n",
    "    # return tabla[lista_provincias.index(city1)][lista_provincias.index(city2) +1]\n"
   ]
  },
  {
   "attachments": {},
   "cell_type": "markdown",
   "metadata": {},
   "source": [
    "Generando un marco de datos"
   ]
  },
  {
   "cell_type": "code",
   "execution_count": 50,
   "metadata": {},
   "outputs": [],
   "source": [
    "datos = []\n"
   ]
  },
  {
   "cell_type": "code",
   "execution_count": null,
   "metadata": {},
   "outputs": [],
   "source": [
    "obtener_mejor_cromosoma = lambda poblacion: sorted(poblacion, key=lambda cromosoma: cromosoma.fitness, reverse=True)[0]"
   ]
  },
  {
   "cell_type": "code",
   "execution_count": 51,
   "metadata": {},
   "outputs": [],
   "source": [
    "def ciclo(poblacion,fObjetivo,fFitness,numero_ciclo):\n",
    "    DNA1 =  DNA(poblacion)\n",
    "    elites = []\n",
    "    res_objetivo = DNA1.calcular_objetivo(fObjetivo)\n",
    "    res_fitness = DNA1.calcular_fitness(fFitness)\n",
    " \n",
    "    # print(res_objetivo)\n",
    "    elites = Seleccion.elitismo(DNA1.poblacion,2) # NO ES UN METODO DE SELCCION\n",
    "    cantidad = 50-len(elites)\n",
    "    \n",
    "    cromosomas_padres = Seleccion.torneo(DNA1.poblacion,cantidad)\n",
    "    # cromosomas_padres = Seleccion.ruleta(DNA1.poblacion,vueltas=cantidad)\n",
    "    cromosomas_hijos = DNA.cruzar_poblacion_numeros(cromosomas_padres)    \n",
    "\n",
    "    mejor_cromosoma = obtener_mejor_cromosoma(poblacion)\n",
    "    datos.append([numero_ciclo,mejor_cromosoma.genes,mejor_cromosoma.fitness,mejor_cromosoma.objetivo])\n",
    "\n",
    "    if len(cromosomas_hijos)>0:\n",
    "        nueva_poblacion = cromosomas_hijos + elites\n",
    "\n",
    "    # print(len(nueva_poblacion))\n",
    "    return nueva_poblacion\n"
   ]
  },
  {
   "cell_type": "code",
   "execution_count": 52,
   "metadata": {},
   "outputs": [
    {
     "name": "stdout",
     "output_type": "stream",
     "text": [
      "Ultimo cromosoma: [17, 6, 18, 1, 19, 10, 22, 12, 7, 20, 4, 0, 5, 13, 14, 16, 15, 21, 11, 2, 9, 8, 3] 11192.0\n",
      "152.0    | [17][6]  San Juan -> Mendoza \n",
      "235.0    | [6][18]  Mendoza -> San Luis \n",
      "293.0    | [18][1]  San Luis -> Córdoba \n",
      "330.0    | [1][19]  Córdoba -> Santa Fe \n",
      "1349.0    | [19][10]  Santa Fe -> Rawson \n",
      "1300.0    | [10][22]  Rawson -> Ushuaia \n",
      "359.0    | [22][12]  Ushuaia -> Río Gallegos \n",
      "1410.0    | [12][7]  Río Gallegos -> Neuquén \n",
      "422.0    | [7][20]  Neuquén -> Santa Rosa \n",
      "602.0    | [20][4]  Santa Rosa -> La Plata \n",
      "53.0    | [4][0]  La Plata -> Cdad. de Bs. As. \n",
      "986.0    | [0][5]  Cdad. de Bs. As. -> La Rioja \n",
      "149.0    | [5][13]  La Rioja -> S.F.d.V.d. Catamarca \n",
      "189.0    | [13][14]  S.F.d.V.d. Catamarca -> S.M. de Tucumán \n",
      "228.0    | [14][16]  S.M. de Tucumán -> Salta \n",
      "67.0    | [16][15]  Salta -> S.S. de Jujuy \n",
      "414.0    | [15][21]  S.S. de Jujuy -> Sgo. Del Estero \n",
      "523.0    | [21][11]  Sgo. Del Estero -> Resistencia \n",
      "13.0    | [11][2]  Resistencia -> Corrientes \n",
      "291.0    | [2][9]  Corrientes -> Posadas \n",
      "658.0    | [9][8]  Posadas -> Paraná \n",
      "KM(Totales = objt): 10023.0 11192.0 km | fitness = 8.934953538241601e-05\n"
     ]
    }
   ],
   "source": [
    "import pandas as pd\n",
    "ciclos = 200\n",
    "cantidad_cromosomas = 50\n",
    "funcion_objetivo = lambda x,y: get_distance(x,y)       #  esto tiene que devolver la distancia, no?\n",
    "fitness = lambda x: 1/x # distancia total?\n",
    "Cromosoma.setProbMutacion(0.2)\n",
    "Cromosoma.setProbCrossover(0.75)\n",
    "poblacion = DNA.generar_poblacion_numeros(cantidad_cromosomas) \n",
    "mejor_cromosoma = [0,None] \n",
    "\n",
    "for i in range(ciclos):\n",
    "    nueva_poblacion = ciclo(poblacion,funcion_objetivo,fitness,i)\n",
    "    # for cromosoma in nueva_poblacion:\n",
    "    if i == ciclos-1:\n",
    "        for cromosoma in poblacion:  \n",
    "            if cromosoma.fitness > mejor_cromosoma[0]:\n",
    "                mejor_cromosoma[0] = cromosoma.objetivo\n",
    "                mejor_cromosoma[1] = cromosoma\n",
    "            \n",
    "    \n",
    "    poblacion = nueva_poblacion \n",
    "\n",
    "    \n",
    "ultimo_cromosoma = mejor_cromosoma[1]\n",
    "dist_total = 0\n",
    "print(f'Ultimo cromosoma: {ultimo_cromosoma}')\n",
    "for ciudad in range(0,len(ultimo_cromosoma.genes)-2):\n",
    "    ciudad1 = ultimo_cromosoma.genes[ciudad]\n",
    "    ciudad2 = ultimo_cromosoma.genes[ciudad+1]\n",
    "    distancia = get_distance(ciudad1,ciudad2)\n",
    "    dist_total += distancia\n",
    "    print(f'{get_distance(ciudad1,ciudad2)}    | [{ciudad1}][{ciudad2}]  {lista_provincias[ciudad1]} -> {lista_provincias[ciudad2]} ')\n",
    "\n",
    "print(f'KM(Totales = objt):  {ultimo_cromosoma.objetivo} km | fitness = {ultimo_cromosoma.fitness}') \n",
    "\n",
    "\n",
    "df = pd.DataFrame(datos, columns=['i', 'ruta', 'fitness', 'objetivo'])\n",
    "print(df)\n",
    "\n"
   ]
  }
 ],
 "metadata": {
  "kernelspec": {
   "display_name": "Python 3",
   "language": "python",
   "name": "python3"
  },
  "language_info": {
   "codemirror_mode": {
    "name": "ipython",
    "version": 3
   },
   "file_extension": ".py",
   "mimetype": "text/x-python",
   "name": "python",
   "nbconvert_exporter": "python",
   "pygments_lexer": "ipython3",
   "version": "3.8.0"
  },
  "orig_nbformat": 4
 },
 "nbformat": 4,
 "nbformat_minor": 2
}
