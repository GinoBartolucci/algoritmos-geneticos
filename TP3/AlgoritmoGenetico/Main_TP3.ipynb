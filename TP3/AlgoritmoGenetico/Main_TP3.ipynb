{
 "cells": [
  {
   "cell_type": "code",
   "execution_count": 11,
   "metadata": {},
   "outputs": [],
   "source": [
    "\n",
    "from DNA import DNA\n",
    "from Graficador import *\n",
    "from Seleccion import Seleccion\n",
    "import pandas as pd\n",
    "from Cromosoma import Cromosoma"
   ]
  },
  {
   "cell_type": "code",
   "execution_count": 12,
   "metadata": {},
   "outputs": [],
   "source": [
    "DATOS_EN_TABLA = '../TablaCapitales.xlsx' \n",
    "RUTA =  DATOS_EN_TABLA\n",
    "FILAS_TABLA = 24 \n",
    "lista_provincias_visitadas = []\n",
    "cantidad_km = 0 \n",
    "\n",
    "df = pd.read_excel(DATOS_EN_TABLA)\n",
    "\n",
    "def devolver_informacion_tabla_crudo():\n",
    "    df = pd.read_excel(RUTA)\n",
    "    tabla = df.values \n",
    " \n",
    "    return tabla"
   ]
  },
  {
   "cell_type": "code",
   "execution_count": 13,
   "metadata": {},
   "outputs": [],
   "source": [
    "def procesar_informacion_tabla(tabla: pd.DataFrame):\n",
    "    lista_provincias = list(tabla[:,0])\n",
    "    \n",
    "    return [lista_provincias, tabla]\n",
    "\n",
    "lista_provincias,tabla = procesar_informacion_tabla(devolver_informacion_tabla_crudo())"
   ]
  },
  {
   "cell_type": "code",
   "execution_count": 14,
   "metadata": {},
   "outputs": [],
   "source": [
    " \n",
    "\n",
    "def get_distance(city1: str, city2: str) -> float:\n",
    "    return tabla[lista_provincias.index(city1)][lista_provincias.index(city2) +1]\n"
   ]
  },
  {
   "attachments": {},
   "cell_type": "markdown",
   "metadata": {},
   "source": [
    "Generando un marco de datos"
   ]
  },
  {
   "cell_type": "code",
   "execution_count": 15,
   "metadata": {},
   "outputs": [],
   "source": [
    "\n",
    "def generarDataFrame(pob_dec, pob_bin,info_obj,info_fitness):\n",
    "    data = {'Decimales': pob_dec, 'Binarios': pob_bin, 'FuncionObjetivo':info_obj,\"Fitness\":info_fitness}\n",
    "    dataFrame = pd.DataFrame(data)\n",
    "    #display(dataFrame)\n",
    "    return dataFrame\n",
    "\n"
   ]
  },
  {
   "cell_type": "code",
   "execution_count": 16,
   "metadata": {},
   "outputs": [],
   "source": [
    "def generarEstadisticas(dataFrame):\n",
    "    indice_cromosoma_max = dataFrame[dataFrame['FuncionObjetivo']==dataFrame['FuncionObjetivo'].max()].index.values[0]\n",
    "    cromosoma_max = dataFrame['Binarios'][indice_cromosoma_max]\n",
    "    stats = {'Suma':[ dataFrame['FuncionObjetivo'].sum(), dataFrame['Fitness'].sum() ],\n",
    "                'Promedio': [ dataFrame['FuncionObjetivo'].mean(), dataFrame['Fitness'].mean() ],\n",
    "                'Máximo': [ dataFrame['FuncionObjetivo'].max(), dataFrame['Fitness'].max() ], \n",
    "                'Mínimo': [ dataFrame['FuncionObjetivo'].min(), dataFrame['Fitness'].min() ]}\n",
    "    dataFrame_stats = pd.DataFrame(stats, index = ['Función objetivo', 'Fitness'])\n",
    " \n",
    "    return dataFrame_stats, stats, cromosoma_max "
   ]
  },
  {
   "cell_type": "code",
   "execution_count": 17,
   "metadata": {},
   "outputs": [],
   "source": [
    "estadisticas = { \"CromosomaMáximo\":[],\"Máximo\":[], \"Mínimo\":[], \"Promedio\":[]}\n"
   ]
  },
  {
   "cell_type": "code",
   "execution_count": 18,
   "metadata": {},
   "outputs": [],
   "source": [
    "def agregar_stats(stats,cromosoma_max):\n",
    "    estadisticas[\"CromosomaMáximo\"].append(cromosoma_max)\n",
    "    estadisticas[\"Máximo\"].append(stats['Máximo'][0])\n",
    "    estadisticas[\"Mínimo\"].append(stats['Mínimo'][0])\n",
    "    estadisticas[\"Promedio\"].append(stats['Promedio'][0])\n",
    "    "
   ]
  },
  {
   "cell_type": "code",
   "execution_count": 19,
   "metadata": {},
   "outputs": [],
   "source": [
    "def almacenar_informacion(DNA1):\n",
    "    poblacion_info,info_decimal,info_fitness,info_objetivo = DNA1.get_info_poblacion()\n",
    "    data_frame = generarDataFrame(info_decimal,poblacion_info,info_objetivo,info_fitness)\n",
    "    data_frame_stats,stats,cromosoma_max = generarEstadisticas(data_frame)\n",
    "    agregar_stats(stats,cromosoma_max)"
   ]
  },
  {
   "cell_type": "code",
   "execution_count": 20,
   "metadata": {},
   "outputs": [],
   "source": [
    "def ciclo(poblacion,fObjetivo,fFitness,numero_ciclo):\n",
    "    DNA1 =  DNA(poblacion)\n",
    "    elites = []\n",
    "    res_objetivo = DNA1.calcular_objetivo(fObjetivo)\n",
    "    res_fitness = DNA1.calcular_fitness(fFitness)\n",
    "\n",
    "    almacenar_informacion(DNA1)\n",
    "    # graficar_por_iteracion(res_objetivo,res_fitness)\n",
    "    elites = Seleccion.elitismo(DNA1.poblacion,2) # NO ES UN METODO DE SELCCION\n",
    "    cantidad = 10-len(elites)\n",
    "    \n",
    "    # cromosomas_padres = Seleccion.torneo(DNA1.poblacion,cantidad)\n",
    "    cromosomas_padres = Seleccion.ruleta(DNA1.poblacion,vueltas=cantidad)\n",
    "    cromosomas_hijos = DNA.cruzar_poblacion_numeros(cromosomas_padres)    \n",
    "\n",
    "    if len(cromosomas_hijos)>0:\n",
    "        nueva_poblacion = cromosomas_hijos + elites\n",
    "\n",
    "    # print(len(nueva_poblacion))\n",
    "    return nueva_poblacion\n"
   ]
  },
  {
   "cell_type": "code",
   "execution_count": 21,
   "metadata": {},
   "outputs": [
    {
     "ename": "AttributeError",
     "evalue": "'Cromosoma' object has no attribute 'decimal'",
     "output_type": "error",
     "traceback": [
      "\u001b[1;31m---------------------------------------------------------------------------\u001b[0m",
      "\u001b[1;31mAttributeError\u001b[0m                            Traceback (most recent call last)",
      "\u001b[1;32mc:\\Users\\Francisco Mendiburu\\Documents\\algoritmos-geneticos\\TP3\\AlgoritmoGenetico\\Main_TP3.ipynb Cell 12\u001b[0m line \u001b[0;36m1\n\u001b[0;32m      <a href='vscode-notebook-cell:/c%3A/Users/Francisco%20Mendiburu/Documents/algoritmos-geneticos/TP3/AlgoritmoGenetico/Main_TP3.ipynb#X11sZmlsZQ%3D%3D?line=7'>8</a>\u001b[0m \u001b[39m# poblaciones = []\u001b[39;00m\n\u001b[0;32m      <a href='vscode-notebook-cell:/c%3A/Users/Francisco%20Mendiburu/Documents/algoritmos-geneticos/TP3/AlgoritmoGenetico/Main_TP3.ipynb#X11sZmlsZQ%3D%3D?line=8'>9</a>\u001b[0m \n\u001b[0;32m     <a href='vscode-notebook-cell:/c%3A/Users/Francisco%20Mendiburu/Documents/algoritmos-geneticos/TP3/AlgoritmoGenetico/Main_TP3.ipynb#X11sZmlsZQ%3D%3D?line=9'>10</a>\u001b[0m \u001b[39m# poblaciones.append(poblacion)\u001b[39;00m\n\u001b[0;32m     <a href='vscode-notebook-cell:/c%3A/Users/Francisco%20Mendiburu/Documents/algoritmos-geneticos/TP3/AlgoritmoGenetico/Main_TP3.ipynb#X11sZmlsZQ%3D%3D?line=12'>13</a>\u001b[0m \u001b[39mfor\u001b[39;00m i \u001b[39min\u001b[39;00m \u001b[39mrange\u001b[39m(ciclos):\n\u001b[1;32m---> <a href='vscode-notebook-cell:/c%3A/Users/Francisco%20Mendiburu/Documents/algoritmos-geneticos/TP3/AlgoritmoGenetico/Main_TP3.ipynb#X11sZmlsZQ%3D%3D?line=13'>14</a>\u001b[0m     nueva_poblacion \u001b[39m=\u001b[39m ciclo(poblacion,funcion_objetivo,fitness,i)\n\u001b[0;32m     <a href='vscode-notebook-cell:/c%3A/Users/Francisco%20Mendiburu/Documents/algoritmos-geneticos/TP3/AlgoritmoGenetico/Main_TP3.ipynb#X11sZmlsZQ%3D%3D?line=14'>15</a>\u001b[0m     poblacion \u001b[39m=\u001b[39m nueva_poblacion\n\u001b[0;32m     <a href='vscode-notebook-cell:/c%3A/Users/Francisco%20Mendiburu/Documents/algoritmos-geneticos/TP3/AlgoritmoGenetico/Main_TP3.ipynb#X11sZmlsZQ%3D%3D?line=15'>16</a>\u001b[0m     \u001b[39m# poblaciones.append(poblacion)    \u001b[39;00m\n\u001b[0;32m     <a href='vscode-notebook-cell:/c%3A/Users/Francisco%20Mendiburu/Documents/algoritmos-geneticos/TP3/AlgoritmoGenetico/Main_TP3.ipynb#X11sZmlsZQ%3D%3D?line=16'>17</a>\u001b[0m     \u001b[39m# print(f'-----------{i}------------')\u001b[39;00m\n",
      "\u001b[1;32mc:\\Users\\Francisco Mendiburu\\Documents\\algoritmos-geneticos\\TP3\\AlgoritmoGenetico\\Main_TP3.ipynb Cell 12\u001b[0m line \u001b[0;36m4\n\u001b[0;32m      <a href='vscode-notebook-cell:/c%3A/Users/Francisco%20Mendiburu/Documents/algoritmos-geneticos/TP3/AlgoritmoGenetico/Main_TP3.ipynb#X11sZmlsZQ%3D%3D?line=1'>2</a>\u001b[0m DNA1 \u001b[39m=\u001b[39m  DNA(poblacion)\n\u001b[0;32m      <a href='vscode-notebook-cell:/c%3A/Users/Francisco%20Mendiburu/Documents/algoritmos-geneticos/TP3/AlgoritmoGenetico/Main_TP3.ipynb#X11sZmlsZQ%3D%3D?line=2'>3</a>\u001b[0m elites \u001b[39m=\u001b[39m []\n\u001b[1;32m----> <a href='vscode-notebook-cell:/c%3A/Users/Francisco%20Mendiburu/Documents/algoritmos-geneticos/TP3/AlgoritmoGenetico/Main_TP3.ipynb#X11sZmlsZQ%3D%3D?line=3'>4</a>\u001b[0m res_objetivo \u001b[39m=\u001b[39m DNA1\u001b[39m.\u001b[39;49mcalcular_objetivo(fObjetivo)\n\u001b[0;32m      <a href='vscode-notebook-cell:/c%3A/Users/Francisco%20Mendiburu/Documents/algoritmos-geneticos/TP3/AlgoritmoGenetico/Main_TP3.ipynb#X11sZmlsZQ%3D%3D?line=4'>5</a>\u001b[0m res_fitness \u001b[39m=\u001b[39m DNA1\u001b[39m.\u001b[39mcalcular_fitness(fFitness)\n\u001b[0;32m      <a href='vscode-notebook-cell:/c%3A/Users/Francisco%20Mendiburu/Documents/algoritmos-geneticos/TP3/AlgoritmoGenetico/Main_TP3.ipynb#X11sZmlsZQ%3D%3D?line=6'>7</a>\u001b[0m almacenar_informacion(DNA1)\n",
      "File \u001b[1;32mc:\\Users\\Francisco Mendiburu\\Documents\\algoritmos-geneticos\\TP3\\AlgoritmoGenetico\\DNA.py:53\u001b[0m, in \u001b[0;36mDNA.calcular_objetivo\u001b[1;34m(self, funcion)\u001b[0m\n\u001b[0;32m     50\u001b[0m \u001b[39mdef\u001b[39;00m \u001b[39mcalcular_objetivo\u001b[39m(\u001b[39mself\u001b[39m,funcion):\n\u001b[0;32m     52\u001b[0m     \u001b[39mfor\u001b[39;00m cromosoma \u001b[39min\u001b[39;00m \u001b[39mself\u001b[39m\u001b[39m.\u001b[39mpoblacion:\n\u001b[1;32m---> 53\u001b[0m         objetivo \u001b[39m=\u001b[39m funcion(\u001b[39mint\u001b[39m(cromosoma\u001b[39m.\u001b[39;49mdecimal))\n\u001b[0;32m     54\u001b[0m         cromosoma\u001b[39m.\u001b[39mobjetivo \u001b[39m=\u001b[39m objetivo\n\u001b[0;32m     56\u001b[0m     \u001b[39mself\u001b[39m\u001b[39m.\u001b[39mobjetivo[\u001b[39m\"\u001b[39m\u001b[39mSuma\u001b[39m\u001b[39m\"\u001b[39m]  \u001b[39m=\u001b[39m \u001b[39msum\u001b[39m([cromosoma\u001b[39m.\u001b[39mobjetivo \u001b[39mfor\u001b[39;00m cromosoma \u001b[39min\u001b[39;00m \u001b[39mself\u001b[39m\u001b[39m.\u001b[39mpoblacion])\n",
      "\u001b[1;31mAttributeError\u001b[0m: 'Cromosoma' object has no attribute 'decimal'"
     ]
    }
   ],
   "source": [
    "ciclos = 200\n",
    "cantidad_cromosomas = 50\n",
    "funcion_objetivo = lambda x: 200 #          esto tiene que devolver la distancia, no?\n",
    "fitness = lambda obj,sum_obj: obj/sum_obj   # distancia total\n",
    "Cromosoma.setProbMutacion(0.05)\n",
    "Cromosoma.setProbCrossover(0.75)\n",
    "poblacion = DNA.generar_poblacion_numeros(cantidad_cromosomas)\n",
    "# poblaciones = []\n",
    "\n",
    "# poblaciones.append(poblacion)\n",
    "\n",
    "\n",
    "for i in range(ciclos):\n",
    "    nueva_poblacion = ciclo(poblacion,funcion_objetivo,fitness,i)\n",
    "    poblacion = nueva_poblacion\n",
    "    # poblaciones.append(poblacion)    \n",
    "    # print(f'-----------{i}------------')\n",
    "hacerGrafico(estadisticas, ciclos)\n",
    "display(hacerTabla(estadisticas, ciclos))\n"
   ]
  }
 ],
 "metadata": {
  "kernelspec": {
   "display_name": "Python 3",
   "language": "python",
   "name": "python3"
  },
  "language_info": {
   "codemirror_mode": {
    "name": "ipython",
    "version": 3
   },
   "file_extension": ".py",
   "mimetype": "text/x-python",
   "name": "python",
   "nbconvert_exporter": "python",
   "pygments_lexer": "ipython3",
   "version": "3.8.0"
  },
  "orig_nbformat": 4
 },
 "nbformat": 4,
 "nbformat_minor": 2
}
