{
 "cells": [
  {
   "attachments": {},
   "cell_type": "markdown",
   "metadata": {},
   "source": [
    "## TP parte A - Ruleta, Crossover Mutacion"
   ]
  },
  {
   "attachments": {},
   "cell_type": "markdown",
   "metadata": {},
   "source": [
    "### Librerias"
   ]
  },
  {
   "cell_type": "code",
   "execution_count": 1,
   "metadata": {},
   "outputs": [],
   "source": [
    "import numpy as np\n",
    "import pandas as pd\n"
   ]
  },
  {
   "attachments": {},
   "cell_type": "markdown",
   "metadata": {},
   "source": [
    "### Variables"
   ]
  },
  {
   "cell_type": "code",
   "execution_count": 2,
   "metadata": {},
   "outputs": [],
   "source": [
    "PROB_CROSSOVER = 0.75\n",
    "PROB_MUTACION = 0.05\n",
    "CICLOS = 200\n",
    "CANTIDAD_POBLACION = 10\n",
    "COEF = 1073741823"
   ]
  },
  {
   "attachments": {},
   "cell_type": "markdown",
   "metadata": {},
   "source": [
    "### Fitness y Objetivo"
   ]
  },
  {
   "cell_type": "code",
   "execution_count": 3,
   "metadata": {},
   "outputs": [],
   "source": [
    "def convertirPoblacion(pob_ini, bin=True): # Pasar False para convertir a decimal\n",
    "    pob_fin = []\n",
    "    for numero in pob_ini:\n",
    "        if bin:\n",
    "            # convirtiendo cada número decimal en binario de 8 dígitos.\n",
    "            pob_fin.append(format(numero,'030b'))\n",
    "        else:\n",
    "            pob_fin.append(int(str(numero), 2))\n",
    "    return pob_fin"
   ]
  },
  {
   "cell_type": "code",
   "execution_count": 4,
   "metadata": {},
   "outputs": [],
   "source": [
    "def funcionObjetivo(poblacion_binarios, coeficiente): #El coeficiente debería ser una constante en todo el programa\n",
    "    poblacion = convertirPoblacion(poblacion_binarios, False)\n",
    "    fun_objetivo = []\n",
    "    for cromosoma in poblacion:\n",
    "        fun_objetivo.append((cromosoma/coeficiente)**2)\n",
    "    return fun_objetivo"
   ]
  },
  {
   "cell_type": "code",
   "execution_count": 5,
   "metadata": {},
   "outputs": [],
   "source": [
    "def funcionFitness(poblacion_binarios, coeficiente):\n",
    "    fitness = []\n",
    "    fun_objetivo = funcionObjetivo(poblacion_binarios, coeficiente)\n",
    "    for objetivo in fun_objetivo:\n",
    "        fitness.append((objetivo/sum(fun_objetivo)))\n",
    "    return fitness"
   ]
  },
  {
   "attachments": {},
   "cell_type": "markdown",
   "metadata": {},
   "source": [
    "#### Poblacion"
   ]
  },
  {
   "cell_type": "code",
   "execution_count": 6,
   "metadata": {},
   "outputs": [
    {
     "data": {
      "text/plain": [
       "array([ 640167639, 1027642628,  805869317,  849346127,  212334168,\n",
       "         41168204,  914964122,  499680334,  348222323,  701653717],\n",
       "      dtype=int64)"
      ]
     },
     "execution_count": 6,
     "metadata": {},
     "output_type": "execute_result"
    }
   ],
   "source": [
    "def poblacionInicial():\n",
    "  rng = np.random.default_rng() # Random Number Generator\n",
    "  poblacion_decimal = rng.integers(low=0, high=COEF, size=CANTIDAD_POBLACION)\n",
    "  return poblacion_decimal\n",
    "#poblacion_decimal = poblacionInicial()\n",
    "#poblacion_decimal"
   ]
  },
  {
   "attachments": {},
   "cell_type": "markdown",
   "metadata": {},
   "source": [
    "#### Binarios"
   ]
  },
  {
   "cell_type": "code",
   "execution_count": 7,
   "metadata": {},
   "outputs": [],
   "source": [
    "poblacion_binarios = convertirPoblacion(poblacion_decimal, True)\n",
    "#poblacion_binarios"
   ]
  },
  {
   "attachments": {},
   "cell_type": "markdown",
   "metadata": {},
   "source": [
    "### Tabla de datos"
   ]
  },
  {
   "cell_type": "code",
   "execution_count": 8,
   "metadata": {},
   "outputs": [],
   "source": [
    "def generarDataFrame(pob_bin, coeficiente):\n",
    "    pob_dec = convertirPoblacion(pob_bin, False)\n",
    "    data = {'Decimales': pob_dec, 'Binarios': pob_bin, \n",
    "            'FuncionObjetivo':np.array(funcionObjetivo(pob_bin,coeficiente))}\n",
    "    data_frame = pd.DataFrame(data)\n",
    "    data_frame['Fitness'] = np.array(funcionFitness(pob_bin, coeficiente))\n",
    "    return data_frame\n",
    "#data_frame = generarDataFrame(poblacion_binarios, COEF)\n",
    "#data_frame"
   ]
  },
  {
   "attachments": {},
   "cell_type": "markdown",
   "metadata": {},
   "source": [
    "#### Estadisticas Marco de datos"
   ]
  },
  {
   "cell_type": "code",
   "execution_count": 9,
   "metadata": {},
   "outputs": [],
   "source": [
    "def generarEstadisticas(data_frame):\n",
    "    stats = {'Suma':[ data_frame['FuncionObjetivo'].sum(), data_frame['Fitness'].sum() ], \n",
    "              'Promedio': [ data_frame['FuncionObjetivo'].mean(), data_frame['Fitness'].mean() ], \n",
    "              'Maximo': [ data_frame['FuncionObjetivo'].max(), data_frame['Fitness'].max() ]}\n",
    "    data_frame_stats = pd.DataFrame(stats, index = ['Función objetivo', 'Fitness'])\n",
    "    return data_frame_stats\n",
    "#marcoDeDatos_stats = generarEstadisticas(data_frame)\n",
    "#marcoDeDatos_stats"
   ]
  },
  {
   "attachments": {},
   "cell_type": "markdown",
   "metadata": {},
   "source": [
    "### Ruleta"
   ]
  },
  {
   "cell_type": "code",
   "execution_count": 10,
   "metadata": {},
   "outputs": [],
   "source": [
    "def ruleta(pob_bin, coeficiente, cantidad_poblacion):\n",
    "    # Asigna probabilidad basada en el fitness\n",
    "    cantidad_poblacion\n",
    "    cromosomas = np.array(pob_bin)\n",
    "    probabilidades = np.array(funcionFitness(pob_bin, coeficiente))\n",
    "    np.random.seed()\n",
    "    binarios_ruleta = np.random.choice(cromosomas, size=int(cantidad_poblacion), p=probabilidades)\n",
    "    binarios_ruleta = binarios_ruleta.tolist()\n",
    "    return binarios_ruleta\n",
    "#binarios_ruleta = ruleta(poblacion_binarios, COEF)\n",
    "#binarios_ruleta"
   ]
  },
  {
   "attachments": {},
   "cell_type": "markdown",
   "metadata": {},
   "source": [
    "### Crossover"
   ]
  },
  {
   "cell_type": "code",
   "execution_count": 11,
   "metadata": {},
   "outputs": [],
   "source": [
    "def crossover(poblacion_binarios, prob_corssover):\n",
    "    hijos_crossover = []\n",
    "    cantidad_poblacion = len(poblacion_binarios)\n",
    "    genes = len(poblacion_binarios[0])\n",
    "    poblacion_binarios = np.array(poblacion_binarios)\n",
    "    for i in range(0, cantidad_poblacion, 2):\n",
    "        opciones = [True, False]\n",
    "        np.random.seed()\n",
    "        # Probabilidades de cada opción\n",
    "        prob_cross = np.array([prob_corssover, (1-prob_corssover)])\n",
    "        cross = np.random.choice(opciones, size=1, p=prob_cross)\n",
    "        if cross[0]:\n",
    "            posiciones = [x for x in range(0, genes)]\n",
    "            probCorte = [(1/genes) for x in range(0, genes)]\n",
    "            # Devuelve ndarray de 1 elemento\n",
    "            corte = np.random.choice(posiciones, size=1, p=probCorte)\n",
    "            posicionCorte = corte[0]\n",
    "            primerTiraGenesPadre1 = poblacion_binarios[i][0:posicionCorte]\n",
    "            segundaTiraGenesPadre1 = poblacion_binarios[i][posicionCorte:genes]\n",
    "            primerTiraGenesPadre2 = poblacion_binarios[i+1][0:posicionCorte]\n",
    "            segundaTiraGenesPadre2 = poblacion_binarios[i+1][posicionCorte:genes]\n",
    "            hijos_crossover.append(primerTiraGenesPadre1 + segundaTiraGenesPadre2)  # Hijo 1\n",
    "            hijos_crossover.append(primerTiraGenesPadre2 + segundaTiraGenesPadre1)  # Hijo 2\n",
    "        else:\n",
    "            hijos_crossover.append(poblacion_binarios[i])\n",
    "            hijos_crossover.append(poblacion_binarios[i+1])\n",
    "    return hijos_crossover\n",
    "#binarios_crossover = crossover(binarios_ruleta, PROB_CROSSOVER)\n",
    "#binarios_crossover"
   ]
  },
  {
   "attachments": {},
   "cell_type": "markdown",
   "metadata": {},
   "source": [
    "### Mutacion"
   ]
  },
  {
   "cell_type": "code",
   "execution_count": 12,
   "metadata": {},
   "outputs": [],
   "source": [
    "def mutacion(hijos_binarios, prob_mutacion):\n",
    "        hijos_mutados = []\n",
    "        genes = len(str(hijos_binarios[0]))\n",
    "        for hijo in hijos_binarios:\n",
    "            opciones = [True, False]\n",
    "            np.random.seed()\n",
    "            # Probabilidades de cada opción\n",
    "            prob_mut = np.array([prob_mutacion, (1-prob_mutacion)])\n",
    "            mut = np.random.choice(opciones, size=1, p=prob_mut)\n",
    "            if mut[0]:\n",
    "                posiciones = [x for x in range(0, genes)]\n",
    "                probMutacion = [1/genes for x in range(0, genes)]\n",
    "                # Devuelve ndarray de 1 elemento\n",
    "                posicionMutacion = np.random.choice(posiciones, size=1, p=probMutacion)\n",
    "                posicionMutacion = posicionMutacion[0]\n",
    "                if hijo[posicionMutacion] == '0':\n",
    "                    hijo = hijo[:posicionMutacion] + '1' + hijo[posicionMutacion+1:]\n",
    "                else:\n",
    "                    hijo = hijo[:posicionMutacion] + '0' + hijo[posicionMutacion+1:]\n",
    "            hijos_mutados.append(hijo)\n",
    "        return hijos_mutados\n",
    "#mutados = mutacion(binarios_crossover, PROB_MUTACION)\n",
    "#mutados"
   ]
  },
  {
   "attachments": {},
   "cell_type": "markdown",
   "metadata": {},
   "source": [
    "### Torneo"
   ]
  },
  {
   "cell_type": "code",
   "execution_count": 13,
   "metadata": {},
   "outputs": [],
   "source": [
    "def torneo(poblacion_binarios, coeficiente):\n",
    "    binarios_torneo = []\n",
    "    fitness = np.array(funcionFitness(poblacion_binarios, coeficiente))\n",
    "    cantidad_poblacion = len(poblacion_binarios)\n",
    "    poblacion_binarios = np.array(poblacion_binarios)\n",
    "    for i in range(0, cantidad_poblacion):\n",
    "        posiblesCantidades = [x for x in range(1, (cantidad_poblacion+1))]\n",
    "        np.random.seed()\n",
    "        cantidadMiembrosTorneo = np.random.choice(posiblesCantidades, size=1)\n",
    "        # Trabaja directamente con los fitness de los cromósomas\n",
    "        miembrosTorneo = np.random.choice(fitness, size=cantidadMiembrosTorneo[0], replace=False)\n",
    "        ganador = np.amax(miembrosTorneo)\n",
    "        indiceGanador = np.where(fitness == ganador)  # retorna ndarray\n",
    "        cromosomaGanador = poblacion_binarios[indiceGanador[0][0]]\n",
    "        binarios_torneo.append(cromosomaGanador)\n",
    "    return binarios_torneo\n",
    "#binarios_torneo = torneo(poblacion_binarios, COEF)\n",
    "#binarios_torneo"
   ]
  },
  {
   "attachments": {},
   "cell_type": "markdown",
   "metadata": {},
   "source": [
    "### Elitismo"
   ]
  },
  {
   "cell_type": "code",
   "execution_count": null,
   "metadata": {},
   "outputs": [],
   "source": [
    "def elitismo(poblacion_binarios, cantidad, coeficiente):\n",
    "    fitness = funcionFitness(poblacion_binarios, coeficiente)\n",
    "    elites = []\n",
    "    for i in range(0, cantidad):\n",
    "        ganador = max(fitness)\n",
    "        indiceGanador = fitness.index(ganador)\n",
    "        cromosomaGanador = poblacion_binarios[indiceGanador]\n",
    "        elites.append(cromosomaGanador)\n",
    "        fitness.remove(ganador)\n",
    "    return elites\n",
    "#elites = elitismo(poblacion_binarios, 2, COEF)\n",
    "#elites"
   ]
  },
  {
   "cell_type": "code",
   "execution_count": 14,
   "metadata": {},
   "outputs": [
    {
     "name": "stdout",
     "output_type": "stream",
     "text": [
      "CASO A: Método selección ruleta\n"
     ]
    },
    {
     "ename": "NameError",
     "evalue": "name 'poblacionInicial' is not defined",
     "output_type": "error",
     "traceback": [
      "\u001b[1;31m---------------------------------------------------------------------------\u001b[0m",
      "\u001b[1;31mNameError\u001b[0m                                 Traceback (most recent call last)",
      "Cell \u001b[1;32mIn[14], line 31\u001b[0m\n\u001b[0;32m     29\u001b[0m \u001b[39m# opciones extra hacer mismo grafico sin mutación. (Se ve como se estanca la función en maximos locales)\u001b[39;00m\n\u001b[0;32m     30\u001b[0m \u001b[39mprint\u001b[39m(\u001b[39m\"\u001b[39m\u001b[39mCASO A: Método selección ruleta\u001b[39m\u001b[39m\"\u001b[39m)\n\u001b[1;32m---> 31\u001b[0m main(ruleta)\n\u001b[0;32m     32\u001b[0m \u001b[39mprint\u001b[39m(\u001b[39m\"\u001b[39m\u001b[39mCASO B: Método selección torneo\u001b[39m\u001b[39m\"\u001b[39m)\n\u001b[0;32m     33\u001b[0m main(torneo)\n",
      "Cell \u001b[1;32mIn[14], line 3\u001b[0m, in \u001b[0;36mmain\u001b[1;34m(seleccion, tieneElitismo, mutar)\u001b[0m\n\u001b[0;32m      1\u001b[0m \u001b[39mdef\u001b[39;00m \u001b[39mmain\u001b[39m(seleccion, tieneElitismo \u001b[39m=\u001b[39m \u001b[39mFalse\u001b[39;00m, mutar \u001b[39m=\u001b[39m \u001b[39mTrue\u001b[39;00m): \u001b[39m#TODO MOSTRAR TABLAS Y GRAFICOS, preguntar si esta bien que se hagan con los valores de fun. objetivo.\u001b[39;00m\n\u001b[0;32m      2\u001b[0m     estadisticas \u001b[39m=\u001b[39m { \u001b[39m\"\u001b[39m\u001b[39mMáximo\u001b[39m\u001b[39m\"\u001b[39m:[], \u001b[39m\"\u001b[39m\u001b[39mMínimo\u001b[39m\u001b[39m\"\u001b[39m:[], \u001b[39m\"\u001b[39m\u001b[39mPromedio\u001b[39m\u001b[39m\"\u001b[39m:[]}\n\u001b[1;32m----> 3\u001b[0m     poblacion_decimal \u001b[39m=\u001b[39m poblacionInicial()\n\u001b[0;32m      4\u001b[0m     poblacion_binarios \u001b[39m=\u001b[39m convertirPoblacion(poblacion_decimal)\n\u001b[0;32m      5\u001b[0m     \u001b[39mfor\u001b[39;00m i \u001b[39min\u001b[39;00m \u001b[39mrange\u001b[39m(\u001b[39m0\u001b[39m, CICLOS):\n",
      "\u001b[1;31mNameError\u001b[0m: name 'poblacionInicial' is not defined"
     ]
    }
   ],
   "source": [
    "def main(seleccion, tieneElitismo = False, mutar = True): #TODO MOSTRAR TABLAS Y GRAFICOS, preguntar si esta bien que se hagan con los valores de fun. objetivo.\n",
    "    estadisticas = { \"Máximo\":[], \"Mínimo\":[], \"Promedio\":[]}\n",
    "    poblacion_decimal = poblacionInicial()\n",
    "    poblacion_binarios = convertirPoblacion(poblacion_decimal)\n",
    "    for i in range(0, CICLOS):\n",
    "        marcoDeDatos = generarDataFrame(poblacion_binarios)\n",
    "        marcoDeDatos_stats, stats = generarEstadisticas(marcoDeDatos)\n",
    "        estadisticas[\"Máximo\"].append(stats['Máximo'][0])\n",
    "        estadisticas[\"Mínimo\"].append(stats['Mínimo'][0])\n",
    "        estadisticas[\"Promedio\"].append(stats['Promedio'][0])\n",
    "        if tieneElitismo:\n",
    "            elite= elitismo(poblacion_binarios, 2)\n",
    "            cromosomasPadresNoElite = seleccion(poblacion_binarios, 8)\n",
    "            cromosomasPadres = elite + cromosomasPadresNoElite\n",
    "        else:\n",
    "            cromosomasPadres = seleccion(marcoDeDatos, 10)\n",
    "        cromosomasHijos = crossover(cromosomasPadres)\n",
    "        if mutar: cromosomasHijosMutados = mutacion(cromosomasHijos)\n",
    "        poblacion_binarios = cromosomasHijosMutados\n",
    "        poblacion_decimal = convertirPoblacion(poblacion_binarios, False)\n",
    "        if ( (i==(ITERACIONES_IMPRIMIBLES[0] - 1)) or (i==(ITERACIONES_IMPRIMIBLES[1] - 1)) or (i == (ITERACIONES_IMPRIMIBLES[2] - 1)) ): # 20, 100, 200. le resto 1 xq empieza en 0.\n",
    "            marcoDeDatos = generarDataFrame(poblacion_decimal, poblacion_binarios)\n",
    "            marcoDeDatos_stats, stats = generarEstadisticas(marcoDeDatos)\n",
    "            \n",
    "            display(marcoDeDatos_stats.style.set_table_attributes(\"style='display:inline'\").set_caption('Tabla iteración: ' + str(i+1)))\n",
    "            hacerGrafico(estadisticas, i+1)\n",
    "\n",
    "# opciones extra hacer mismo grafico sin mutación. (Se ve como se estanca la función en maximos locales)\n",
    "print(\"CASO A: Método selección ruleta\")\n",
    "main(ruleta)\n",
    "print(\"CASO B: Método selección torneo\")\n",
    "main(torneo)\n",
    "print(\"CASO C: Método selección Ruleta con elitismo\")\n",
    "main(ruleta, tieneElitismo = True)\n",
    "print(\"CASO C: Método selección torneo con elitismo\")\n",
    "main(torneo, tieneElitismo = True)"
   ]
  }
 ],
 "metadata": {
  "kernelspec": {
   "display_name": "Python 3",
   "language": "python",
   "name": "python3"
  },
  "language_info": {
   "codemirror_mode": {
    "name": "ipython",
    "version": 3
   },
   "file_extension": ".py",
   "mimetype": "text/x-python",
   "name": "python",
   "nbconvert_exporter": "python",
   "pygments_lexer": "ipython3",
   "version": "3.11.0"
  },
  "orig_nbformat": 4
 },
 "nbformat": 4,
 "nbformat_minor": 2
}
