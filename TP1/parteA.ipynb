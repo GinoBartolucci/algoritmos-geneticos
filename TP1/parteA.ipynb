{
 "cells": [
  {
   "attachments": {},
   "cell_type": "markdown",
   "metadata": {},
   "source": [
    "## TP parte A - Ruleta, Crossover Mutacion"
   ]
  },
  {
   "attachments": {},
   "cell_type": "markdown",
   "metadata": {},
   "source": [
    "### Librerias"
   ]
  },
  {
   "cell_type": "code",
   "execution_count": 18,
   "metadata": {},
   "outputs": [],
   "source": [
    "import numpy as np\n",
    "import funciones as f\n"
   ]
  },
  {
   "attachments": {},
   "cell_type": "markdown",
   "metadata": {},
   "source": [
    "### Variables"
   ]
  },
  {
   "cell_type": "code",
   "execution_count": 19,
   "metadata": {},
   "outputs": [],
   "source": [
    "PROB_CROSSOVER = 0.75\n",
    "PROB_MUTACION = 0.05\n",
    "CICLOS = 200\n",
    "CANTIDAD_POBLACION = 10\n",
    "COEF = 1073741823 # 2^29"
   ]
  },
  {
   "attachments": {},
   "cell_type": "markdown",
   "metadata": {},
   "source": [
    "### Poblacion"
   ]
  },
  {
   "attachments": {},
   "cell_type": "markdown",
   "metadata": {},
   "source": [
    "#### Decimales"
   ]
  },
  {
   "cell_type": "code",
   "execution_count": 20,
   "metadata": {},
   "outputs": [
    {
     "data": {
      "text/plain": [
       "array([ 321542348,  514938062,  720918912, 1015637325,  303354065,\n",
       "       1024793637,  322300738,  425859065,  853106008,  370838857],\n",
       "      dtype=int64)"
      ]
     },
     "execution_count": 20,
     "metadata": {},
     "output_type": "execute_result"
    }
   ],
   "source": [
    "rng = np.random.default_rng() # Random Number Generator\n",
    "poblacion_decimal = rng.integers(low=0, high=COEF, size=CANTIDAD_POBLACION)\n",
    "poblacion_decimal"
   ]
  },
  {
   "attachments": {},
   "cell_type": "markdown",
   "metadata": {},
   "source": [
    "#### Binarios"
   ]
  },
  {
   "cell_type": "code",
   "execution_count": 21,
   "metadata": {},
   "outputs": [
    {
     "data": {
      "text/plain": [
       "['010011001010100101100011001100',\n",
       " '011110101100010101010011001110',\n",
       " '101010111110000101100110000000',\n",
       " '111100100010010110010101001101',\n",
       " '010010000101001101000011010001',\n",
       " '111101000101010001110000100101',\n",
       " '010011001101011110101101000010',\n",
       " '011001011000100001011111111001',\n",
       " '110010110110010101110101011000',\n",
       " '010110000110101000110101001001']"
      ]
     },
     "execution_count": 21,
     "metadata": {},
     "output_type": "execute_result"
    }
   ],
   "source": [
    "poblacion_binarios = f.convertirPoblacionBin(poblacion_decimal)\n",
    "poblacion_binarios"
   ]
  },
  {
   "attachments": {},
   "cell_type": "markdown",
   "metadata": {},
   "source": [
    "### Tabla de datos"
   ]
  },
  {
   "cell_type": "code",
   "execution_count": 22,
   "metadata": {},
   "outputs": [
    {
     "data": {
      "text/html": [
       "<div>\n",
       "<style scoped>\n",
       "    .dataframe tbody tr th:only-of-type {\n",
       "        vertical-align: middle;\n",
       "    }\n",
       "\n",
       "    .dataframe tbody tr th {\n",
       "        vertical-align: top;\n",
       "    }\n",
       "\n",
       "    .dataframe thead th {\n",
       "        text-align: right;\n",
       "    }\n",
       "</style>\n",
       "<table border=\"1\" class=\"dataframe\">\n",
       "  <thead>\n",
       "    <tr style=\"text-align: right;\">\n",
       "      <th></th>\n",
       "      <th>Decimales</th>\n",
       "      <th>Binarios</th>\n",
       "      <th>FuncionObjetivo</th>\n",
       "      <th>Fitness</th>\n",
       "    </tr>\n",
       "  </thead>\n",
       "  <tbody>\n",
       "    <tr>\n",
       "      <th>0</th>\n",
       "      <td>321542348</td>\n",
       "      <td>010011001010100101100011001100</td>\n",
       "      <td>0.089676</td>\n",
       "      <td>0.024543</td>\n",
       "    </tr>\n",
       "    <tr>\n",
       "      <th>1</th>\n",
       "      <td>514938062</td>\n",
       "      <td>011110101100010101010011001110</td>\n",
       "      <td>0.229991</td>\n",
       "      <td>0.062945</td>\n",
       "    </tr>\n",
       "    <tr>\n",
       "      <th>2</th>\n",
       "      <td>720918912</td>\n",
       "      <td>101010111110000101100110000000</td>\n",
       "      <td>0.450789</td>\n",
       "      <td>0.123375</td>\n",
       "    </tr>\n",
       "    <tr>\n",
       "      <th>3</th>\n",
       "      <td>1015637325</td>\n",
       "      <td>111100100010010110010101001101</td>\n",
       "      <td>0.894700</td>\n",
       "      <td>0.244867</td>\n",
       "    </tr>\n",
       "    <tr>\n",
       "      <th>4</th>\n",
       "      <td>303354065</td>\n",
       "      <td>010010000101001101000011010001</td>\n",
       "      <td>0.079818</td>\n",
       "      <td>0.021845</td>\n",
       "    </tr>\n",
       "    <tr>\n",
       "      <th>5</th>\n",
       "      <td>1024793637</td>\n",
       "      <td>111101000101010001110000100101</td>\n",
       "      <td>0.910905</td>\n",
       "      <td>0.249302</td>\n",
       "    </tr>\n",
       "    <tr>\n",
       "      <th>6</th>\n",
       "      <td>322300738</td>\n",
       "      <td>010011001101011110101101000010</td>\n",
       "      <td>0.090100</td>\n",
       "      <td>0.024659</td>\n",
       "    </tr>\n",
       "    <tr>\n",
       "      <th>7</th>\n",
       "      <td>425859065</td>\n",
       "      <td>011001011000100001011111111001</td>\n",
       "      <td>0.157301</td>\n",
       "      <td>0.043051</td>\n",
       "    </tr>\n",
       "    <tr>\n",
       "      <th>8</th>\n",
       "      <td>853106008</td>\n",
       "      <td>110010110110010101110101011000</td>\n",
       "      <td>0.631257</td>\n",
       "      <td>0.172766</td>\n",
       "    </tr>\n",
       "    <tr>\n",
       "      <th>9</th>\n",
       "      <td>370838857</td>\n",
       "      <td>010110000110101000110101001001</td>\n",
       "      <td>0.119281</td>\n",
       "      <td>0.032646</td>\n",
       "    </tr>\n",
       "  </tbody>\n",
       "</table>\n",
       "</div>"
      ],
      "text/plain": [
       "    Decimales                        Binarios  FuncionObjetivo   Fitness\n",
       "0   321542348  010011001010100101100011001100         0.089676  0.024543\n",
       "1   514938062  011110101100010101010011001110         0.229991  0.062945\n",
       "2   720918912  101010111110000101100110000000         0.450789  0.123375\n",
       "3  1015637325  111100100010010110010101001101         0.894700  0.244867\n",
       "4   303354065  010010000101001101000011010001         0.079818  0.021845\n",
       "5  1024793637  111101000101010001110000100101         0.910905  0.249302\n",
       "6   322300738  010011001101011110101101000010         0.090100  0.024659\n",
       "7   425859065  011001011000100001011111111001         0.157301  0.043051\n",
       "8   853106008  110010110110010101110101011000         0.631257  0.172766\n",
       "9   370838857  010110000110101000110101001001         0.119281  0.032646"
      ]
     },
     "execution_count": 22,
     "metadata": {},
     "output_type": "execute_result"
    }
   ],
   "source": [
    "marcoDeDatos = f.generarDataFrame(poblacion_decimal, poblacion_binarios, COEF)\n",
    "marcoDeDatos"
   ]
  },
  {
   "attachments": {},
   "cell_type": "markdown",
   "metadata": {},
   "source": [
    "#### Estadisticas Marco de datos"
   ]
  },
  {
   "cell_type": "code",
   "execution_count": 23,
   "metadata": {},
   "outputs": [
    {
     "data": {
      "text/html": [
       "<div>\n",
       "<style scoped>\n",
       "    .dataframe tbody tr th:only-of-type {\n",
       "        vertical-align: middle;\n",
       "    }\n",
       "\n",
       "    .dataframe tbody tr th {\n",
       "        vertical-align: top;\n",
       "    }\n",
       "\n",
       "    .dataframe thead th {\n",
       "        text-align: right;\n",
       "    }\n",
       "</style>\n",
       "<table border=\"1\" class=\"dataframe\">\n",
       "  <thead>\n",
       "    <tr style=\"text-align: right;\">\n",
       "      <th></th>\n",
       "      <th>Suma</th>\n",
       "      <th>Promedio</th>\n",
       "      <th>Maximo</th>\n",
       "    </tr>\n",
       "  </thead>\n",
       "  <tbody>\n",
       "    <tr>\n",
       "      <th>Función objetivo</th>\n",
       "      <td>3.653817</td>\n",
       "      <td>0.365382</td>\n",
       "      <td>0.910905</td>\n",
       "    </tr>\n",
       "    <tr>\n",
       "      <th>Fitness</th>\n",
       "      <td>1.000000</td>\n",
       "      <td>0.100000</td>\n",
       "      <td>0.249302</td>\n",
       "    </tr>\n",
       "  </tbody>\n",
       "</table>\n",
       "</div>"
      ],
      "text/plain": [
       "                      Suma  Promedio    Maximo\n",
       "Función objetivo  3.653817  0.365382  0.910905\n",
       "Fitness           1.000000  0.100000  0.249302"
      ]
     },
     "execution_count": 23,
     "metadata": {},
     "output_type": "execute_result"
    }
   ],
   "source": [
    "marcoDeDatos_stats = f.generarEstadisticas(marcoDeDatos)\n",
    "marcoDeDatos_stats"
   ]
  },
  {
   "attachments": {},
   "cell_type": "markdown",
   "metadata": {},
   "source": [
    "### Ruleta"
   ]
  },
  {
   "cell_type": "code",
   "execution_count": 24,
   "metadata": {},
   "outputs": [
    {
     "data": {
      "text/plain": [
       "array(['111100100010010110010101001101', '111101000101010001110000100101',\n",
       "       '111101000101010001110000100101', '111100100010010110010101001101',\n",
       "       '111100100010010110010101001101', '010010000101001101000011010001',\n",
       "       '111100100010010110010101001101', '101010111110000101100110000000',\n",
       "       '011001011000100001011111111001', '111101000101010001110000100101'],\n",
       "      dtype=object)"
      ]
     },
     "execution_count": 24,
     "metadata": {},
     "output_type": "execute_result"
    }
   ],
   "source": [
    "cromosomasPadresRuleta = f.ruleta(marcoDeDatos,CANTIDAD_POBLACION)\n",
    "cromosomasPadresRuleta"
   ]
  },
  {
   "attachments": {},
   "cell_type": "markdown",
   "metadata": {},
   "source": [
    "### Crossover"
   ]
  },
  {
   "cell_type": "code",
   "execution_count": 25,
   "metadata": {},
   "outputs": [
    {
     "data": {
      "text/plain": [
       "['111101000101010001110000100101',\n",
       " '111100100010010110010101001101',\n",
       " '111101000101010110010101001101',\n",
       " '111100100010010001110000100101',\n",
       " '111100100101001101000011010001',\n",
       " '010010000010010110010101001101',\n",
       " '111100101110000101100110000000',\n",
       " '101010110010010110010101001101',\n",
       " '011001011000100001011111111001',\n",
       " '111101000101010001110000100101']"
      ]
     },
     "execution_count": 25,
     "metadata": {},
     "output_type": "execute_result"
    }
   ],
   "source": [
    "crossover = f.crossover(cromosomasPadresRuleta,PROB_CROSSOVER)\n",
    "crossover"
   ]
  },
  {
   "attachments": {},
   "cell_type": "markdown",
   "metadata": {},
   "source": [
    "### Mutacion"
   ]
  },
  {
   "cell_type": "code",
   "execution_count": 26,
   "metadata": {},
   "outputs": [
    {
     "data": {
      "text/plain": [
       "['111101000101010001110000100101',\n",
       " '111100100010010110010101001101',\n",
       " '111101000101010110010101001101',\n",
       " '111100100010010001110000100101',\n",
       " '111100100101001101000011010001',\n",
       " '010010000010010110010101001101',\n",
       " '111100101110000101100110000000',\n",
       " '101010110010010110010101001101',\n",
       " '011001011000100001011111111001',\n",
       " '111101000101010001110000100101']"
      ]
     },
     "execution_count": 26,
     "metadata": {},
     "output_type": "execute_result"
    }
   ],
   "source": [
    "mutantes = f.mutacion(crossover, PROB_MUTACION)\n",
    "mutantes"
   ]
  },
  {
   "attachments": {},
   "cell_type": "markdown",
   "metadata": {},
   "source": [
    "### Tabla de datos Mutados"
   ]
  },
  {
   "cell_type": "code",
   "execution_count": 27,
   "metadata": {},
   "outputs": [
    {
     "data": {
      "text/html": [
       "<div>\n",
       "<style scoped>\n",
       "    .dataframe tbody tr th:only-of-type {\n",
       "        vertical-align: middle;\n",
       "    }\n",
       "\n",
       "    .dataframe tbody tr th {\n",
       "        vertical-align: top;\n",
       "    }\n",
       "\n",
       "    .dataframe thead th {\n",
       "        text-align: right;\n",
       "    }\n",
       "</style>\n",
       "<table border=\"1\" class=\"dataframe\">\n",
       "  <thead>\n",
       "    <tr style=\"text-align: right;\">\n",
       "      <th></th>\n",
       "      <th>Decimales</th>\n",
       "      <th>Binarios</th>\n",
       "      <th>FuncionObjetivo</th>\n",
       "      <th>Fitness</th>\n",
       "    </tr>\n",
       "  </thead>\n",
       "  <tbody>\n",
       "    <tr>\n",
       "      <th>0</th>\n",
       "      <td>1024793637</td>\n",
       "      <td>111101000101010001110000100101</td>\n",
       "      <td>0.910905</td>\n",
       "      <td>0.130093</td>\n",
       "    </tr>\n",
       "    <tr>\n",
       "      <th>1</th>\n",
       "      <td>1015637325</td>\n",
       "      <td>111100100010010110010101001101</td>\n",
       "      <td>0.894700</td>\n",
       "      <td>0.127779</td>\n",
       "    </tr>\n",
       "    <tr>\n",
       "      <th>2</th>\n",
       "      <td>1024812365</td>\n",
       "      <td>111101000101010110010101001101</td>\n",
       "      <td>0.910938</td>\n",
       "      <td>0.130098</td>\n",
       "    </tr>\n",
       "    <tr>\n",
       "      <th>3</th>\n",
       "      <td>1015618597</td>\n",
       "      <td>111100100010010001110000100101</td>\n",
       "      <td>0.894667</td>\n",
       "      <td>0.127774</td>\n",
       "    </tr>\n",
       "    <tr>\n",
       "      <th>4</th>\n",
       "      <td>1016385745</td>\n",
       "      <td>111100100101001101000011010001</td>\n",
       "      <td>0.896019</td>\n",
       "      <td>0.127967</td>\n",
       "    </tr>\n",
       "    <tr>\n",
       "      <th>5</th>\n",
       "      <td>302605645</td>\n",
       "      <td>010010000010010110010101001101</td>\n",
       "      <td>0.079424</td>\n",
       "      <td>0.011343</td>\n",
       "    </tr>\n",
       "    <tr>\n",
       "      <th>6</th>\n",
       "      <td>1018714496</td>\n",
       "      <td>111100101110000101100110000000</td>\n",
       "      <td>0.900130</td>\n",
       "      <td>0.128554</td>\n",
       "    </tr>\n",
       "    <tr>\n",
       "      <th>7</th>\n",
       "      <td>717841741</td>\n",
       "      <td>101010110010010110010101001101</td>\n",
       "      <td>0.446949</td>\n",
       "      <td>0.063832</td>\n",
       "    </tr>\n",
       "    <tr>\n",
       "      <th>8</th>\n",
       "      <td>425859065</td>\n",
       "      <td>011001011000100001011111111001</td>\n",
       "      <td>0.157301</td>\n",
       "      <td>0.022465</td>\n",
       "    </tr>\n",
       "    <tr>\n",
       "      <th>9</th>\n",
       "      <td>1024793637</td>\n",
       "      <td>111101000101010001110000100101</td>\n",
       "      <td>0.910905</td>\n",
       "      <td>0.130093</td>\n",
       "    </tr>\n",
       "  </tbody>\n",
       "</table>\n",
       "</div>"
      ],
      "text/plain": [
       "    Decimales                        Binarios  FuncionObjetivo   Fitness\n",
       "0  1024793637  111101000101010001110000100101         0.910905  0.130093\n",
       "1  1015637325  111100100010010110010101001101         0.894700  0.127779\n",
       "2  1024812365  111101000101010110010101001101         0.910938  0.130098\n",
       "3  1015618597  111100100010010001110000100101         0.894667  0.127774\n",
       "4  1016385745  111100100101001101000011010001         0.896019  0.127967\n",
       "5   302605645  010010000010010110010101001101         0.079424  0.011343\n",
       "6  1018714496  111100101110000101100110000000         0.900130  0.128554\n",
       "7   717841741  101010110010010110010101001101         0.446949  0.063832\n",
       "8   425859065  011001011000100001011111111001         0.157301  0.022465\n",
       "9  1024793637  111101000101010001110000100101         0.910905  0.130093"
      ]
     },
     "execution_count": 27,
     "metadata": {},
     "output_type": "execute_result"
    }
   ],
   "source": [
    "marcoDeDatos = f.generarDataFrame(f.convertirPoblacionDecimal(mutantes), mutantes, COEF)\n",
    "marcoDeDatos"
   ]
  },
  {
   "cell_type": "code",
   "execution_count": 28,
   "metadata": {},
   "outputs": [
    {
     "data": {
      "text/html": [
       "<div>\n",
       "<style scoped>\n",
       "    .dataframe tbody tr th:only-of-type {\n",
       "        vertical-align: middle;\n",
       "    }\n",
       "\n",
       "    .dataframe tbody tr th {\n",
       "        vertical-align: top;\n",
       "    }\n",
       "\n",
       "    .dataframe thead th {\n",
       "        text-align: right;\n",
       "    }\n",
       "</style>\n",
       "<table border=\"1\" class=\"dataframe\">\n",
       "  <thead>\n",
       "    <tr style=\"text-align: right;\">\n",
       "      <th></th>\n",
       "      <th>Suma</th>\n",
       "      <th>Promedio</th>\n",
       "      <th>Maximo</th>\n",
       "    </tr>\n",
       "  </thead>\n",
       "  <tbody>\n",
       "    <tr>\n",
       "      <th>Función objetivo</th>\n",
       "      <td>7.00194</td>\n",
       "      <td>0.700194</td>\n",
       "      <td>0.910938</td>\n",
       "    </tr>\n",
       "    <tr>\n",
       "      <th>Fitness</th>\n",
       "      <td>1.00000</td>\n",
       "      <td>0.100000</td>\n",
       "      <td>0.130098</td>\n",
       "    </tr>\n",
       "  </tbody>\n",
       "</table>\n",
       "</div>"
      ],
      "text/plain": [
       "                     Suma  Promedio    Maximo\n",
       "Función objetivo  7.00194  0.700194  0.910938\n",
       "Fitness           1.00000  0.100000  0.130098"
      ]
     },
     "execution_count": 28,
     "metadata": {},
     "output_type": "execute_result"
    }
   ],
   "source": [
    "marcoDeDatos_stats = f.generarEstadisticas(marcoDeDatos)\n",
    "marcoDeDatos_stats"
   ]
  },
  {
   "attachments": {},
   "cell_type": "markdown",
   "metadata": {},
   "source": [
    "## TP Parte B - Torneo, Crossover Mutacion"
   ]
  },
  {
   "attachments": {},
   "cell_type": "markdown",
   "metadata": {},
   "source": [
    "## TP Parte C - Ruleta, Elitismo, Crosover Mutacion"
   ]
  }
 ],
 "metadata": {
  "kernelspec": {
   "display_name": "Python 3",
   "language": "python",
   "name": "python3"
  },
  "language_info": {
   "codemirror_mode": {
    "name": "ipython",
    "version": 3
   },
   "file_extension": ".py",
   "mimetype": "text/x-python",
   "name": "python",
   "nbconvert_exporter": "python",
   "pygments_lexer": "ipython3",
   "version": "3.11.3"
  },
  "orig_nbformat": 4
 },
 "nbformat": 4,
 "nbformat_minor": 2
}
