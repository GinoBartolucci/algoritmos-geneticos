{
 "cells": [
  {
   "attachments": {},
   "cell_type": "markdown",
   "metadata": {},
   "source": [
    "## TP parte A - Ruleta, Crossover Mutacion"
   ]
  },
  {
   "attachments": {},
   "cell_type": "markdown",
   "metadata": {},
   "source": [
    "### Librerias"
   ]
  },
  {
   "cell_type": "code",
   "execution_count": 78,
   "metadata": {},
   "outputs": [],
   "source": [
    "import numpy as np\n",
    "import funciones as f"
   ]
  },
  {
   "attachments": {},
   "cell_type": "markdown",
   "metadata": {},
   "source": [
    "### Variables"
   ]
  },
  {
   "cell_type": "code",
   "execution_count": 79,
   "metadata": {},
   "outputs": [],
   "source": [
    "PROB_CROSSOVER = 0.75\n",
    "PROB_MUTACION = 0.05\n",
    "CICLOS = 200\n",
    "CANTIDAD_POBLACION = 10\n",
    "COEF = 1073741823 # 2^29"
   ]
  },
  {
   "attachments": {},
   "cell_type": "markdown",
   "metadata": {},
   "source": [
    "### Poblacion"
   ]
  },
  {
   "attachments": {},
   "cell_type": "markdown",
   "metadata": {},
   "source": [
    "#### Decimales"
   ]
  },
  {
   "cell_type": "code",
   "execution_count": 80,
   "metadata": {},
   "outputs": [
    {
     "data": {
      "text/plain": [
       "array([ 750776422,  244100195,  846803254,  340116676,  219233270,\n",
       "        856164639,  690076227,  726122922, 1061347010,  419950681],\n",
       "      dtype=int64)"
      ]
     },
     "execution_count": 80,
     "metadata": {},
     "output_type": "execute_result"
    }
   ],
   "source": [
    "rng = np.random.default_rng(12345) # Random Number Generator\n",
    "poblacion_decimal = rng.integers(low=0, high=COEF, size=CANTIDAD_POBLACION)\n",
    "poblacion_decimal"
   ]
  },
  {
   "attachments": {},
   "cell_type": "markdown",
   "metadata": {},
   "source": [
    "#### Binarios"
   ]
  },
  {
   "cell_type": "code",
   "execution_count": 81,
   "metadata": {},
   "outputs": [
    {
     "data": {
      "text/plain": [
       "['101100101111111111000001100110',\n",
       " '001110100011001010110001100011',\n",
       " '110010011110010011000100110110',\n",
       " '010100010001011100010011000100',\n",
       " '001101000100010011101111110110',\n",
       " '110011000010000000100100011111',\n",
       " '101001001000011011101001000011',\n",
       " '101011010001111100000110101010',\n",
       " '111111010000101101111011000010',\n",
       " '011001000001111111000001011001']"
      ]
     },
     "execution_count": 81,
     "metadata": {},
     "output_type": "execute_result"
    }
   ],
   "source": [
    "poblacion_binarios = f.Funciones.convertirPoblacionBin(poblacion_decimal)\n",
    "poblacion_binarios"
   ]
  },
  {
   "attachments": {},
   "cell_type": "markdown",
   "metadata": {},
   "source": [
    "### Tabla de datos"
   ]
  },
  {
   "cell_type": "code",
   "execution_count": 82,
   "metadata": {},
   "outputs": [
    {
     "data": {
      "text/html": [
       "<div>\n",
       "<style scoped>\n",
       "    .dataframe tbody tr th:only-of-type {\n",
       "        vertical-align: middle;\n",
       "    }\n",
       "\n",
       "    .dataframe tbody tr th {\n",
       "        vertical-align: top;\n",
       "    }\n",
       "\n",
       "    .dataframe thead th {\n",
       "        text-align: right;\n",
       "    }\n",
       "</style>\n",
       "<table border=\"1\" class=\"dataframe\">\n",
       "  <thead>\n",
       "    <tr style=\"text-align: right;\">\n",
       "      <th></th>\n",
       "      <th>Decimales</th>\n",
       "      <th>Binarios</th>\n",
       "      <th>FuncionObjetivo</th>\n",
       "      <th>Fitness</th>\n",
       "    </tr>\n",
       "  </thead>\n",
       "  <tbody>\n",
       "    <tr>\n",
       "      <th>0</th>\n",
       "      <td>750776422</td>\n",
       "      <td>101100101111111111000001100110</td>\n",
       "      <td>0.488902</td>\n",
       "      <td>0.124063</td>\n",
       "    </tr>\n",
       "    <tr>\n",
       "      <th>1</th>\n",
       "      <td>244100195</td>\n",
       "      <td>001110100011001010110001100011</td>\n",
       "      <td>0.051682</td>\n",
       "      <td>0.013115</td>\n",
       "    </tr>\n",
       "    <tr>\n",
       "      <th>2</th>\n",
       "      <td>846803254</td>\n",
       "      <td>110010011110010011000100110110</td>\n",
       "      <td>0.621964</td>\n",
       "      <td>0.157829</td>\n",
       "    </tr>\n",
       "    <tr>\n",
       "      <th>3</th>\n",
       "      <td>340116676</td>\n",
       "      <td>010100010001011100010011000100</td>\n",
       "      <td>0.100336</td>\n",
       "      <td>0.025461</td>\n",
       "    </tr>\n",
       "    <tr>\n",
       "      <th>4</th>\n",
       "      <td>219233270</td>\n",
       "      <td>001101000100010011101111110110</td>\n",
       "      <td>0.041688</td>\n",
       "      <td>0.010579</td>\n",
       "    </tr>\n",
       "    <tr>\n",
       "      <th>5</th>\n",
       "      <td>856164639</td>\n",
       "      <td>110011000010000000100100011111</td>\n",
       "      <td>0.635792</td>\n",
       "      <td>0.161338</td>\n",
       "    </tr>\n",
       "    <tr>\n",
       "      <th>6</th>\n",
       "      <td>690076227</td>\n",
       "      <td>101001001000011011101001000011</td>\n",
       "      <td>0.413042</td>\n",
       "      <td>0.104813</td>\n",
       "    </tr>\n",
       "    <tr>\n",
       "      <th>7</th>\n",
       "      <td>726122922</td>\n",
       "      <td>101011010001111100000110101010</td>\n",
       "      <td>0.457320</td>\n",
       "      <td>0.116049</td>\n",
       "    </tr>\n",
       "    <tr>\n",
       "      <th>8</th>\n",
       "      <td>1061347010</td>\n",
       "      <td>111111010000101101111011000010</td>\n",
       "      <td>0.977046</td>\n",
       "      <td>0.247935</td>\n",
       "    </tr>\n",
       "    <tr>\n",
       "      <th>9</th>\n",
       "      <td>419950681</td>\n",
       "      <td>011001000001111111000001011001</td>\n",
       "      <td>0.152967</td>\n",
       "      <td>0.038817</td>\n",
       "    </tr>\n",
       "  </tbody>\n",
       "</table>\n",
       "</div>"
      ],
      "text/plain": [
       "    Decimales                        Binarios  FuncionObjetivo   Fitness\n",
       "0   750776422  101100101111111111000001100110         0.488902  0.124063\n",
       "1   244100195  001110100011001010110001100011         0.051682  0.013115\n",
       "2   846803254  110010011110010011000100110110         0.621964  0.157829\n",
       "3   340116676  010100010001011100010011000100         0.100336  0.025461\n",
       "4   219233270  001101000100010011101111110110         0.041688  0.010579\n",
       "5   856164639  110011000010000000100100011111         0.635792  0.161338\n",
       "6   690076227  101001001000011011101001000011         0.413042  0.104813\n",
       "7   726122922  101011010001111100000110101010         0.457320  0.116049\n",
       "8  1061347010  111111010000101101111011000010         0.977046  0.247935\n",
       "9   419950681  011001000001111111000001011001         0.152967  0.038817"
      ]
     },
     "execution_count": 82,
     "metadata": {},
     "output_type": "execute_result"
    }
   ],
   "source": [
    "marcoDeDatos = f.Funciones.generarDataFrame(poblacion_decimal, poblacion_binarios, COEF)\n",
    "marcoDeDatos"
   ]
  },
  {
   "attachments": {},
   "cell_type": "markdown",
   "metadata": {},
   "source": [
    "#### Estadisticas Marco de datos"
   ]
  },
  {
   "cell_type": "code",
   "execution_count": 83,
   "metadata": {},
   "outputs": [
    {
     "data": {
      "text/html": [
       "<div>\n",
       "<style scoped>\n",
       "    .dataframe tbody tr th:only-of-type {\n",
       "        vertical-align: middle;\n",
       "    }\n",
       "\n",
       "    .dataframe tbody tr th {\n",
       "        vertical-align: top;\n",
       "    }\n",
       "\n",
       "    .dataframe thead th {\n",
       "        text-align: right;\n",
       "    }\n",
       "</style>\n",
       "<table border=\"1\" class=\"dataframe\">\n",
       "  <thead>\n",
       "    <tr style=\"text-align: right;\">\n",
       "      <th></th>\n",
       "      <th>Suma</th>\n",
       "      <th>Promedio</th>\n",
       "      <th>Maximo</th>\n",
       "    </tr>\n",
       "  </thead>\n",
       "  <tbody>\n",
       "    <tr>\n",
       "      <th>Función objetivo</th>\n",
       "      <td>3.940738</td>\n",
       "      <td>0.394074</td>\n",
       "      <td>0.977046</td>\n",
       "    </tr>\n",
       "    <tr>\n",
       "      <th>Fitness</th>\n",
       "      <td>1.000000</td>\n",
       "      <td>0.100000</td>\n",
       "      <td>0.247935</td>\n",
       "    </tr>\n",
       "  </tbody>\n",
       "</table>\n",
       "</div>"
      ],
      "text/plain": [
       "                      Suma  Promedio    Maximo\n",
       "Función objetivo  3.940738  0.394074  0.977046\n",
       "Fitness           1.000000  0.100000  0.247935"
      ]
     },
     "execution_count": 83,
     "metadata": {},
     "output_type": "execute_result"
    }
   ],
   "source": [
    "marcoDeDatos_stats = f.Funciones.generarEstadisticas(marcoDeDatos)\n",
    "marcoDeDatos_stats"
   ]
  },
  {
   "attachments": {},
   "cell_type": "markdown",
   "metadata": {},
   "source": [
    "### Ruleta"
   ]
  },
  {
   "cell_type": "code",
   "execution_count": 84,
   "metadata": {},
   "outputs": [
    {
     "data": {
      "text/plain": [
       "array(['111111010000101101111011000010', '101011010001111100000110101010',\n",
       "       '101001001000011011101001000011', '101001001000011011101001000011',\n",
       "       '101011010001111100000110101010', '110011000010000000100100011111',\n",
       "       '110011000010000000100100011111', '101011010001111100000110101010',\n",
       "       '101100101111111111000001100110', '101011010001111100000110101010'],\n",
       "      dtype=object)"
      ]
     },
     "execution_count": 84,
     "metadata": {},
     "output_type": "execute_result"
    }
   ],
   "source": [
    "cromosomasPadresRuleta = f.Funciones.ruleta(marcoDeDatos,CANTIDAD_POBLACION)\n",
    "cromosomasPadresRuleta"
   ]
  },
  {
   "attachments": {},
   "cell_type": "markdown",
   "metadata": {},
   "source": [
    "### Crossover"
   ]
  },
  {
   "cell_type": "code",
   "execution_count": 85,
   "metadata": {},
   "outputs": [
    {
     "data": {
      "text/plain": [
       "['111111010001111100000110101010',\n",
       " '101011010000101101111011000010',\n",
       " '101001001000011011101001000011',\n",
       " '101001001000011011101001000011',\n",
       " '101011010001111100100100011111',\n",
       " '110011000010000000000110101010',\n",
       " '101011010001111100000110101010',\n",
       " '110011000010000000100100011111',\n",
       " '101100101111111111000110101010',\n",
       " '101011010001111100000001100110']"
      ]
     },
     "execution_count": 85,
     "metadata": {},
     "output_type": "execute_result"
    }
   ],
   "source": [
    "cromosomasHijosRuleta = f.Funciones.crossover(cromosomasPadresRuleta,PROB_CROSSOVER)\n",
    "cromosomasHijosRuleta"
   ]
  },
  {
   "attachments": {},
   "cell_type": "markdown",
   "metadata": {},
   "source": [
    "### Mutacion"
   ]
  },
  {
   "cell_type": "code",
   "execution_count": null,
   "metadata": {},
   "outputs": [],
   "source": []
  },
  {
   "attachments": {},
   "cell_type": "markdown",
   "metadata": {},
   "source": [
    "## TP Parte B - Torneo, Crossover Mutacion"
   ]
  },
  {
   "attachments": {},
   "cell_type": "markdown",
   "metadata": {},
   "source": [
    "## TP Parte C - Ruleta, Elitismo, Crosover Mutacion"
   ]
  }
 ],
 "metadata": {
  "kernelspec": {
   "display_name": "Python 3",
   "language": "python",
   "name": "python3"
  },
  "language_info": {
   "codemirror_mode": {
    "name": "ipython",
    "version": 3
   },
   "file_extension": ".py",
   "mimetype": "text/x-python",
   "name": "python",
   "nbconvert_exporter": "python",
   "pygments_lexer": "ipython3",
   "version": "3.11.3"
  },
  "orig_nbformat": 4
 },
 "nbformat": 4,
 "nbformat_minor": 2
}
