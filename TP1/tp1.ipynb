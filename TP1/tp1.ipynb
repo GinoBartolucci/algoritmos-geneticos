{
 "cells": [
  {
   "cell_type": "markdown",
   "metadata": {},
   "source": [
    "# Trabajo práctico número 1"
   ]
  },
  {
   "cell_type": "markdown",
   "metadata": {},
   "source": [
    "## Hacer un programa que utilice un Algoritmo Genético Canónico para buscar un máximo de la función:"
   ]
  },
  {
   "cell_type": "markdown",
   "metadata": {},
   "source": [
    "#### f(x) = (x/coef)2 en el dominio [0 , 2^30 - 1]\n",
    "donde coef = (2^30)-1\n",
    "teniendo en cuenta los siguientes datos:\n",
    "\n",
    "1– Probabilidad de Crossover = 0,75\n",
    "\n",
    "2– Probabilidad de Mutación = 0,05\n",
    "\n",
    "3– Población Inicial: 10 individuos\n",
    "\n",
    "4– Ciclos del programa: 200\n",
    "\n",
    "5– Método de Selección: Ruleta\n",
    "\n",
    "6– Método de Crossover: 1 Punto\n",
    "\n",
    "7– Método de Mutación: invertida"
   ]
  },
  {
   "cell_type": "markdown",
   "metadata": {},
   "source": [
    "#### En binario las posibles soluciones iran desde 00000000 hasta 11100101.\n",
    "Luego el espacio solución estara formado por\n",
    "cromosomas de longitud 8 y cada gen sera un dígito\n",
    "binario 0 o 1"
   ]
  },
  {
   "cell_type": "markdown",
   "metadata": {},
   "source": [
    "### Constantes"
   ]
  },
  {
   "cell_type": "code",
   "execution_count": 1,
   "metadata": {},
   "outputs": [],
   "source": [
    "PROB_CROSSOVER = 0.75\n",
    "PROB_MUTACION = 0.05\n",
    "CICLOS = 20\n",
    "CANTIDAD_POBLACION = 10\n",
    "COEF = 1073741823"
   ]
  },
  {
   "cell_type": "markdown",
   "metadata": {},
   "source": [
    "### Librerías necesarias"
   ]
  },
  {
   "cell_type": "code",
   "execution_count": 2,
   "metadata": {},
   "outputs": [],
   "source": [
    "import numpy as np\n",
    "import pandas as pd\n",
    "import matplotlib.pyplot as plt"
   ]
  },
  {
   "cell_type": "markdown",
   "metadata": {},
   "source": [
    "### Generando poblacón inicial aleatoria"
   ]
  },
  {
   "cell_type": "code",
   "execution_count": 3,
   "metadata": {},
   "outputs": [
    {
     "data": {
      "text/plain": [
       "array([ 750776422,  244100195,  846803254,  340116676,  219233270,\n",
       "        856164639,  690076227,  726122922, 1061347010,  419950681],\n",
       "      dtype=int64)"
      ]
     },
     "execution_count": 3,
     "metadata": {},
     "output_type": "execute_result"
    }
   ],
   "source": [
    "rng = np.random.default_rng(12345)\n",
    "# El 12345 es la semilla, poner sin semilla para q en cada ejecución genere nuevos aleatorios.\n",
    "poblacion_decimal = rng.integers(low=0, high=COEF, size=CANTIDAD_POBLACION)\n",
    "poblacion_decimal"
   ]
  },
  {
   "cell_type": "markdown",
   "metadata": {},
   "source": [
    "#### Convirtiendo la población inicial a binario"
   ]
  },
  {
   "cell_type": "code",
   "execution_count": 42,
   "metadata": {},
   "outputs": [],
   "source": [
    "def convertirPoblacionBin(pob_dec):\n",
    "    pob_bin_cromosomas= np.zeros([10,30], int)\n",
    "    pob_bin = []\n",
    "    contador = 0\n",
    "    for decimal in pob_dec:\n",
    "        # convirtiendo cada número decimal en binario de 8 dígitos.\n",
    "        pob_bin.append(format(decimal,'030b'))\n",
    "    return pob_bin\n"
   ]
  },
  {
   "cell_type": "code",
   "execution_count": 43,
   "metadata": {},
   "outputs": [
    {
     "data": {
      "text/plain": [
       "['101100101111111111000001100110',\n",
       " '001110100011001010110001100011',\n",
       " '110010011110010011000100110110',\n",
       " '010100010001011100010011000100',\n",
       " '001101000100010011101111110110',\n",
       " '110011000010000000100100011111',\n",
       " '101001001000011011101001000011',\n",
       " '101011010001111100000110101010',\n",
       " '111111010000101101111011000010',\n",
       " '011001000001111111000001011001']"
      ]
     },
     "execution_count": 43,
     "metadata": {},
     "output_type": "execute_result"
    }
   ],
   "source": [
    "poblacion_binarios= convertirPoblacionBin(poblacion_decimal)\n",
    "poblacion_binarios"
   ]
  },
  {
   "cell_type": "markdown",
   "metadata": {},
   "source": [
    "### Función objetivo"
   ]
  },
  {
   "cell_type": "code",
   "execution_count": 44,
   "metadata": {},
   "outputs": [],
   "source": [
    "#(x/coef)2\n",
    "# Pasar población decimal\n",
    "def funcionObjetivo(pob):\n",
    "    colObjetivo=[]\n",
    "    # El nombre cromosoma es por semántica, en realidad va a trabajar con cada valor decimal\n",
    "    for cromosoma in pob:\n",
    "        colObjetivo.append((int(cromosoma)/int(COEF))**2)\n",
    "    #convertir lista en numpy arrray (para operaciones matemáticas)\n",
    "    npColObjetivo = np.array(colObjetivo)\n",
    "    return npColObjetivo"
   ]
  },
  {
   "cell_type": "markdown",
   "metadata": {},
   "source": [
    "### Generando un marco de datos"
   ]
  },
  {
   "cell_type": "code",
   "execution_count": 45,
   "metadata": {},
   "outputs": [
    {
     "data": {
      "text/html": [
       "<div>\n",
       "<style scoped>\n",
       "    .dataframe tbody tr th:only-of-type {\n",
       "        vertical-align: middle;\n",
       "    }\n",
       "\n",
       "    .dataframe tbody tr th {\n",
       "        vertical-align: top;\n",
       "    }\n",
       "\n",
       "    .dataframe thead th {\n",
       "        text-align: right;\n",
       "    }\n",
       "</style>\n",
       "<table border=\"1\" class=\"dataframe\">\n",
       "  <thead>\n",
       "    <tr style=\"text-align: right;\">\n",
       "      <th></th>\n",
       "      <th>Decimales</th>\n",
       "      <th>Binarios</th>\n",
       "      <th>FuncionObjetivo</th>\n",
       "      <th>Fitness</th>\n",
       "    </tr>\n",
       "  </thead>\n",
       "  <tbody>\n",
       "    <tr>\n",
       "      <th>0</th>\n",
       "      <td>750776422</td>\n",
       "      <td>101100101111111111000001100110</td>\n",
       "      <td>0.488902</td>\n",
       "      <td>0.124063</td>\n",
       "    </tr>\n",
       "    <tr>\n",
       "      <th>1</th>\n",
       "      <td>244100195</td>\n",
       "      <td>001110100011001010110001100011</td>\n",
       "      <td>0.051682</td>\n",
       "      <td>0.013115</td>\n",
       "    </tr>\n",
       "    <tr>\n",
       "      <th>2</th>\n",
       "      <td>846803254</td>\n",
       "      <td>110010011110010011000100110110</td>\n",
       "      <td>0.621964</td>\n",
       "      <td>0.157829</td>\n",
       "    </tr>\n",
       "    <tr>\n",
       "      <th>3</th>\n",
       "      <td>340116676</td>\n",
       "      <td>010100010001011100010011000100</td>\n",
       "      <td>0.100336</td>\n",
       "      <td>0.025461</td>\n",
       "    </tr>\n",
       "    <tr>\n",
       "      <th>4</th>\n",
       "      <td>219233270</td>\n",
       "      <td>001101000100010011101111110110</td>\n",
       "      <td>0.041688</td>\n",
       "      <td>0.010579</td>\n",
       "    </tr>\n",
       "    <tr>\n",
       "      <th>5</th>\n",
       "      <td>856164639</td>\n",
       "      <td>110011000010000000100100011111</td>\n",
       "      <td>0.635792</td>\n",
       "      <td>0.161338</td>\n",
       "    </tr>\n",
       "    <tr>\n",
       "      <th>6</th>\n",
       "      <td>690076227</td>\n",
       "      <td>101001001000011011101001000011</td>\n",
       "      <td>0.413042</td>\n",
       "      <td>0.104813</td>\n",
       "    </tr>\n",
       "    <tr>\n",
       "      <th>7</th>\n",
       "      <td>726122922</td>\n",
       "      <td>101011010001111100000110101010</td>\n",
       "      <td>0.457320</td>\n",
       "      <td>0.116049</td>\n",
       "    </tr>\n",
       "    <tr>\n",
       "      <th>8</th>\n",
       "      <td>1061347010</td>\n",
       "      <td>111111010000101101111011000010</td>\n",
       "      <td>0.977046</td>\n",
       "      <td>0.247935</td>\n",
       "    </tr>\n",
       "    <tr>\n",
       "      <th>9</th>\n",
       "      <td>419950681</td>\n",
       "      <td>011001000001111111000001011001</td>\n",
       "      <td>0.152967</td>\n",
       "      <td>0.038817</td>\n",
       "    </tr>\n",
       "  </tbody>\n",
       "</table>\n",
       "</div>"
      ],
      "text/plain": [
       "    Decimales                        Binarios  FuncionObjetivo   Fitness\n",
       "0   750776422  101100101111111111000001100110         0.488902  0.124063\n",
       "1   244100195  001110100011001010110001100011         0.051682  0.013115\n",
       "2   846803254  110010011110010011000100110110         0.621964  0.157829\n",
       "3   340116676  010100010001011100010011000100         0.100336  0.025461\n",
       "4   219233270  001101000100010011101111110110         0.041688  0.010579\n",
       "5   856164639  110011000010000000100100011111         0.635792  0.161338\n",
       "6   690076227  101001001000011011101001000011         0.413042  0.104813\n",
       "7   726122922  101011010001111100000110101010         0.457320  0.116049\n",
       "8  1061347010  111111010000101101111011000010         0.977046  0.247935\n",
       "9   419950681  011001000001111111000001011001         0.152967  0.038817"
      ]
     },
     "metadata": {},
     "output_type": "display_data"
    }
   ],
   "source": [
    "def generarDataFrame(pob_dec, pob_bin):\n",
    "    data = {'Decimales': pob_dec, 'Binarios': pob_bin, 'FuncionObjetivo':funcionObjetivo(pob_dec)}\n",
    "    dataFrame = pd.DataFrame(data)\n",
    "    dataFrame['Fitness'] = dataFrame['FuncionObjetivo'] / dataFrame['FuncionObjetivo'].sum()\n",
    "    return dataFrame\n",
    "\n",
    "marcoDeDatos = generarDataFrame(poblacion_decimal, poblacion_binarios)\n",
    "display(marcoDeDatos)"
   ]
  },
  {
   "cell_type": "markdown",
   "metadata": {},
   "source": [
    "#### Estadisticas"
   ]
  },
  {
   "cell_type": "code",
   "execution_count": 46,
   "metadata": {},
   "outputs": [
    {
     "data": {
      "text/html": [
       "<div>\n",
       "<style scoped>\n",
       "    .dataframe tbody tr th:only-of-type {\n",
       "        vertical-align: middle;\n",
       "    }\n",
       "\n",
       "    .dataframe tbody tr th {\n",
       "        vertical-align: top;\n",
       "    }\n",
       "\n",
       "    .dataframe thead th {\n",
       "        text-align: right;\n",
       "    }\n",
       "</style>\n",
       "<table border=\"1\" class=\"dataframe\">\n",
       "  <thead>\n",
       "    <tr style=\"text-align: right;\">\n",
       "      <th></th>\n",
       "      <th>Suma</th>\n",
       "      <th>Promedio</th>\n",
       "      <th>Maximo</th>\n",
       "    </tr>\n",
       "  </thead>\n",
       "  <tbody>\n",
       "    <tr>\n",
       "      <th>Función objetivo</th>\n",
       "      <td>3.940738</td>\n",
       "      <td>0.394074</td>\n",
       "      <td>0.977046</td>\n",
       "    </tr>\n",
       "    <tr>\n",
       "      <th>Fitness</th>\n",
       "      <td>1.000000</td>\n",
       "      <td>0.100000</td>\n",
       "      <td>0.247935</td>\n",
       "    </tr>\n",
       "  </tbody>\n",
       "</table>\n",
       "</div>"
      ],
      "text/plain": [
       "                      Suma  Promedio    Maximo\n",
       "Función objetivo  3.940738  0.394074  0.977046\n",
       "Fitness           1.000000  0.100000  0.247935"
      ]
     },
     "metadata": {},
     "output_type": "display_data"
    }
   ],
   "source": [
    "def generarEstadisticas(dataFrame):\n",
    "    stats = {'Suma':[ dataFrame['FuncionObjetivo'].sum(), dataFrame['Fitness'].sum() ], 'Promedio': [ dataFrame['FuncionObjetivo'].mean(), dataFrame['Fitness'].mean() ], 'Maximo': [ dataFrame['FuncionObjetivo'].max(), dataFrame['Fitness'].max() ]}\n",
    "    dataFrame_stats = pd.DataFrame(stats, index = ['Función objetivo', 'Fitness'])\n",
    "    return dataFrame_stats\n",
    "\n",
    "marcoDeDatos_stats = generarEstadisticas(marcoDeDatos)\n",
    "\n",
    "display(marcoDeDatos_stats)"
   ]
  },
  {
   "cell_type": "markdown",
   "metadata": {},
   "source": [
    "### Generando una nueva población a partir de otra"
   ]
  },
  {
   "cell_type": "markdown",
   "metadata": {},
   "source": [
    "Selección de padres para la próxima generación"
   ]
  },
  {
   "cell_type": "markdown",
   "metadata": {},
   "source": [
    "#### Método ruleta"
   ]
  },
  {
   "cell_type": "code",
   "execution_count": 58,
   "metadata": {},
   "outputs": [
    {
     "data": {
      "text/plain": [
       "array(['101011010001111100000110101010', '110010011110010011000100110110',\n",
       "       '110010011110010011000100110110', '101001001000011011101001000011',\n",
       "       '111111010000101101111011000010'], dtype=object)"
      ]
     },
     "execution_count": 58,
     "metadata": {},
     "output_type": "execute_result"
    }
   ],
   "source": [
    "def ruleta(pob_dec, pob_bin):\n",
    "    dataFrame = generarDataFrame(pob_dec, pob_bin)\n",
    "    probabilidades = np.array(dataFrame['Fitness']) #Asigna probabilidad basada en el fitness\n",
    "    cromosomas = np.array(dataFrame['Binarios'])\n",
    "    np.random.seed(123) \n",
    "    salida = np.random.choice(cromosomas, size=int(CANTIDAD_POBLACION/2), p=probabilidades)\n",
    "    return salida\n",
    "\n",
    "ruleta(poblacion_decimal, poblacion_binarios)"
   ]
  }
 ],
 "metadata": {
  "kernelspec": {
   "display_name": "Python 3.9.13 64-bit",
   "language": "python",
   "name": "python3"
  },
  "language_info": {
   "codemirror_mode": {
    "name": "ipython",
    "version": 3
   },
   "file_extension": ".py",
   "mimetype": "text/x-python",
   "name": "python",
   "nbconvert_exporter": "python",
   "pygments_lexer": "ipython3",
   "version": "3.9.13"
  },
  "orig_nbformat": 4,
  "vscode": {
   "interpreter": {
    "hash": "f1a5d23aa71d821cb89ea9bf9e09d6a9661f348a5982dd36c24152f8b8a929a8"
   }
  }
 },
 "nbformat": 4,
 "nbformat_minor": 2
}
