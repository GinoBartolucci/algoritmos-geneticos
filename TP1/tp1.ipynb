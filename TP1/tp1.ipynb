{
 "cells": [
  {
   "cell_type": "markdown",
   "metadata": {},
   "source": [
    "# Trabajo práctico número 1"
   ]
  },
  {
   "cell_type": "markdown",
   "metadata": {},
   "source": [
    "## Hacer un programa que utilice un Algoritmo Genético Canónico para buscar un máximo de la función:"
   ]
  },
  {
   "cell_type": "markdown",
   "metadata": {},
   "source": [
    "#### f(x) = (x/coef)2 en el dominio [0 , 2^(30 - 1)]\n",
    "donde coef = 2^(30-1)\n",
    "teniendo en cuenta los siguientes datos:\n",
    "\n",
    "1– Probabilidad de Crossover = 0,75\n",
    "\n",
    "2– Probabilidad de Mutación = 0,05\n",
    "\n",
    "3– Población Inicial: 10 individuos\n",
    "\n",
    "4– Ciclos del programa: 200\n",
    "\n",
    "5– Método de Selección: Ruleta\n",
    "\n",
    "6– Método de Crossover: 1 Punto\n",
    "\n",
    "7– Método de Mutación: invertida"
   ]
  },
  {
   "cell_type": "markdown",
   "metadata": {},
   "source": [
    "#### El espacio solución estara formado por cromosomas de longitud 30\n",
    " y cada gen sera un dígito\n",
    "binario 0 o 1"
   ]
  },
  {
   "cell_type": "markdown",
   "metadata": {},
   "source": [
    "### Constantes"
   ]
  },
  {
   "cell_type": "code",
   "execution_count": 384,
   "metadata": {},
   "outputs": [],
   "source": [
    "PROB_CROSSOVER = 0.75\n",
    "PROB_MUTACION = 0.05\n",
    "CICLOS = 200\n",
    "CANTIDAD_POBLACION = 10\n",
    "COEF = 1073741823 # 2^29"
   ]
  },
  {
   "cell_type": "markdown",
   "metadata": {},
   "source": [
    "### Librerías necesarias"
   ]
  },
  {
   "cell_type": "code",
   "execution_count": 385,
   "metadata": {},
   "outputs": [],
   "source": [
    "import numpy as np\n",
    "import pandas as pd\n",
    "import matplotlib.pyplot as plt"
   ]
  },
  {
   "cell_type": "markdown",
   "metadata": {},
   "source": [
    "### Generando población inicial aleatoria"
   ]
  },
  {
   "cell_type": "code",
   "execution_count": 386,
   "metadata": {},
   "outputs": [
    {
     "data": {
      "text/plain": [
       "array([ 750776422,  244100195,  846803254,  340116676,  219233270,\n",
       "        856164639,  690076227,  726122922, 1061347010,  419950681],\n",
       "      dtype=int64)"
      ]
     },
     "execution_count": 386,
     "metadata": {},
     "output_type": "execute_result"
    }
   ],
   "source": [
    "rng = np.random.default_rng(12345) # Random Number Generator\n",
    "# El 12345 es la semilla, poner sin semilla para q en cada ejecución genere nuevos aleatorios.\n",
    "poblacion_decimal = rng.integers(low=0, high=COEF, size=CANTIDAD_POBLACION)\n",
    "poblacion_decimal"
   ]
  },
  {
   "cell_type": "markdown",
   "metadata": {},
   "source": [
    "#### Convirtiendo la población inicial a binario"
   ]
  },
  {
   "cell_type": "code",
   "execution_count": 401,
   "metadata": {},
   "outputs": [
    {
     "data": {
      "text/plain": [
       "['101100101111111111000001100110',\n",
       " '001110100011001010110001100011',\n",
       " '110010011110010011000100110110',\n",
       " '010100010001011100010011000100',\n",
       " '001101000100010011101111110110',\n",
       " '110011000010000000100100011111',\n",
       " '101001001000011011101001000011',\n",
       " '101011010001111100000110101010',\n",
       " '111111010000101101111011000010',\n",
       " '011001000001111111000001011001']"
      ]
     },
     "execution_count": 401,
     "metadata": {},
     "output_type": "execute_result"
    }
   ],
   "source": [
    "def convertirPoblacionBin(pob_dec):\n",
    "    pob_bin = []\n",
    "    contador = 0\n",
    "    for decimal in pob_dec:\n",
    "        # convirtiendo cada número decimal en binario de 8 dígitos.\n",
    "        pob_bin.append(format(decimal,'030b'))\n",
    "    return pob_bin\n",
    "\n",
    "poblacion_binarios= convertirPoblacionBin(poblacion_decimal)\n",
    "poblacion_binarios"
   ]
  },
  {
   "cell_type": "markdown",
   "metadata": {},
   "source": [
    "### Función objetivo"
   ]
  },
  {
   "cell_type": "code",
   "execution_count": 389,
   "metadata": {},
   "outputs": [],
   "source": [
    "#(x/coef)2\n",
    "# Pasar población decimal\n",
    "def funcionObjetivo(pob):\n",
    "    colObjetivo=[]\n",
    "    # El nombre cromosoma es por semántica, en realidad va a trabajar con cada valor decimal\n",
    "    for cromosoma in pob:\n",
    "        colObjetivo.append((int(cromosoma)/int(COEF))**2)\n",
    "    #convertir lista en numpy arrray (para operaciones matemáticas)\n",
    "    npColObjetivo = np.array(colObjetivo)\n",
    "    return npColObjetivo"
   ]
  },
  {
   "cell_type": "markdown",
   "metadata": {},
   "source": [
    "### Generando un marco de datos"
   ]
  },
  {
   "cell_type": "code",
   "execution_count": 390,
   "metadata": {},
   "outputs": [
    {
     "data": {
      "text/html": [
       "<div>\n",
       "<style scoped>\n",
       "    .dataframe tbody tr th:only-of-type {\n",
       "        vertical-align: middle;\n",
       "    }\n",
       "\n",
       "    .dataframe tbody tr th {\n",
       "        vertical-align: top;\n",
       "    }\n",
       "\n",
       "    .dataframe thead th {\n",
       "        text-align: right;\n",
       "    }\n",
       "</style>\n",
       "<table border=\"1\" class=\"dataframe\">\n",
       "  <thead>\n",
       "    <tr style=\"text-align: right;\">\n",
       "      <th></th>\n",
       "      <th>Decimales</th>\n",
       "      <th>Binarios</th>\n",
       "      <th>FuncionObjetivo</th>\n",
       "      <th>Fitness</th>\n",
       "    </tr>\n",
       "  </thead>\n",
       "  <tbody>\n",
       "    <tr>\n",
       "      <th>0</th>\n",
       "      <td>750776422</td>\n",
       "      <td>101100101111111111000001100110</td>\n",
       "      <td>0.488902</td>\n",
       "      <td>0.124063</td>\n",
       "    </tr>\n",
       "    <tr>\n",
       "      <th>1</th>\n",
       "      <td>244100195</td>\n",
       "      <td>001110100011001010110001100011</td>\n",
       "      <td>0.051682</td>\n",
       "      <td>0.013115</td>\n",
       "    </tr>\n",
       "    <tr>\n",
       "      <th>2</th>\n",
       "      <td>846803254</td>\n",
       "      <td>110010011110010011000100110110</td>\n",
       "      <td>0.621964</td>\n",
       "      <td>0.157829</td>\n",
       "    </tr>\n",
       "    <tr>\n",
       "      <th>3</th>\n",
       "      <td>340116676</td>\n",
       "      <td>010100010001011100010011000100</td>\n",
       "      <td>0.100336</td>\n",
       "      <td>0.025461</td>\n",
       "    </tr>\n",
       "    <tr>\n",
       "      <th>4</th>\n",
       "      <td>219233270</td>\n",
       "      <td>001101000100010011101111110110</td>\n",
       "      <td>0.041688</td>\n",
       "      <td>0.010579</td>\n",
       "    </tr>\n",
       "    <tr>\n",
       "      <th>5</th>\n",
       "      <td>856164639</td>\n",
       "      <td>110011000010000000100100011111</td>\n",
       "      <td>0.635792</td>\n",
       "      <td>0.161338</td>\n",
       "    </tr>\n",
       "    <tr>\n",
       "      <th>6</th>\n",
       "      <td>690076227</td>\n",
       "      <td>101001001000011011101001000011</td>\n",
       "      <td>0.413042</td>\n",
       "      <td>0.104813</td>\n",
       "    </tr>\n",
       "    <tr>\n",
       "      <th>7</th>\n",
       "      <td>726122922</td>\n",
       "      <td>101011010001111100000110101010</td>\n",
       "      <td>0.457320</td>\n",
       "      <td>0.116049</td>\n",
       "    </tr>\n",
       "    <tr>\n",
       "      <th>8</th>\n",
       "      <td>1061347010</td>\n",
       "      <td>111111010000101101111011000010</td>\n",
       "      <td>0.977046</td>\n",
       "      <td>0.247935</td>\n",
       "    </tr>\n",
       "    <tr>\n",
       "      <th>9</th>\n",
       "      <td>419950681</td>\n",
       "      <td>011001000001111111000001011001</td>\n",
       "      <td>0.152967</td>\n",
       "      <td>0.038817</td>\n",
       "    </tr>\n",
       "  </tbody>\n",
       "</table>\n",
       "</div>"
      ],
      "text/plain": [
       "    Decimales                        Binarios  FuncionObjetivo   Fitness\n",
       "0   750776422  101100101111111111000001100110         0.488902  0.124063\n",
       "1   244100195  001110100011001010110001100011         0.051682  0.013115\n",
       "2   846803254  110010011110010011000100110110         0.621964  0.157829\n",
       "3   340116676  010100010001011100010011000100         0.100336  0.025461\n",
       "4   219233270  001101000100010011101111110110         0.041688  0.010579\n",
       "5   856164639  110011000010000000100100011111         0.635792  0.161338\n",
       "6   690076227  101001001000011011101001000011         0.413042  0.104813\n",
       "7   726122922  101011010001111100000110101010         0.457320  0.116049\n",
       "8  1061347010  111111010000101101111011000010         0.977046  0.247935\n",
       "9   419950681  011001000001111111000001011001         0.152967  0.038817"
      ]
     },
     "metadata": {},
     "output_type": "display_data"
    }
   ],
   "source": [
    "def generarDataFrame(pob_dec, pob_bin):\n",
    "    data = {'Decimales': pob_dec, 'Binarios': pob_bin, 'FuncionObjetivo':funcionObjetivo(pob_dec)}\n",
    "    dataFrame = pd.DataFrame(data)\n",
    "    dataFrame['Fitness'] = dataFrame['FuncionObjetivo'] / dataFrame['FuncionObjetivo'].sum()\n",
    "    return dataFrame\n",
    "\n",
    "marcoDeDatos = generarDataFrame(poblacion_decimal, poblacion_binarios)\n",
    "display(marcoDeDatos)"
   ]
  },
  {
   "cell_type": "markdown",
   "metadata": {},
   "source": [
    "#### Estadisticas"
   ]
  },
  {
   "cell_type": "code",
   "execution_count": 391,
   "metadata": {},
   "outputs": [
    {
     "data": {
      "text/html": [
       "<div>\n",
       "<style scoped>\n",
       "    .dataframe tbody tr th:only-of-type {\n",
       "        vertical-align: middle;\n",
       "    }\n",
       "\n",
       "    .dataframe tbody tr th {\n",
       "        vertical-align: top;\n",
       "    }\n",
       "\n",
       "    .dataframe thead th {\n",
       "        text-align: right;\n",
       "    }\n",
       "</style>\n",
       "<table border=\"1\" class=\"dataframe\">\n",
       "  <thead>\n",
       "    <tr style=\"text-align: right;\">\n",
       "      <th></th>\n",
       "      <th>Suma</th>\n",
       "      <th>Promedio</th>\n",
       "      <th>Maximo</th>\n",
       "    </tr>\n",
       "  </thead>\n",
       "  <tbody>\n",
       "    <tr>\n",
       "      <th>Función objetivo</th>\n",
       "      <td>3.940738</td>\n",
       "      <td>0.394074</td>\n",
       "      <td>0.977046</td>\n",
       "    </tr>\n",
       "    <tr>\n",
       "      <th>Fitness</th>\n",
       "      <td>1.000000</td>\n",
       "      <td>0.100000</td>\n",
       "      <td>0.247935</td>\n",
       "    </tr>\n",
       "  </tbody>\n",
       "</table>\n",
       "</div>"
      ],
      "text/plain": [
       "                      Suma  Promedio    Maximo\n",
       "Función objetivo  3.940738  0.394074  0.977046\n",
       "Fitness           1.000000  0.100000  0.247935"
      ]
     },
     "metadata": {},
     "output_type": "display_data"
    }
   ],
   "source": [
    "def generarEstadisticas(dataFrame):\n",
    "    stats = {'Suma':[ dataFrame['FuncionObjetivo'].sum(), dataFrame['Fitness'].sum() ], 'Promedio': [ dataFrame['FuncionObjetivo'].mean(), dataFrame['Fitness'].mean() ], 'Maximo': [ dataFrame['FuncionObjetivo'].max(), dataFrame['Fitness'].max() ]}\n",
    "    dataFrame_stats = pd.DataFrame(stats, index = ['Función objetivo', 'Fitness'])\n",
    "    return dataFrame_stats\n",
    "\n",
    "marcoDeDatos_stats = generarEstadisticas(marcoDeDatos)\n",
    "\n",
    "display(marcoDeDatos_stats)"
   ]
  },
  {
   "cell_type": "markdown",
   "metadata": {},
   "source": [
    "### Generando una nueva población a partir de otra"
   ]
  },
  {
   "cell_type": "markdown",
   "metadata": {},
   "source": [
    "Selección de padres para la próxima generación"
   ]
  },
  {
   "cell_type": "markdown",
   "metadata": {},
   "source": [
    "#### Método ruleta"
   ]
  },
  {
   "cell_type": "code",
   "execution_count": 392,
   "metadata": {},
   "outputs": [
    {
     "data": {
      "text/plain": [
       "array(['110011000010000000100100011111', '101001001000011011101001000011',\n",
       "       '101100101111111111000001100110', '101001001000011011101001000011',\n",
       "       '110011000010000000100100011111', '111111010000101101111011000010',\n",
       "       '111111010000101101111011000010', '111111010000101101111011000010',\n",
       "       '110010011110010011000100110110', '101100101111111111000001100110'],\n",
       "      dtype=object)"
      ]
     },
     "execution_count": 392,
     "metadata": {},
     "output_type": "execute_result"
    }
   ],
   "source": [
    "def ruleta(dataFrame): #pasar marco de datos\n",
    "    probabilidades = np.array(dataFrame['Fitness']) #Asigna probabilidad basada en el fitness\n",
    "    cromosomas = np.array(dataFrame['Binarios'])\n",
    "    np.random.seed() \n",
    "    salida = np.random.choice(cromosomas, size=int(CANTIDAD_POBLACION), p=probabilidades)\n",
    "    return salida\n",
    "\n",
    "cromosomasPadresRuleta = ruleta(marcoDeDatos)\n",
    "cromosomasPadresRuleta"
   ]
  },
  {
   "cell_type": "markdown",
   "metadata": {},
   "source": [
    "#### Método torneo"
   ]
  },
  {
   "cell_type": "code",
   "execution_count": 393,
   "metadata": {},
   "outputs": [
    {
     "data": {
      "text/plain": [
       "['111111010000101101111011000010',\n",
       " '101011010001111100000110101010',\n",
       " '111111010000101101111011000010',\n",
       " '110010011110010011000100110110',\n",
       " '111111010000101101111011000010',\n",
       " '111111010000101101111011000010',\n",
       " '111111010000101101111011000010',\n",
       " '111111010000101101111011000010',\n",
       " '101100101111111111000001100110',\n",
       " '110011000010000000100100011111']"
      ]
     },
     "execution_count": 393,
     "metadata": {},
     "output_type": "execute_result"
    }
   ],
   "source": [
    "def torneo(dataFrame):\n",
    "    salida = []\n",
    "    fitness = np.array(dataFrame['Fitness'])\n",
    "    cromosomas = np.array(dataFrame['Binarios'])\n",
    "    for i in range(0,10):\n",
    "        posiblesCantidades = [ x for x in range(1,11)]\n",
    "        np.random.seed() \n",
    "        cantidadMiembrosTorneo = np.random.choice(posiblesCantidades, size=1)\n",
    "        miembrosTorneo = np.random.choice(fitness, size=cantidadMiembrosTorneo[0], replace=False) #Trabaja directamente con los fitness de los cromósomas\n",
    "        ganador = np.amax(miembrosTorneo)\n",
    "        indiceGanador = np.where(fitness == ganador) # retorna ndarray\n",
    "        cromosomaGanador = cromosomas[indiceGanador[0][0]]\n",
    "        salida.append(cromosomaGanador)\n",
    "    return salida\n",
    "\n",
    "cromosomasPadresTorneo = torneo(marcoDeDatos)\n",
    "cromosomasPadresTorneo"
   ]
  },
  {
   "cell_type": "markdown",
   "metadata": {},
   "source": [
    "Test de prueba (podemos borrar desp)"
   ]
  },
  {
   "cell_type": "code",
   "execution_count": 394,
   "metadata": {},
   "outputs": [
    {
     "data": {
      "text/plain": [
       "' fitness = np.array(marcoDeDatos[\\'Fitness\\'])\\ncromosomas = np.array(marcoDeDatos[\\'Binarios\\'])\\nposiblesCantidades = [ x for x in range(1,11)]\\ncantidadMiembrosTorneo = np.random.choice(posiblesCantidades, size=1)\\nmiembrosTorneo = np.random.choice(fitness, size=cantidadMiembrosTorneo[0], replace=False) #Trabaja directamente con los fitness de los cromósomas\\nganador = np.amax(miembrosTorneo)\\nindiceGanador = np.where(fitness == ganador)\\nprint(miembrosTorneo)\\nprint(\"Cantidad: \"+str(cantidadMiembrosTorneo[0]))\\nprint(\"Fitness ganador: \"+str(ganador))\\nprint(\"Indice: \"+str(indiceGanador[0][0]))\\nprint(\"Cromosoma: \"+str(cromosomas[indiceGanador[0][0]])) '"
      ]
     },
     "execution_count": 394,
     "metadata": {},
     "output_type": "execute_result"
    }
   ],
   "source": [
    "\"\"\" fitness = np.array(marcoDeDatos['Fitness'])\n",
    "cromosomas = np.array(marcoDeDatos['Binarios'])\n",
    "posiblesCantidades = [ x for x in range(1,11)]\n",
    "cantidadMiembrosTorneo = np.random.choice(posiblesCantidades, size=1)\n",
    "miembrosTorneo = np.random.choice(fitness, size=cantidadMiembrosTorneo[0], replace=False) #Trabaja directamente con los fitness de los cromósomas\n",
    "ganador = np.amax(miembrosTorneo)\n",
    "indiceGanador = np.where(fitness == ganador)\n",
    "print(miembrosTorneo)\n",
    "print(\"Cantidad: \"+str(cantidadMiembrosTorneo[0]))\n",
    "print(\"Fitness ganador: \"+str(ganador))\n",
    "print(\"Indice: \"+str(indiceGanador[0][0]))\n",
    "print(\"Cromosoma: \"+str(cromosomas[indiceGanador[0][0]])) \"\"\""
   ]
  },
  {
   "cell_type": "markdown",
   "metadata": {},
   "source": [
    "#### Crossover"
   ]
  },
  {
   "cell_type": "code",
   "execution_count": 395,
   "metadata": {},
   "outputs": [],
   "source": [
    "def crossover(padres): #Pasar ndarray cromosomas padres\n",
    "    hijos = []\n",
    "    for i in range(0,10,2):\n",
    "        opciones=[True, False]\n",
    "        np.random.seed() \n",
    "        prob_cross = np.array([PROB_CROSSOVER,(1-PROB_CROSSOVER)]) # Probabilidades de cada opción\n",
    "        cross = np.random.choice(opciones, size=1, p=prob_cross)\n",
    "        if cross[0]:\n",
    "            posiciones = [x for x in range(0, 30)]\n",
    "            probCorte = [1/30 for x in range(0, 30)]\n",
    "            corte = np.random.choice(posiciones, size=1, p=probCorte) # Devuelve ndarray de 1 elemento\n",
    "            posicionCorte = corte[0] \n",
    "            primerTiraGenesPadre1 = padres[i][0:posicionCorte]\n",
    "            segundaTiraGenesPadre1 = padres[i][posicionCorte:30]\n",
    "            primerTiraGenesPadre2 = padres[i+1][0:posicionCorte]\n",
    "            segundaTiraGenesPadre2 = padres[i+1][posicionCorte:30]\n",
    "            hijos.append(primerTiraGenesPadre1 + segundaTiraGenesPadre2) # Hijo 1\n",
    "            hijos.append(primerTiraGenesPadre2 + segundaTiraGenesPadre1) # Hijo 2\n",
    "        else:\n",
    "            hijos.append(padres[i])\n",
    "            hijos.append(padres[i+1])\n",
    "    return hijos"
   ]
  },
  {
   "cell_type": "markdown",
   "metadata": {},
   "source": [
    "##### Crossover ruleta"
   ]
  },
  {
   "cell_type": "code",
   "execution_count": 396,
   "metadata": {},
   "outputs": [
    {
     "data": {
      "text/plain": [
       "['110011000010000000100100011111',\n",
       " '101001001000011011101001000011',\n",
       " '101100101111111111000001100011',\n",
       " '101001001000011011101001000110',\n",
       " '110011000010000000100100011111',\n",
       " '111111010000101101111011000010',\n",
       " '111111010000101101111011000010',\n",
       " '111111010000101101111011000010',\n",
       " '110010011110010011000100110110',\n",
       " '101100101111111111000001100110']"
      ]
     },
     "execution_count": 396,
     "metadata": {},
     "output_type": "execute_result"
    }
   ],
   "source": [
    "cromosomasHijosRuleta = crossover(cromosomasPadresRuleta)\n",
    "cromosomasHijosRuleta"
   ]
  },
  {
   "cell_type": "markdown",
   "metadata": {},
   "source": [
    "##### Crossover torneo"
   ]
  },
  {
   "cell_type": "code",
   "execution_count": 399,
   "metadata": {},
   "outputs": [
    {
     "name": "stdout",
     "output_type": "stream",
     "text": [
      "['111111010000111100000110101010', '101011010001101101111011000010', '111111010000101101111100110110', '110010011110010011000011000010', '111111010000101101111011000010', '111111010000101101111011000010', '111111010000101101111011000010', '111111010000101101111011000010', '101100101111000000100100011111', '110011000010111111000001100110']\n"
     ]
    }
   ],
   "source": [
    "cromosomasHijosTorneo = crossover(cromosomasPadresTorneo)\n",
    "print(cromosomasHijosTorneo)"
   ]
  },
  {
   "cell_type": "markdown",
   "metadata": {},
   "source": [
    "#### Mutación"
   ]
  },
  {
   "cell_type": "code",
   "execution_count": 398,
   "metadata": {},
   "outputs": [],
   "source": [
    "def mutacion(hijos):\n",
    "    # TODO metodo\n",
    "    return hijos "
   ]
  }
 ],
 "metadata": {
  "kernelspec": {
   "display_name": "Python 3.9.13 64-bit",
   "language": "python",
   "name": "python3"
  },
  "language_info": {
   "codemirror_mode": {
    "name": "ipython",
    "version": 3
   },
   "file_extension": ".py",
   "mimetype": "text/x-python",
   "name": "python",
   "nbconvert_exporter": "python",
   "pygments_lexer": "ipython3",
   "version": "3.9.13"
  },
  "orig_nbformat": 4,
  "vscode": {
   "interpreter": {
    "hash": "f1a5d23aa71d821cb89ea9bf9e09d6a9661f348a5982dd36c24152f8b8a929a8"
   }
  }
 },
 "nbformat": 4,
 "nbformat_minor": 2
}
