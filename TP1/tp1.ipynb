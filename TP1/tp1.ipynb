{
 "cells": [
  {
   "cell_type": "markdown",
   "metadata": {},
   "source": [
    "# Trabajo práctico número 1"
   ]
  },
  {
   "cell_type": "markdown",
   "metadata": {},
   "source": [
    "## Hacer un programa que utilice un Algoritmo Genético Canónico para buscar un máximo de la función:"
   ]
  },
  {
   "cell_type": "markdown",
   "metadata": {},
   "source": [
    "#### f(x) = (x/coef)2 en el dominio [0 , 2^(30 - 1)]\n",
    "donde coef = 2^(30-1)\n",
    "teniendo en cuenta los siguientes datos:\n",
    "\n",
    "1– Probabilidad de Crossover = 0,75\n",
    "\n",
    "2– Probabilidad de Mutación = 0,05\n",
    "\n",
    "3– Población Inicial: 10 individuos\n",
    "\n",
    "4– Ciclos del programa: 200\n",
    "\n",
    "5– Método de Selección: Ruleta\n",
    "\n",
    "6– Método de Crossover: 1 Punto\n",
    "\n",
    "7– Método de Mutación: invertida"
   ]
  },
  {
   "cell_type": "markdown",
   "metadata": {},
   "source": [
    "#### El espacio solución estara formado por cromosomas de longitud 30\n",
    " y cada gen sera un dígito\n",
    "binario 0 o 1"
   ]
  },
  {
   "cell_type": "markdown",
   "metadata": {},
   "source": [
    "### Constantes"
   ]
  },
  {
   "cell_type": "code",
<<<<<<< HEAD
   "execution_count": 1490,
=======
   "execution_count": 72,
>>>>>>> 19b20108c6c4cf8ea32cd0f6e1691f95b76abf3f
   "metadata": {},
   "outputs": [],
   "source": [
    "PROB_CROSSOVER = 0.75\n",
    "PROB_MUTACION = 0.05\n",
    "CICLOS = 200\n",
    "CANTIDAD_POBLACION = 10\n",
    "COEF = 1073741823 # 2^29"
   ]
  },
  {
   "cell_type": "markdown",
   "metadata": {},
   "source": [
    "### Librerías necesarias"
   ]
  },
  {
   "cell_type": "code",
<<<<<<< HEAD
   "execution_count": 1491,
=======
   "execution_count": 73,
>>>>>>> 19b20108c6c4cf8ea32cd0f6e1691f95b76abf3f
   "metadata": {},
   "outputs": [],
   "source": [
    "import numpy as np\n",
    "import pandas as pd\n",
    "import matplotlib.pyplot as plt"
   ]
  },
  {
   "cell_type": "markdown",
   "metadata": {},
   "source": [
    "### Generando población inicial aleatoria"
   ]
  },
  {
   "cell_type": "code",
<<<<<<< HEAD
   "execution_count": 1492,
=======
   "execution_count": 74,
>>>>>>> 19b20108c6c4cf8ea32cd0f6e1691f95b76abf3f
   "metadata": {},
   "outputs": [
    {
     "data": {
      "text/plain": [
       "array([ 839446551,  504854647,  397753764,  730931389,   95439843,\n",
       "        324233065,  250091049,  340802985,  955327455, 1069964161],\n",
       "      dtype=int64)"
      ]
     },
<<<<<<< HEAD
     "execution_count": 1492,
=======
     "execution_count": 74,
>>>>>>> 19b20108c6c4cf8ea32cd0f6e1691f95b76abf3f
     "metadata": {},
     "output_type": "execute_result"
    }
   ],
   "source": [
    "def poblacionInicial():\n",
    "    rng = np.random.default_rng() # Random Number Generator\n",
    "    # El 12345 es la semilla, poner sin semilla para q en cada ejecución genere nuevos aleatorios.\n",
    "    poblacion_decimal = rng.integers(low=0, high=COEF, size=CANTIDAD_POBLACION)\n",
    "    return poblacion_decimal\n",
    "poblacion_decimal = poblacionInicial()\n",
    "poblacion_decimal"
   ]
  },
  {
   "cell_type": "markdown",
   "metadata": {},
   "source": [
    "#### Convirtiendo la población inicial a binario"
   ]
  },
  {
   "cell_type": "code",
<<<<<<< HEAD
   "execution_count": 1493,
=======
   "execution_count": 75,
>>>>>>> 19b20108c6c4cf8ea32cd0f6e1691f95b76abf3f
   "metadata": {},
   "outputs": [
    {
     "data": {
      "text/plain": [
       "['110010000010001111000000010111',\n",
       " '011110000101110111100001110111',\n",
       " '010111101101010011110110100100',\n",
       " '101011100100010010000010111101',\n",
       " '000101101100000100101111100011',\n",
       " '010011010100110110011101101001',\n",
       " '001110111010000001011000101001',\n",
       " '010100010100000011110110101001',\n",
       " '111000111100010010001111011111',\n",
       " '111111110001100101101110000001']"
      ]
     },
<<<<<<< HEAD
     "execution_count": 1493,
=======
     "execution_count": 75,
>>>>>>> 19b20108c6c4cf8ea32cd0f6e1691f95b76abf3f
     "metadata": {},
     "output_type": "execute_result"
    }
   ],
   "source": [
    "def convertirPoblacion(pob_ini, bin=True): # Pasar False para convertir a decimal\n",
    "    pob_fin = []\n",
    "    contador = 0\n",
    "    for numero in pob_ini:\n",
    "        if bin:\n",
    "            # convirtiendo cada número decimal en binario de 8 dígitos.\n",
    "            pob_fin.append(format(numero,'030b'))\n",
    "        else:\n",
    "            pob_fin.append(int(str(numero), 2))\n",
    "    return pob_fin\n",
    "\n",
    "poblacion_binarios= convertirPoblacion(poblacion_decimal)\n",
    "poblacion_binarios"
   ]
  },
  {
   "cell_type": "markdown",
   "metadata": {},
   "source": [
    "### Función objetivo"
   ]
  },
  {
   "cell_type": "code",
<<<<<<< HEAD
   "execution_count": 1494,
=======
   "execution_count": 76,
>>>>>>> 19b20108c6c4cf8ea32cd0f6e1691f95b76abf3f
   "metadata": {},
   "outputs": [],
   "source": [
    "#(x/coef)2\n",
    "# Pasar población decimal\n",
    "def funcionObjetivo(pob):\n",
    "    colObjetivo=[]\n",
    "    # El nombre cromosoma es por semántica, en realidad va a trabajar con cada valor decimal\n",
    "    for cromosoma in pob:\n",
    "        colObjetivo.append((int(cromosoma)/int(COEF))**2)\n",
    "    #convertir lista en numpy arrray (para operaciones matemáticas)\n",
    "    npColObjetivo = np.array(colObjetivo)\n",
    "    return npColObjetivo"
   ]
  },
  {
   "cell_type": "markdown",
   "metadata": {},
   "source": [
    "### Generando un marco de datos"
   ]
  },
  {
   "cell_type": "code",
<<<<<<< HEAD
   "execution_count": 1495,
=======
   "execution_count": 77,
>>>>>>> 19b20108c6c4cf8ea32cd0f6e1691f95b76abf3f
   "metadata": {},
   "outputs": [
    {
     "data": {
      "text/html": [
       "<div>\n",
       "<style scoped>\n",
       "    .dataframe tbody tr th:only-of-type {\n",
       "        vertical-align: middle;\n",
       "    }\n",
       "\n",
       "    .dataframe tbody tr th {\n",
       "        vertical-align: top;\n",
       "    }\n",
       "\n",
       "    .dataframe thead th {\n",
       "        text-align: right;\n",
       "    }\n",
       "</style>\n",
       "<table border=\"1\" class=\"dataframe\">\n",
       "  <thead>\n",
       "    <tr style=\"text-align: right;\">\n",
       "      <th></th>\n",
       "      <th>Decimales</th>\n",
       "      <th>Binarios</th>\n",
       "      <th>FuncionObjetivo</th>\n",
       "      <th>Fitness</th>\n",
       "    </tr>\n",
       "  </thead>\n",
       "  <tbody>\n",
       "    <tr>\n",
       "      <th>0</th>\n",
       "      <td>839446551</td>\n",
       "      <td>110010000010001111000000010111</td>\n",
       "      <td>0.611204</td>\n",
       "      <td>0.176061</td>\n",
       "    </tr>\n",
       "    <tr>\n",
       "      <th>1</th>\n",
       "      <td>504854647</td>\n",
       "      <td>011110000101110111100001110111</td>\n",
       "      <td>0.221072</td>\n",
       "      <td>0.063681</td>\n",
       "    </tr>\n",
       "    <tr>\n",
       "      <th>2</th>\n",
       "      <td>397753764</td>\n",
       "      <td>010111101101010011110110100100</td>\n",
       "      <td>0.137224</td>\n",
       "      <td>0.039528</td>\n",
       "    </tr>\n",
       "    <tr>\n",
       "      <th>3</th>\n",
       "      <td>730931389</td>\n",
       "      <td>101011100100010010000010111101</td>\n",
       "      <td>0.463397</td>\n",
       "      <td>0.133484</td>\n",
       "    </tr>\n",
       "    <tr>\n",
       "      <th>4</th>\n",
       "      <td>95439843</td>\n",
       "      <td>000101101100000100101111100011</td>\n",
       "      <td>0.007901</td>\n",
       "      <td>0.002276</td>\n",
       "    </tr>\n",
       "    <tr>\n",
       "      <th>5</th>\n",
       "      <td>324233065</td>\n",
       "      <td>010011010100110110011101101001</td>\n",
       "      <td>0.091183</td>\n",
       "      <td>0.026266</td>\n",
       "    </tr>\n",
       "    <tr>\n",
       "      <th>6</th>\n",
       "      <td>250091049</td>\n",
       "      <td>001110111010000001011000101001</td>\n",
       "      <td>0.054250</td>\n",
       "      <td>0.015627</td>\n",
       "    </tr>\n",
       "    <tr>\n",
       "      <th>7</th>\n",
       "      <td>340802985</td>\n",
       "      <td>010100010100000011110110101001</td>\n",
       "      <td>0.100741</td>\n",
       "      <td>0.029019</td>\n",
       "    </tr>\n",
       "    <tr>\n",
       "      <th>8</th>\n",
       "      <td>955327455</td>\n",
       "      <td>111000111100010010001111011111</td>\n",
       "      <td>0.791598</td>\n",
       "      <td>0.228025</td>\n",
       "    </tr>\n",
       "    <tr>\n",
       "      <th>9</th>\n",
       "      <td>1069964161</td>\n",
       "      <td>111111110001100101101110000001</td>\n",
       "      <td>0.992976</td>\n",
       "      <td>0.286033</td>\n",
       "    </tr>\n",
       "  </tbody>\n",
       "</table>\n",
       "</div>"
      ],
      "text/plain": [
       "    Decimales                        Binarios  FuncionObjetivo   Fitness\n",
       "0   839446551  110010000010001111000000010111         0.611204  0.176061\n",
       "1   504854647  011110000101110111100001110111         0.221072  0.063681\n",
       "2   397753764  010111101101010011110110100100         0.137224  0.039528\n",
       "3   730931389  101011100100010010000010111101         0.463397  0.133484\n",
       "4    95439843  000101101100000100101111100011         0.007901  0.002276\n",
       "5   324233065  010011010100110110011101101001         0.091183  0.026266\n",
       "6   250091049  001110111010000001011000101001         0.054250  0.015627\n",
       "7   340802985  010100010100000011110110101001         0.100741  0.029019\n",
       "8   955327455  111000111100010010001111011111         0.791598  0.228025\n",
       "9  1069964161  111111110001100101101110000001         0.992976  0.286033"
      ]
     },
     "metadata": {},
     "output_type": "display_data"
    }
   ],
   "source": [
    "def generarDataFrame(pob_dec, pob_bin):\n",
    "    data = {'Decimales': pob_dec, 'Binarios': pob_bin, 'FuncionObjetivo':funcionObjetivo(pob_dec)}\n",
    "    dataFrame = pd.DataFrame(data)\n",
    "    dataFrame['Fitness'] = dataFrame['FuncionObjetivo'] / dataFrame['FuncionObjetivo'].sum()\n",
    "    return dataFrame\n",
    "\n",
    "marcoDeDatos = generarDataFrame(poblacion_decimal, poblacion_binarios)\n",
    "display(marcoDeDatos)"
   ]
  },
  {
   "cell_type": "markdown",
   "metadata": {},
   "source": [
    "#### Estadisticas"
   ]
  },
  {
   "cell_type": "code",
<<<<<<< HEAD
   "execution_count": 1496,
=======
   "execution_count": 78,
>>>>>>> 19b20108c6c4cf8ea32cd0f6e1691f95b76abf3f
   "metadata": {},
   "outputs": [
    {
     "data": {
      "text/html": [
       "<div>\n",
       "<style scoped>\n",
       "    .dataframe tbody tr th:only-of-type {\n",
       "        vertical-align: middle;\n",
       "    }\n",
       "\n",
       "    .dataframe tbody tr th {\n",
       "        vertical-align: top;\n",
       "    }\n",
       "\n",
       "    .dataframe thead th {\n",
       "        text-align: right;\n",
       "    }\n",
       "</style>\n",
       "<table border=\"1\" class=\"dataframe\">\n",
       "  <thead>\n",
       "    <tr style=\"text-align: right;\">\n",
       "      <th></th>\n",
       "      <th>Suma</th>\n",
       "      <th>Promedio</th>\n",
       "      <th>Máximo</th>\n",
       "      <th>Mínimo</th>\n",
       "    </tr>\n",
       "  </thead>\n",
       "  <tbody>\n",
       "    <tr>\n",
       "      <th>Función objetivo</th>\n",
       "      <td>3.471545</td>\n",
       "      <td>0.347155</td>\n",
       "      <td>0.992976</td>\n",
       "      <td>0.007901</td>\n",
       "    </tr>\n",
       "    <tr>\n",
       "      <th>Fitness</th>\n",
       "      <td>1.000000</td>\n",
       "      <td>0.100000</td>\n",
       "      <td>0.286033</td>\n",
       "      <td>0.002276</td>\n",
       "    </tr>\n",
       "  </tbody>\n",
       "</table>\n",
       "</div>"
      ],
      "text/plain": [
       "                      Suma  Promedio    Máximo    Mínimo\n",
       "Función objetivo  3.471545  0.347155  0.992976  0.007901\n",
       "Fitness           1.000000  0.100000  0.286033  0.002276"
      ]
     },
     "metadata": {},
     "output_type": "display_data"
    }
   ],
   "source": [
    "def generarEstadisticas(dataFrame):\n",
    "    stats = {'Suma':[ dataFrame['FuncionObjetivo'].sum(), dataFrame['Fitness'].sum() ], 'Promedio': [ dataFrame['FuncionObjetivo'].mean(), dataFrame['Fitness'].mean() ], 'Máximo': [ dataFrame['FuncionObjetivo'].max(), dataFrame['Fitness'].max() ], 'Mínimo': [ dataFrame['FuncionObjetivo'].min(), dataFrame['Fitness'].min() ]}\n",
    "    dataFrame_stats = pd.DataFrame(stats, index = ['Función objetivo', 'Fitness'])\n",
    "    return dataFrame_stats, stats\n",
    "\n",
    "marcoDeDatos_stats, stats = generarEstadisticas(marcoDeDatos)\n",
    "\n",
    "display(marcoDeDatos_stats)"
   ]
  },
  {
   "cell_type": "code",
   "execution_count": 1497,
   "metadata": {},
   "outputs": [
    {
     "data": {
      "text/plain": [
       "{'Suma': [3.4715454380843243, 1.0],\n",
       " 'Promedio': [0.3471545438084324, 0.1],\n",
       " 'Máximo': [0.9929759340790725, 0.2860328207678649],\n",
       " 'Mínimo': [0.007900593069375685, 0.0022758143916835516]}"
      ]
     },
     "execution_count": 1497,
     "metadata": {},
     "output_type": "execute_result"
    }
   ],
   "source": [
    "stats"
   ]
  },
  {
   "cell_type": "markdown",
   "metadata": {},
   "source": [
    "### Generando una nueva población a partir de otra"
   ]
  },
  {
   "cell_type": "markdown",
   "metadata": {},
   "source": [
    "Selección de padres para la próxima generación"
   ]
  },
  {
   "cell_type": "markdown",
   "metadata": {},
   "source": [
    "#### Método ruleta"
   ]
  },
  {
   "cell_type": "code",
<<<<<<< HEAD
   "execution_count": 1498,
=======
   "execution_count": 79,
>>>>>>> 19b20108c6c4cf8ea32cd0f6e1691f95b76abf3f
   "metadata": {},
   "outputs": [
    {
     "data": {
      "text/plain": [
<<<<<<< HEAD
       "array(['110010000010001111000000010111', '111000111100010010001111011111',\n",
       "       '010100010100000011110110101001', '111000111100010010001111011111',\n",
       "       '101011100100010010000010111101', '011110000101110111100001110111',\n",
       "       '101011100100010010000010111101', '111000111100010010001111011111',\n",
       "       '010111101101010011110110100100', '010100010100000011110110101001'],\n",
       "      dtype=object)"
      ]
     },
     "execution_count": 1498,
=======
       "array(['110011000010000000100100011111', '101001001000011011101001000011',\n",
       "       '110010011110010011000100110110', '101001001000011011101001000011',\n",
       "       '111111010000101101111011000010', '101100101111111111000001100110',\n",
       "       '101100101111111111000001100110', '111111010000101101111011000010',\n",
       "       '011001000001111111000001011001', '110010011110010011000100110110'],\n",
       "      dtype=object)"
      ]
     },
     "execution_count": 79,
>>>>>>> 19b20108c6c4cf8ea32cd0f6e1691f95b76abf3f
     "metadata": {},
     "output_type": "execute_result"
    }
   ],
   "source": [
    "def ruleta(dataFrame): #pasar marco de datos\n",
    "    probabilidades = np.array(dataFrame['Fitness']) #Asigna probabilidad basada en el fitness\n",
    "    cromosomas = np.array(dataFrame['Binarios'])\n",
    "    np.random.seed() \n",
    "    salida = np.random.choice(cromosomas, size=int(CANTIDAD_POBLACION), p=probabilidades)\n",
    "    return salida\n",
    "\n",
    "cromosomasPadresRuleta = ruleta(marcoDeDatos)\n",
    "cromosomasPadresRuleta"
   ]
  },
  {
   "cell_type": "markdown",
   "metadata": {},
   "source": [
    "#### Método torneo"
   ]
  },
  {
   "cell_type": "code",
<<<<<<< HEAD
   "execution_count": 1499,
=======
   "execution_count": 80,
>>>>>>> 19b20108c6c4cf8ea32cd0f6e1691f95b76abf3f
   "metadata": {},
   "outputs": [
    {
     "data": {
      "text/plain": [
<<<<<<< HEAD
       "['111111110001100101101110000001',\n",
       " '111111110001100101101110000001',\n",
       " '111111110001100101101110000001',\n",
       " '111111110001100101101110000001',\n",
       " '110010000010001111000000010111',\n",
       " '111111110001100101101110000001',\n",
       " '111111110001100101101110000001',\n",
       " '111111110001100101101110000001',\n",
       " '111111110001100101101110000001',\n",
       " '111111110001100101101110000001']"
      ]
     },
     "execution_count": 1499,
=======
       "['101011010001111100000110101010',\n",
       " '111111010000101101111011000010',\n",
       " '110011000010000000100100011111',\n",
       " '010100010001011100010011000100',\n",
       " '110010011110010011000100110110',\n",
       " '111111010000101101111011000010',\n",
       " '001110100011001010110001100011',\n",
       " '111111010000101101111011000010',\n",
       " '111111010000101101111011000010',\n",
       " '111111010000101101111011000010']"
      ]
     },
     "execution_count": 80,
>>>>>>> 19b20108c6c4cf8ea32cd0f6e1691f95b76abf3f
     "metadata": {},
     "output_type": "execute_result"
    }
   ],
   "source": [
    "def torneo(dataFrame):\n",
    "    salida = []\n",
    "    fitness = np.array(dataFrame['Fitness'])\n",
    "    cromosomas = np.array(dataFrame['Binarios'])\n",
    "    for i in range(0,10):\n",
    "        posiblesCantidades = [ x for x in range(1,11)]\n",
    "        np.random.seed() \n",
    "        cantidadMiembrosTorneo = np.random.choice(posiblesCantidades, size=1)\n",
    "        miembrosTorneo = np.random.choice(fitness, size=cantidadMiembrosTorneo[0], replace=False) #Trabaja directamente con los fitness de los cromósomas\n",
    "        ganador = np.amax(miembrosTorneo)\n",
    "        indiceGanador = np.where(fitness == ganador) # retorna ndarray\n",
    "        cromosomaGanador = cromosomas[indiceGanador[0][0]]\n",
    "        salida.append(cromosomaGanador)\n",
    "    return salida\n",
    "\n",
    "cromosomasPadresTorneo = torneo(marcoDeDatos)\n",
    "cromosomasPadresTorneo"
   ]
  },
  {
   "cell_type": "markdown",
   "metadata": {},
   "source": [
    "Test de prueba (podemos borrar desp)"
   ]
  },
  {
   "cell_type": "code",
<<<<<<< HEAD
   "execution_count": 1500,
   "metadata": {},
   "outputs": [
    {
     "name": "stdout",
     "output_type": "stream",
     "text": [
      "[0.06368104 0.28603282 0.01562693 0.17606114 0.02626588 0.03952811]\n",
      "Cantidad: 6\n",
      "Fitness ganador: 0.2860328207678649\n",
      "Indice: 9\n",
      "Cromosoma: 111111110001100101101110000001\n"
     ]
=======
   "execution_count": 81,
   "metadata": {},
   "outputs": [
    {
     "data": {
      "text/plain": [
       "' fitness = np.array(marcoDeDatos[\\'Fitness\\'])\\ncromosomas = np.array(marcoDeDatos[\\'Binarios\\'])\\nposiblesCantidades = [ x for x in range(1,11)]\\ncantidadMiembrosTorneo = np.random.choice(posiblesCantidades, size=1)\\nmiembrosTorneo = np.random.choice(fitness, size=cantidadMiembrosTorneo[0], replace=False) #Trabaja directamente con los fitness de los cromósomas\\nganador = np.amax(miembrosTorneo)\\nindiceGanador = np.where(fitness == ganador)\\nprint(miembrosTorneo)\\nprint(\"Cantidad: \"+str(cantidadMiembrosTorneo[0]))\\nprint(\"Fitness ganador: \"+str(ganador))\\nprint(\"Indice: \"+str(indiceGanador[0][0]))\\nprint(\"Cromosoma: \"+str(cromosomas[indiceGanador[0][0]])) '"
      ]
     },
     "execution_count": 81,
     "metadata": {},
     "output_type": "execute_result"
>>>>>>> 19b20108c6c4cf8ea32cd0f6e1691f95b76abf3f
    }
   ],
   "source": [
    "fitness = np.array(marcoDeDatos['Fitness'])\n",
    "cromosomas = np.array(marcoDeDatos['Binarios'])\n",
    "posiblesCantidades = [ x for x in range(1,11)]\n",
    "cantidadMiembrosTorneo = np.random.choice(posiblesCantidades, size=1)\n",
    "miembrosTorneo = np.random.choice(fitness, size=cantidadMiembrosTorneo[0], replace=False) #Trabaja directamente con los fitness de los cromósomas\n",
    "ganador = np.amax(miembrosTorneo)\n",
    "indiceGanador = np.where(fitness == ganador)\n",
    "print(miembrosTorneo)\n",
    "print(\"Cantidad: \"+str(cantidadMiembrosTorneo[0]))\n",
    "print(\"Fitness ganador: \"+str(ganador))\n",
    "print(\"Indice: \"+str(indiceGanador[0][0]))\n",
    "print(\"Cromosoma: \"+str(cromosomas[indiceGanador[0][0]]))"
   ]
  },
  {
   "attachments": {},
   "cell_type": "markdown",
   "metadata": {},
   "source": [
    "#### Elitismo"
   ]
  },
  {
   "cell_type": "code",
   "execution_count": 82,
   "metadata": {},
   "outputs": [
    {
     "data": {
      "text/plain": [
       "['111111010000101101111011000010', '110011000010000000100100011111']"
      ]
     },
     "execution_count": 82,
     "metadata": {},
     "output_type": "execute_result"
    }
   ],
   "source": [
    "#Toma los 2 mejores de dataFrame y los devuelve en una lista\n",
    "def elitismo(dataFrame, cantidad = 2):\n",
    "    fitness = np.array(dataFrame['Fitness'])\n",
    "    cromosomas = np.array(dataFrame['Binarios'])\n",
    "    elites = []\n",
    "    for i in range(0,cantidad):\n",
    "        #busca cual es cromosoma con mayor fitness\n",
    "        ganador = np.amax(fitness)\n",
    "        indiceGanador = np.where(fitness == ganador)\n",
    "        cromosomaGanador = cromosomas[indiceGanador[0][0]]\n",
    "        #agrega el cromosoma a la lista de elites y lo elimina de la lista de cromosomas para buscar el siguiente\n",
    "        elites.append(cromosomaGanador)\n",
    "        fitness = np.delete(fitness, indiceGanador[0][0])\n",
    "        cromosomas = np.delete(cromosomas, indiceGanador[0][0])\n",
    "    return elites\n",
    "elites = elitismo(marcoDeDatos)\n",
    "elites"
   ]
  },
  {
   "cell_type": "markdown",
   "metadata": {},
   "source": [
    "#### Crossover"
   ]
  },
  {
   "cell_type": "code",
<<<<<<< HEAD
   "execution_count": 1501,
=======
   "execution_count": 83,
>>>>>>> 19b20108c6c4cf8ea32cd0f6e1691f95b76abf3f
   "metadata": {},
   "outputs": [],
   "source": [
    "def crossover(padres): #Pasar ndarray cromosomas padres\n",
    "    hijos = []\n",
    "    for i in range(0,10,2):\n",
    "        opciones=[True, False]\n",
    "        np.random.seed() \n",
    "        prob_cross = np.array([PROB_CROSSOVER,(1-PROB_CROSSOVER)]) # Probabilidades de cada opción\n",
    "        cross = np.random.choice(opciones, size=1, p=prob_cross)\n",
    "        if cross[0]:\n",
    "            posiciones = [x for x in range(0, 30)]\n",
    "            probCorte = [1/30 for x in range(0, 30)]\n",
    "            corte = np.random.choice(posiciones, size=1, p=probCorte) # Devuelve ndarray de 1 elemento\n",
    "            posicionCorte = corte[0] \n",
    "            primerTiraGenesPadre1 = padres[i][0:posicionCorte]\n",
    "            segundaTiraGenesPadre1 = padres[i][posicionCorte:30]\n",
    "            primerTiraGenesPadre2 = padres[i+1][0:posicionCorte]\n",
    "            segundaTiraGenesPadre2 = padres[i+1][posicionCorte:30]\n",
    "            hijos.append(primerTiraGenesPadre1 + segundaTiraGenesPadre2) # Hijo 1\n",
    "            hijos.append(primerTiraGenesPadre2 + segundaTiraGenesPadre1) # Hijo 2\n",
    "        else:\n",
    "            hijos.append(padres[i])\n",
    "            hijos.append(padres[i+1])\n",
    "    return hijos"
   ]
  },
  {
   "cell_type": "markdown",
   "metadata": {},
   "source": [
    "##### Crossover ruleta"
   ]
  },
  {
   "cell_type": "code",
<<<<<<< HEAD
   "execution_count": 1502,
=======
   "execution_count": 84,
>>>>>>> 19b20108c6c4cf8ea32cd0f6e1691f95b76abf3f
   "metadata": {},
   "outputs": [
    {
     "data": {
      "text/plain": [
<<<<<<< HEAD
       "['110010000010010010001111011111',\n",
       " '111000111100001111000000010111',\n",
       " '010100010100000010001111011111',\n",
       " '111000111100010011110110101001',\n",
       " '101011100100010010000001110111',\n",
       " '011110000101110111100010111101',\n",
       " '101011100100010010001111011111',\n",
       " '111000111100010010000010111101',\n",
       " '010111101101010011110110101001',\n",
       " '010100010100000011110110100100']"
      ]
     },
     "execution_count": 1502,
=======
       "['110011000010000000101001000011',\n",
       " '101001001000011011100100011111',\n",
       " '101001001000011011101001000011',\n",
       " '110010011110010011000100110110',\n",
       " '111111010000101111000001100110',\n",
       " '101100101111111101111011000010',\n",
       " '101100101111111111000001100110',\n",
       " '111111010000101101111011000010',\n",
       " '011001000001111111000100110110',\n",
       " '110010011110010011000001011001']"
      ]
     },
     "execution_count": 84,
>>>>>>> 19b20108c6c4cf8ea32cd0f6e1691f95b76abf3f
     "metadata": {},
     "output_type": "execute_result"
    }
   ],
   "source": [
    "cromosomasHijosRuleta = crossover(cromosomasPadresRuleta)\n",
    "cromosomasHijosRuleta"
   ]
  },
  {
   "cell_type": "markdown",
   "metadata": {},
   "source": [
    "##### Crossover torneo"
   ]
  },
  {
   "cell_type": "code",
<<<<<<< HEAD
   "execution_count": 1503,
=======
   "execution_count": 85,
>>>>>>> 19b20108c6c4cf8ea32cd0f6e1691f95b76abf3f
   "metadata": {},
   "outputs": [
    {
     "name": "stdout",
     "output_type": "stream",
     "text": [
<<<<<<< HEAD
      "['111111110001100101101110000001', '111111110001100101101110000001', '111111110001100101101110000001', '111111110001100101101110000001', '110010000011100101101110000001', '111111110000001111000000010111', '111111110001100101101110000001', '111111110001100101101110000001', '111111110001100101101110000001', '111111110001100101101110000001']\n"
=======
      "['101011010001111100000110101010', '111111010000101101111011000010', '110011000010000000100101000100', '010100010001011100010010011111', '110010011110010011000100110110', '111111010000101101111011000010', '001110100011001010110001100011', '111111010000101101111011000010', '111111010000101101111011000010', '111111010000101101111011000010']\n"
>>>>>>> 19b20108c6c4cf8ea32cd0f6e1691f95b76abf3f
     ]
    }
   ],
   "source": [
    "cromosomasHijosTorneo = crossover(cromosomasPadresTorneo)\n",
    "print(cromosomasHijosTorneo)"
   ]
  },
  {
   "cell_type": "markdown",
   "metadata": {},
   "source": [
    "#### Mutación"
   ]
  },
  {
   "cell_type": "code",
<<<<<<< HEAD
   "execution_count": 1504,
=======
   "execution_count": 86,
>>>>>>> 19b20108c6c4cf8ea32cd0f6e1691f95b76abf3f
   "metadata": {},
   "outputs": [
    {
     "data": {
      "text/plain": [
       "['110010000010010010001111011111',\n",
       " '111000111100001111000000010111',\n",
       " '010100000100000010001111011111',\n",
       " '111000111100010011110110101001',\n",
       " '101011100100010010000001110111',\n",
       " '011110000101110111100010111101',\n",
       " '101011100100010010001111011111',\n",
       " '111000111100010010000010111101',\n",
       " '010111101101010011110110101001',\n",
       " '010100010100000011110110100100']"
      ]
     },
     "execution_count": 1504,
     "metadata": {},
     "output_type": "execute_result"
    }
   ],
   "source": [
    "def mutacion(cromosomas):\n",
    "    hijos = []\n",
    "    rng = np.random.default_rng() # Random Number Generator\n",
    "    for i in range(0,10):\n",
    "        mutar = rng.random()\n",
    "        \n",
    "        if (PROB_MUTACION > mutar):\n",
    "            posicion = rng.integers(low=0, high=29, size=1)\n",
    "            #print(\"Posición: \" + str(posicion))\n",
    "            #print(cromosomas[i][posicion[0]])\n",
    "            #print(cromosomas[i])\n",
    "            if ( int(cromosomas[i][posicion[0]]) == 1 ):\n",
    "                cromosoma = list(cromosomas[i]) # Convierte el lista al cromosoma seleccionado\n",
    "                # Lo hice así porque python no permite asignar valores a una pisición de un array\n",
    "                #print(cromosomas[i])\n",
    "                cromosoma[posicion[0]] = '0' # cambia el gen indicado\n",
    "                cromosomaMutado =''.join(cromosoma)  # volverlo a convertir en int (o podría ser a array)\n",
    "                #print(cromosomaMutado)\n",
    "                hijos.append(cromosomaMutado)\n",
    "                \n",
    "            else:\n",
    "                cromosoma = list(cromosomas[i]) \n",
    "                #print(cromosomas[i])\n",
    "                cromosoma[posicion[0]] = '1' # cambia el gen indicado\n",
    "                cromosomaMutado =''.join(cromosoma)\n",
    "                #print(cromosomaMutado)\n",
    "                hijos.append(cromosomaMutado)\n",
    "                \n",
    "        else:\n",
    "            hijos.append(cromosomas[i])\n",
    "    return hijos \n",
    "\n",
    "hijosmutados = mutacion(cromosomasHijosRuleta)\n",
    "\n",
    "hijosmutados\n",
    "\n",
    "\n"
   ]
  },
  {
   "cell_type": "markdown",
   "metadata": {},
   "source": [
    "### Main"
   ]
  },
  {
   "cell_type": "code",
   "execution_count": 1505,
   "metadata": {},
   "outputs": [
    {
     "data": {
      "image/png": "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",
      "text/plain": [
       "<Figure size 1440x1440 with 1 Axes>"
      ]
     },
     "metadata": {
      "needs_background": "light"
     },
     "output_type": "display_data"
    }
   ],
   "source": [
    "estadisticas = {\"Iteración\":[x for x in range(1,201)], \"Máximo\":[], \"Mínimo\":[], \"Promedio\":[]}\n",
    "poblacion_decimal = poblacionInicial()\n",
    "poblacion_binarios = convertirPoblacion(poblacion_decimal)\n",
    "for i in range(0,200):\n",
    "    marcoDeDatos = generarDataFrame(poblacion_decimal, poblacion_binarios)\n",
    "    marcoDeDatos_stats, stats = generarEstadisticas(marcoDeDatos)\n",
    "    estadisticas[\"Máximo\"].append(stats['Máximo'][0])\n",
    "    estadisticas[\"Mínimo\"].append(stats['Mínimo'][0])\n",
    "    estadisticas[\"Promedio\"].append(stats['Promedio'][0])\n",
    "    cromosomasPadresRuleta = ruleta(marcoDeDatos)\n",
    "    cromosomasHijosRuleta = crossover(cromosomasPadresRuleta)\n",
    "    cromosomasHijosMutados = mutacion(cromosomasHijosRuleta)\n",
    "    poblacion_binarios = cromosomasHijosMutados\n",
    "    poblacion_decimal = convertirPoblacion(poblacion_binarios, False)\n",
    "    \n",
    "# TODO hacer esto una función aparte\n",
    "# opciones extra hacer mismo grafico sin mutación. (Se ve como se estanca la función en maximos locales)\n",
    "plt.figure(figsize=(20,20))\n",
    "plt.plot(estadisticas[\"Iteración\"], estadisticas[\"Máximo\"], 'b.-', label=\"Máximo\")\n",
    "plt.plot(estadisticas[\"Iteración\"], estadisticas[\"Mínimo\"], 'r.-', label=\"Mínimo\")\n",
    "plt.plot(estadisticas[\"Iteración\"], estadisticas[\"Promedio\"], 'g.-', label=\"Promedio\")\n",
    "plt.legend()\n",
    "plt.title(\"Gas prices over time\")\n",
    "plt.xticks(estadisticas[\"Iteración\"][::1])\n",
    "plt.yticks(np.arange(0, 1.01, step=0.025))\n",
    "plt.xlabel(\"Iteraciones\")\n",
    "plt.ylabel(\"F. Objetivo\")\n",
    "plt.show()\n",
    "    \n",
    "    \n",
    "    "
   ]
  }
 ],
 "metadata": {
  "kernelspec": {
   "display_name": "Python 3.9.13 64-bit",
   "language": "python",
   "name": "python3"
  },
  "language_info": {
   "codemirror_mode": {
    "name": "ipython",
    "version": 3
   },
   "file_extension": ".py",
   "mimetype": "text/x-python",
   "name": "python",
   "nbconvert_exporter": "python",
   "pygments_lexer": "ipython3",
   "version": "3.11.3"
  },
  "orig_nbformat": 4,
  "vscode": {
   "interpreter": {
    "hash": "f1a5d23aa71d821cb89ea9bf9e09d6a9661f348a5982dd36c24152f8b8a929a8"
   }
  }
 },
 "nbformat": 4,
 "nbformat_minor": 2
}
