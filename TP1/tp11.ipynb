{
 "cells": [
  {
   "cell_type": "markdown",
   "metadata": {},
   "source": [
    "# Trabajo práctico número 1"
   ]
  },
  {
   "cell_type": "markdown",
   "metadata": {},
   "source": [
    "## Hacer un programa que utilice un Algoritmo Genético Canónico para buscar un máximo de la función:"
   ]
  },
  {
   "cell_type": "markdown",
   "metadata": {},
   "source": [
    "#### f(x) = (x/coef)2 en el dominio [0 , 2^(30 - 1)]\n",
    "donde coef = 2^(30-1)\n",
    "teniendo en cuenta los siguientes datos:\n",
    "\n",
    "1– Probabilidad de Crossover = 0,75\n",
    "\n",
    "2– Probabilidad de Mutación = 0,05\n",
    "\n",
    "3– Población Inicial: 10 individuos\n",
    "\n",
    "4– Ciclos del programa: 200\n",
    "\n",
    "5– Método de Selección: Ruleta\n",
    "\n",
    "6– Método de Crossover: 1 Punto\n",
    "\n",
    "7– Método de Mutación: invertida"
   ]
  },
  {
   "cell_type": "markdown",
   "metadata": {},
   "source": [
    "#### El espacio solución estara formado por cromosomas de longitud 30\n",
    " y cada gen sera un dígito\n",
    "binario 0 o 1"
   ]
  },
  {
   "cell_type": "markdown",
   "metadata": {},
   "source": [
    "### Constantes"
   ]
  },
  {
   "cell_type": "code",
   "execution_count": 3,
   "metadata": {},
   "outputs": [],
   "source": [
    "PROB_CROSSOVER = 0.75\n",
    "PROB_MUTACION = 0.05\n",
    "CICLOS = 200\n",
    "CANTIDAD_POBLACION = 10\n",
    "COEF = 1073741823 # 2^29"
   ]
  },
  {
   "cell_type": "markdown",
   "metadata": {},
   "source": [
    "### Librerías necesarias"
   ]
  },
  {
   "cell_type": "code",
   "execution_count": 4,
   "metadata": {},
   "outputs": [],
   "source": [
    "import numpy as np\n",
    "import pandas as pd\n",
    "import matplotlib.pyplot as plt"
   ]
  },
  {
   "cell_type": "markdown",
   "metadata": {},
   "source": [
    "### Generando población inicial aleatoria"
   ]
  },
  {
   "cell_type": "code",
   "execution_count": 5,
   "metadata": {},
   "outputs": [
    {
     "data": {
      "text/plain": [
       "array([ 343919852, 1029262049,  133725417,  655534870,  258343673,\n",
       "        335376641,   47211466,  813279475,  719082944,  874951157],\n",
       "      dtype=int64)"
      ]
     },
     "execution_count": 5,
     "metadata": {},
     "output_type": "execute_result"
    }
   ],
   "source": [
    "def poblacionInicial():\n",
    "    rng = np.random.default_rng() # Random Number Generator\n",
    "    # El 12345 es la semilla, poner sin semilla para q en cada ejecución genere nuevos aleatorios.\n",
    "    poblacion_decimal = rng.integers(low=0, high=COEF, size=CANTIDAD_POBLACION)\n",
    "    return poblacion_decimal\n",
    "poblacion_decimal = poblacionInicial()\n",
    "poblacion_decimal"
   ]
  },
  {
   "cell_type": "markdown",
   "metadata": {},
   "source": [
    "#### Convirtiendo la población inicial a binario"
   ]
  },
  {
   "cell_type": "code",
   "execution_count": 6,
   "metadata": {},
   "outputs": [
    {
     "data": {
      "text/plain": [
       "['010100011111111100110011101100',\n",
       " '111101010110010100101011100001',\n",
       " '000111111110000111110011101001',\n",
       " '100111000100101010101100010110',\n",
       " '001111011001100000001011111001',\n",
       " '010011111111010111000100000001',\n",
       " '000010110100000110001111001010',\n",
       " '110000011110011010100011110011',\n",
       " '101010110111000101010111000000',\n",
       " '110100001001101011000111110101']"
      ]
     },
     "execution_count": 6,
     "metadata": {},
     "output_type": "execute_result"
    }
   ],
   "source": [
    "def convertirPoblacion(pob_ini, bin=True): # Pasar False para convertir a decimal\n",
    "    pob_fin = []\n",
    "    contador = 0\n",
    "    for numero in pob_ini:\n",
    "        if bin:\n",
    "            # convirtiendo cada número decimal en binario de 8 dígitos.\n",
    "            pob_fin.append(format(numero,'030b'))\n",
    "        else:\n",
    "            pob_fin.append(int(str(numero), 2))\n",
    "    return pob_fin\n",
    "\n",
    "poblacion_binarios= convertirPoblacion(poblacion_decimal)\n",
    "poblacion_binarios"
   ]
  },
  {
   "cell_type": "markdown",
   "metadata": {},
   "source": [
    "### Función objetivo"
   ]
  },
  {
   "cell_type": "code",
   "execution_count": 7,
   "metadata": {},
   "outputs": [],
   "source": [
    "#(x/coef)2\n",
    "# Pasar población decimal\n",
    "def funcionObjetivo(pob):\n",
    "    colObjetivo=[]\n",
    "    # El nombre cromosoma es por semántica, en realidad va a trabajar con cada valor decimal\n",
    "    for cromosoma in pob:\n",
    "        colObjetivo.append((int(cromosoma)/int(COEF))**2)\n",
    "    #convertir lista en numpy arrray (para operaciones matemáticas)\n",
    "    npColObjetivo = np.array(colObjetivo)\n",
    "    return npColObjetivo"
   ]
  },
  {
   "cell_type": "markdown",
   "metadata": {},
   "source": [
    "### Generando un marco de datos"
   ]
  },
  {
   "cell_type": "code",
   "execution_count": 8,
   "metadata": {},
   "outputs": [
    {
     "data": {
      "text/html": [
       "<div>\n",
       "<style scoped>\n",
       "    .dataframe tbody tr th:only-of-type {\n",
       "        vertical-align: middle;\n",
       "    }\n",
       "\n",
       "    .dataframe tbody tr th {\n",
       "        vertical-align: top;\n",
       "    }\n",
       "\n",
       "    .dataframe thead th {\n",
       "        text-align: right;\n",
       "    }\n",
       "</style>\n",
       "<table border=\"1\" class=\"dataframe\">\n",
       "  <thead>\n",
       "    <tr style=\"text-align: right;\">\n",
       "      <th></th>\n",
       "      <th>Decimales</th>\n",
       "      <th>Binarios</th>\n",
       "      <th>FuncionObjetivo</th>\n",
       "      <th>Fitness</th>\n",
       "    </tr>\n",
       "  </thead>\n",
       "  <tbody>\n",
       "    <tr>\n",
       "      <th>0</th>\n",
       "      <td>343919852</td>\n",
       "      <td>010100011111111100110011101100</td>\n",
       "      <td>0.102592</td>\n",
       "      <td>0.031535</td>\n",
       "    </tr>\n",
       "    <tr>\n",
       "      <th>1</th>\n",
       "      <td>1029262049</td>\n",
       "      <td>111101010110010100101011100001</td>\n",
       "      <td>0.918866</td>\n",
       "      <td>0.282444</td>\n",
       "    </tr>\n",
       "    <tr>\n",
       "      <th>2</th>\n",
       "      <td>133725417</td>\n",
       "      <td>000111111110000111110011101001</td>\n",
       "      <td>0.015511</td>\n",
       "      <td>0.004768</td>\n",
       "    </tr>\n",
       "    <tr>\n",
       "      <th>3</th>\n",
       "      <td>655534870</td>\n",
       "      <td>100111000100101010101100010110</td>\n",
       "      <td>0.372728</td>\n",
       "      <td>0.114570</td>\n",
       "    </tr>\n",
       "    <tr>\n",
       "      <th>4</th>\n",
       "      <td>258343673</td>\n",
       "      <td>001111011001100000001011111001</td>\n",
       "      <td>0.057889</td>\n",
       "      <td>0.017794</td>\n",
       "    </tr>\n",
       "    <tr>\n",
       "      <th>5</th>\n",
       "      <td>335376641</td>\n",
       "      <td>010011111111010111000100000001</td>\n",
       "      <td>0.097559</td>\n",
       "      <td>0.029988</td>\n",
       "    </tr>\n",
       "    <tr>\n",
       "      <th>6</th>\n",
       "      <td>47211466</td>\n",
       "      <td>000010110100000110001111001010</td>\n",
       "      <td>0.001933</td>\n",
       "      <td>0.000594</td>\n",
       "    </tr>\n",
       "    <tr>\n",
       "      <th>7</th>\n",
       "      <td>813279475</td>\n",
       "      <td>110000011110011010100011110011</td>\n",
       "      <td>0.573693</td>\n",
       "      <td>0.176344</td>\n",
       "    </tr>\n",
       "    <tr>\n",
       "      <th>8</th>\n",
       "      <td>719082944</td>\n",
       "      <td>101010110111000101010111000000</td>\n",
       "      <td>0.448496</td>\n",
       "      <td>0.137860</td>\n",
       "    </tr>\n",
       "    <tr>\n",
       "      <th>9</th>\n",
       "      <td>874951157</td>\n",
       "      <td>110100001001101011000111110101</td>\n",
       "      <td>0.664000</td>\n",
       "      <td>0.204102</td>\n",
       "    </tr>\n",
       "  </tbody>\n",
       "</table>\n",
       "</div>"
      ],
      "text/plain": [
       "    Decimales                        Binarios  FuncionObjetivo   Fitness\n",
       "0   343919852  010100011111111100110011101100         0.102592  0.031535\n",
       "1  1029262049  111101010110010100101011100001         0.918866  0.282444\n",
       "2   133725417  000111111110000111110011101001         0.015511  0.004768\n",
       "3   655534870  100111000100101010101100010110         0.372728  0.114570\n",
       "4   258343673  001111011001100000001011111001         0.057889  0.017794\n",
       "5   335376641  010011111111010111000100000001         0.097559  0.029988\n",
       "6    47211466  000010110100000110001111001010         0.001933  0.000594\n",
       "7   813279475  110000011110011010100011110011         0.573693  0.176344\n",
       "8   719082944  101010110111000101010111000000         0.448496  0.137860\n",
       "9   874951157  110100001001101011000111110101         0.664000  0.204102"
      ]
     },
     "metadata": {},
     "output_type": "display_data"
    }
   ],
   "source": [
    "def generarDataFrame(pob_dec, pob_bin):\n",
    "    data = {'Decimales': pob_dec, 'Binarios': pob_bin, 'FuncionObjetivo':funcionObjetivo(pob_dec)}\n",
    "    dataFrame = pd.DataFrame(data)\n",
    "    dataFrame['Fitness'] = dataFrame['FuncionObjetivo'] / dataFrame['FuncionObjetivo'].sum()\n",
    "    return dataFrame\n",
    "\n",
    "marcoDeDatos = generarDataFrame(poblacion_decimal, poblacion_binarios)\n",
    "display(marcoDeDatos)"
   ]
  },
  {
   "cell_type": "markdown",
   "metadata": {},
   "source": [
    "#### Estadisticas"
   ]
  },
  {
   "cell_type": "code",
   "execution_count": 9,
   "metadata": {},
   "outputs": [
    {
     "data": {
      "text/html": [
       "<div>\n",
       "<style scoped>\n",
       "    .dataframe tbody tr th:only-of-type {\n",
       "        vertical-align: middle;\n",
       "    }\n",
       "\n",
       "    .dataframe tbody tr th {\n",
       "        vertical-align: top;\n",
       "    }\n",
       "\n",
       "    .dataframe thead th {\n",
       "        text-align: right;\n",
       "    }\n",
       "</style>\n",
       "<table border=\"1\" class=\"dataframe\">\n",
       "  <thead>\n",
       "    <tr style=\"text-align: right;\">\n",
       "      <th></th>\n",
       "      <th>Suma</th>\n",
       "      <th>Promedio</th>\n",
       "      <th>Máximo</th>\n",
       "      <th>Mínimo</th>\n",
       "    </tr>\n",
       "  </thead>\n",
       "  <tbody>\n",
       "    <tr>\n",
       "      <th>Función objetivo</th>\n",
       "      <td>3.253266</td>\n",
       "      <td>0.325327</td>\n",
       "      <td>0.918866</td>\n",
       "      <td>0.001933</td>\n",
       "    </tr>\n",
       "    <tr>\n",
       "      <th>Fitness</th>\n",
       "      <td>1.000000</td>\n",
       "      <td>0.100000</td>\n",
       "      <td>0.282444</td>\n",
       "      <td>0.000594</td>\n",
       "    </tr>\n",
       "  </tbody>\n",
       "</table>\n",
       "</div>"
      ],
      "text/plain": [
       "                      Suma  Promedio    Máximo    Mínimo\n",
       "Función objetivo  3.253266  0.325327  0.918866  0.001933\n",
       "Fitness           1.000000  0.100000  0.282444  0.000594"
      ]
     },
     "metadata": {},
     "output_type": "display_data"
    }
   ],
   "source": [
    "def generarEstadisticas(dataFrame):\n",
    "    stats = {'Suma':[ dataFrame['FuncionObjetivo'].sum(), dataFrame['Fitness'].sum() ], 'Promedio': [ dataFrame['FuncionObjetivo'].mean(), dataFrame['Fitness'].mean() ], 'Máximo': [ dataFrame['FuncionObjetivo'].max(), dataFrame['Fitness'].max() ], 'Mínimo': [ dataFrame['FuncionObjetivo'].min(), dataFrame['Fitness'].min() ]}\n",
    "    dataFrame_stats = pd.DataFrame(stats, index = ['Función objetivo', 'Fitness'])\n",
    "    return dataFrame_stats, stats\n",
    "\n",
    "marcoDeDatos_stats, stats = generarEstadisticas(marcoDeDatos)\n",
    "\n",
    "display(marcoDeDatos_stats)"
   ]
  },
  {
   "cell_type": "markdown",
   "metadata": {},
   "source": [
    "### Generando una nueva población a partir de otra"
   ]
  },
  {
   "cell_type": "markdown",
   "metadata": {},
   "source": [
    "Selección de padres para la próxima generación"
   ]
  },
  {
   "cell_type": "markdown",
   "metadata": {},
   "source": [
    "#### Método ruleta"
   ]
  },
  {
   "cell_type": "code",
   "execution_count": 10,
   "metadata": {},
   "outputs": [
    {
     "data": {
      "text/plain": [
       "array(['010100011111111100110011101100', '110100001001101011000111110101',\n",
       "       '111101010110010100101011100001', '110000011110011010100011110011',\n",
       "       '110000011110011010100011110011', '110000011110011010100011110011',\n",
       "       '110000011110011010100011110011', '111101010110010100101011100001',\n",
       "       '111101010110010100101011100001', '111101010110010100101011100001'],\n",
       "      dtype=object)"
      ]
     },
     "execution_count": 10,
     "metadata": {},
     "output_type": "execute_result"
    }
   ],
   "source": [
    "def ruleta(dataFrame): #pasar marco de datos\n",
    "    probabilidades = np.array(dataFrame['Fitness']) #Asigna probabilidad basada en el fitness\n",
    "    cromosomas = np.array(dataFrame['Binarios'])\n",
    "    np.random.seed() \n",
    "    salida = np.random.choice(cromosomas, size=int(CANTIDAD_POBLACION), p=probabilidades)\n",
    "    return salida\n",
    "\n",
    "cromosomasPadresRuleta = ruleta(marcoDeDatos)\n",
    "cromosomasPadresRuleta"
   ]
  },
  {
   "cell_type": "markdown",
   "metadata": {},
   "source": [
    "#### Método torneo"
   ]
  },
  {
   "cell_type": "code",
   "execution_count": 11,
   "metadata": {},
   "outputs": [
    {
     "data": {
      "text/plain": [
       "['111101010110010100101011100001',\n",
       " '111101010110010100101011100001',\n",
       " '111101010110010100101011100001',\n",
       " '111101010110010100101011100001',\n",
       " '110000011110011010100011110011',\n",
       " '110100001001101011000111110101',\n",
       " '111101010110010100101011100001',\n",
       " '111101010110010100101011100001',\n",
       " '101010110111000101010111000000',\n",
       " '110100001001101011000111110101']"
      ]
     },
     "execution_count": 11,
     "metadata": {},
     "output_type": "execute_result"
    }
   ],
   "source": [
    "def torneo(dataFrame):\n",
    "    salida = []\n",
    "    fitness = np.array(dataFrame['Fitness'])\n",
    "    cromosomas = np.array(dataFrame['Binarios'])\n",
    "    for i in range(0,10):\n",
    "        posiblesCantidades = [ x for x in range(1,11)]\n",
    "        np.random.seed() \n",
    "        cantidadMiembrosTorneo = np.random.choice(posiblesCantidades, size=1)\n",
    "        miembrosTorneo = np.random.choice(fitness, size=cantidadMiembrosTorneo[0], replace=False) #Trabaja directamente con los fitness de los cromósomas\n",
    "        ganador = np.amax(miembrosTorneo)\n",
    "        indiceGanador = np.where(fitness == ganador) # retorna ndarray\n",
    "        cromosomaGanador = cromosomas[indiceGanador[0][0]]\n",
    "        salida.append(cromosomaGanador)\n",
    "    return salida\n",
    "\n",
    "cromosomasPadresTorneo = torneo(marcoDeDatos)\n",
    "cromosomasPadresTorneo"
   ]
  },
  {
   "cell_type": "markdown",
   "metadata": {},
   "source": [
    "Test de prueba (podemos borrar desp)"
   ]
  },
  {
   "cell_type": "code",
   "execution_count": 12,
   "metadata": {},
   "outputs": [
    {
     "name": "stdout",
     "output_type": "stream",
     "text": [
      "[0.03153517 0.02998791 0.0047677  0.1378601 ]\n",
      "Cantidad: 4\n",
      "Fitness ganador: 0.13786010341521918\n",
      "Indice: 8\n",
      "Cromosoma: 101010110111000101010111000000\n"
     ]
    }
   ],
   "source": [
    "fitness = np.array(marcoDeDatos['Fitness'])\n",
    "cromosomas = np.array(marcoDeDatos['Binarios'])\n",
    "posiblesCantidades = [ x for x in range(1,11)]\n",
    "cantidadMiembrosTorneo = np.random.choice(posiblesCantidades, size=1)\n",
    "miembrosTorneo = np.random.choice(fitness, size=cantidadMiembrosTorneo[0], replace=False) #Trabaja directamente con los fitness de los cromósomas\n",
    "ganador = np.amax(miembrosTorneo)\n",
    "indiceGanador = np.where(fitness == ganador)\n",
    "print(miembrosTorneo)\n",
    "print(\"Cantidad: \"+str(cantidadMiembrosTorneo[0]))\n",
    "print(\"Fitness ganador: \"+str(ganador))\n",
    "print(\"Indice: \"+str(indiceGanador[0][0]))\n",
    "print(\"Cromosoma: \"+str(cromosomas[indiceGanador[0][0]]))"
   ]
  },
  {
   "cell_type": "markdown",
   "metadata": {},
   "source": [
    "#### Crossover"
   ]
  },
  {
   "cell_type": "code",
   "execution_count": 13,
   "metadata": {},
   "outputs": [],
   "source": [
    "def crossover(padres): #Pasar ndarray cromosomas padres\n",
    "    hijos = []\n",
    "    for i in range(0,10,2):\n",
    "        opciones=[True, False]\n",
    "        np.random.seed() \n",
    "        prob_cross = np.array([PROB_CROSSOVER,(1-PROB_CROSSOVER)]) # Probabilidades de cada opción\n",
    "        cross = np.random.choice(opciones, size=1, p=prob_cross)\n",
    "        if cross[0]:\n",
    "            posiciones = [x for x in range(0, 30)]\n",
    "            probCorte = [1/30 for x in range(0, 30)]\n",
    "            corte = np.random.choice(posiciones, size=1, p=probCorte) # Devuelve ndarray de 1 elemento\n",
    "            posicionCorte = corte[0] \n",
    "            primerTiraGenesPadre1 = padres[i][0:posicionCorte]\n",
    "            segundaTiraGenesPadre1 = padres[i][posicionCorte:30]\n",
    "            primerTiraGenesPadre2 = padres[i+1][0:posicionCorte]\n",
    "            segundaTiraGenesPadre2 = padres[i+1][posicionCorte:30]\n",
    "            hijos.append(primerTiraGenesPadre1 + segundaTiraGenesPadre2) # Hijo 1\n",
    "            hijos.append(primerTiraGenesPadre2 + segundaTiraGenesPadre1) # Hijo 2\n",
    "        else:\n",
    "            hijos.append(padres[i])\n",
    "            hijos.append(padres[i+1])\n",
    "    return hijos"
   ]
  },
  {
   "cell_type": "markdown",
   "metadata": {},
   "source": [
    "##### Crossover ruleta"
   ]
  },
  {
   "cell_type": "code",
   "execution_count": 14,
   "metadata": {},
   "outputs": [
    {
     "data": {
      "text/plain": [
       "['010100011001101011000111110101',\n",
       " '110100001111111100110011101100',\n",
       " '111101010110010100101011100001',\n",
       " '110000011110011010100011110011',\n",
       " '110000011110011010100011110011',\n",
       " '110000011110011010100011110011',\n",
       " '110000011110010100101011100001',\n",
       " '111101010110011010100011110011',\n",
       " '111101010110010100101011100001',\n",
       " '111101010110010100101011100001']"
      ]
     },
     "execution_count": 14,
     "metadata": {},
     "output_type": "execute_result"
    }
   ],
   "source": [
    "cromosomasHijosRuleta = crossover(cromosomasPadresRuleta)\n",
    "cromosomasHijosRuleta"
   ]
  },
  {
   "cell_type": "markdown",
   "metadata": {},
   "source": [
    "##### Crossover torneo"
   ]
  },
  {
   "cell_type": "code",
   "execution_count": 15,
   "metadata": {},
   "outputs": [
    {
     "name": "stdout",
     "output_type": "stream",
     "text": [
      "['111101010110010100101011100001', '111101010110010100101011100001', '111101010110010100101011100001', '111101010110010100101011100001', '110000011110011010100011110011', '110100001001101011000111110101', '111101010110010100101011100001', '111101010110010100101011100001', '101010110111000101010111000001', '110100001001101011000111110100']\n"
     ]
    }
   ],
   "source": [
    "cromosomasHijosTorneo = crossover(cromosomasPadresTorneo)\n",
    "print(cromosomasHijosTorneo)"
   ]
  },
  {
   "cell_type": "markdown",
   "metadata": {},
   "source": [
    "#### Mutación"
   ]
  },
  {
   "cell_type": "code",
   "execution_count": 16,
   "metadata": {},
   "outputs": [
    {
     "data": {
      "text/plain": [
       "['010100011001101011000111110101',\n",
       " '110100001111111100110011101100',\n",
       " '111101010110010100101011100001',\n",
       " '110000011110011010100011110011',\n",
       " '110000011110011010100011110011',\n",
       " '110000011110011010100010110011',\n",
       " '110000011110010100101011100001',\n",
       " '111101010110011010100011110011',\n",
       " '111101010110010100101011100001',\n",
       " '111101010110010100101011100001']"
      ]
     },
     "execution_count": 16,
     "metadata": {},
     "output_type": "execute_result"
    }
   ],
   "source": [
    "def mutacion(cromosomas):\n",
    "    hijos = []\n",
    "    rng = np.random.default_rng() # Random Number Generator\n",
    "    for i in range(0,10):\n",
    "        mutar = rng.random()\n",
    "        \n",
    "        if (PROB_MUTACION > mutar):\n",
    "            posicion = rng.integers(low=0, high=29, size=1)\n",
    "            #print(\"Posición: \" + str(posicion))\n",
    "            #print(cromosomas[i][posicion[0]])\n",
    "            #print(cromosomas[i])\n",
    "            if ( int(cromosomas[i][posicion[0]]) == 1 ):\n",
    "                cromosoma = list(cromosomas[i]) # Convierte el lista al cromosoma seleccionado\n",
    "                # Lo hice así porque python no permite asignar valores a una pisición de un array\n",
    "                #print(cromosomas[i])\n",
    "                cromosoma[posicion[0]] = '0' # cambia el gen indicado\n",
    "                cromosomaMutado =''.join(cromosoma)  # volverlo a convertir en int (o podría ser a array)\n",
    "                #print(cromosomaMutado)\n",
    "                hijos.append(cromosomaMutado)\n",
    "                \n",
    "            else:\n",
    "                cromosoma = list(cromosomas[i]) \n",
    "                #print(cromosomas[i])\n",
    "                cromosoma[posicion[0]] = '1' # cambia el gen indicado\n",
    "                cromosomaMutado =''.join(cromosoma)\n",
    "                #print(cromosomaMutado)\n",
    "                hijos.append(cromosomaMutado)\n",
    "                \n",
    "        else:\n",
    "            hijos.append(cromosomas[i])\n",
    "    return hijos \n",
    "\n",
    "hijosmutados = mutacion(cromosomasHijosRuleta)\n",
    "\n",
    "hijosmutados"
   ]
  },
  {
   "cell_type": "markdown",
   "metadata": {},
   "source": [
    "### Main"
   ]
  },
  {
   "cell_type": "code",
   "execution_count": 17,
   "metadata": {},
   "outputs": [
    {
     "data": {
      "image/png": "[encoded data removed]",
      "text/plain": [
       "<Figure size 1440x1440 with 1 Axes>"
      ]
     },
     "metadata": {
      "needs_background": "light"
     },
     "output_type": "display_data"
    }
   ],
   "source": [
    "estadisticas = {\"Iteración\":[x for x in range(1,201)], \"Máximo\":[], \"Mínimo\":[], \"Promedio\":[]}\n",
    "poblacion_decimal = poblacionInicial()\n",
    "poblacion_binarios = convertirPoblacion(poblacion_decimal)\n",
    "for i in range(0,200):\n",
    "    marcoDeDatos = generarDataFrame(poblacion_decimal, poblacion_binarios)\n",
    "    marcoDeDatos_stats, stats = generarEstadisticas(marcoDeDatos)\n",
    "    estadisticas[\"Máximo\"].append(stats['Máximo'][0])\n",
    "    estadisticas[\"Mínimo\"].append(stats['Mínimo'][0])\n",
    "    estadisticas[\"Promedio\"].append(stats['Promedio'][0])\n",
    "    cromosomasPadresRuleta = ruleta(marcoDeDatos)\n",
    "    cromosomasHijosRuleta = crossover(cromosomasPadresRuleta)\n",
    "    cromosomasHijosMutados = mutacion(cromosomasHijosRuleta)\n",
    "    poblacion_binarios = cromosomasHijosMutados\n",
    "    poblacion_decimal = convertirPoblacion(poblacion_binarios, False)\n",
    "    \n",
    "# TODO hacer esto una función aparte\n",
    "# opciones extra hacer mismo grafico sin mutación. (Se ve como se estanca la función en maximos locales)\n",
    "plt.figure(figsize=(20,20))\n",
    "plt.plot(estadisticas[\"Iteración\"], estadisticas[\"Máximo\"], 'b.-', label=\"Máximo\")\n",
    "plt.plot(estadisticas[\"Iteración\"], estadisticas[\"Mínimo\"], 'r.-', label=\"Mínimo\")\n",
    "plt.plot(estadisticas[\"Iteración\"], estadisticas[\"Promedio\"], 'g.-', label=\"Promedio\")\n",
    "plt.legend()\n",
    "plt.title(\"Gas prices over time\")\n",
    "plt.xticks(estadisticas[\"Iteración\"][::1])\n",
    "plt.yticks(np.arange(0, 1.01, step=0.025))\n",
    "plt.xlabel(\"Iteraciones\")\n",
    "plt.ylabel(\"F. Objetivo\")\n",
    "plt.show()"
   ]
  }
 ],
 "metadata": {
  "kernelspec": {
   "display_name": "Python 3.9.13 64-bit",
   "language": "python",
   "name": "python3"
  },
  "language_info": {
   "codemirror_mode": {
    "name": "ipython",
    "version": 3
   },
   "file_extension": ".py",
   "mimetype": "text/x-python",
   "name": "python",
   "nbconvert_exporter": "python",
   "pygments_lexer": "ipython3",
   "version": "3.9.13"
  },
  "orig_nbformat": 4,
  "vscode": {
   "interpreter": {
    "hash": "f1a5d23aa71d821cb89ea9bf9e09d6a9661f348a5982dd36c24152f8b8a929a8"
   }
  }
 },
 "nbformat": 4,
 "nbformat_minor": 2
}
