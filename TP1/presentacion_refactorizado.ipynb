{
 "cells": [
  {
   "attachments": {},
   "cell_type": "markdown",
   "metadata": {},
   "source": [
    "## TP parte A - Ruleta, Crossover Mutacion"
   ]
  },
  {
   "attachments": {},
   "cell_type": "markdown",
   "metadata": {},
   "source": [
    "### Librerias"
   ]
  },
  {
   "cell_type": "code",
   "execution_count": 1,
   "metadata": {},
   "outputs": [],
   "source": [
    "import numpy as np\n",
    "import pandas as pd\n",
    "import matplotlib.pyplot as plt"
   ]
  },
  {
   "attachments": {},
   "cell_type": "markdown",
   "metadata": {},
   "source": [
    "### Variables"
   ]
  },
  {
   "cell_type": "code",
   "execution_count": 2,
   "metadata": {},
   "outputs": [],
   "source": [
    "PROB_CROSSOVER = 0.75\n",
    "PROB_MUTACION = 0.05\n",
    "CICLOS = 200\n",
    "CANTIDAD_POBLACION = 10\n",
    "COEF = 1073741823\n",
    "ITERACIONES_IMPRIMIBLES = [20, 100, 200]"
   ]
  },
  {
   "attachments": {},
   "cell_type": "markdown",
   "metadata": {},
   "source": [
    "### Fitness y Objetivo"
   ]
  },
  {
   "cell_type": "code",
   "execution_count": 3,
   "metadata": {},
   "outputs": [],
   "source": [
    "def convertirPoblacion(pob_ini, bin=True): # Pasar False para convertir a decimal\n",
    "    pob_fin = []\n",
    "    for numero in pob_ini:\n",
    "        if bin:\n",
    "            pob_fin.append(format(numero,'030b'))\n",
    "        else:\n",
    "            pob_fin.append(int(str(numero), 2))\n",
    "    return pob_fin"
   ]
  },
  {
   "cell_type": "code",
   "execution_count": 4,
   "metadata": {},
   "outputs": [],
   "source": [
    "def funcionObjetivo(poblacion_binarios):\n",
    "    poblacion = convertirPoblacion(poblacion_binarios, False)\n",
    "    fun_objetivo = []\n",
    "    for cromosoma in poblacion:\n",
    "        fun_objetivo.append((cromosoma/COEF)**2)\n",
    "    return fun_objetivo"
   ]
  },
  {
   "cell_type": "code",
   "execution_count": 5,
   "metadata": {},
   "outputs": [],
   "source": [
    "def funcionFitness(poblacion_binarios):\n",
    "    fitness = []\n",
    "    fun_objetivo = funcionObjetivo(poblacion_binarios)\n",
    "    for objetivo in fun_objetivo:\n",
    "        fitness.append((objetivo/sum(fun_objetivo)))\n",
    "    return fitness"
   ]
  },
  {
   "attachments": {},
   "cell_type": "markdown",
   "metadata": {},
   "source": [
    "#### Poblacion"
   ]
  },
  {
   "cell_type": "code",
   "execution_count": 6,
   "metadata": {},
   "outputs": [
    {
     "data": {
      "text/plain": [
       "array([174919638, 782122574, 590681511, 371771995, 255531878,  60695670,\n",
       "       284247083, 468322121, 519401944, 684362234], dtype=int64)"
      ]
     },
     "execution_count": 6,
     "metadata": {},
     "output_type": "execute_result"
    }
   ],
   "source": [
    "def poblacionInicial():\n",
    "  rng = np.random.default_rng() # Random Number Generator\n",
    "  poblacion_decimal = rng.integers(low=0, high=COEF, size=CANTIDAD_POBLACION)\n",
    "  return poblacion_decimal\n",
    "\n",
    "poblacion_decimal = poblacionInicial()\n",
    "poblacion_decimal"
   ]
  },
  {
   "attachments": {},
   "cell_type": "markdown",
   "metadata": {},
   "source": [
    "#### Binarios"
   ]
  },
  {
   "cell_type": "code",
   "execution_count": 7,
   "metadata": {},
   "outputs": [
    {
     "data": {
      "text/plain": [
       "['110100100001111011000011111001',\n",
       " '101100110101100010100011100101',\n",
       " '001101110100010000101000001011',\n",
       " '000000010011110011001011110100',\n",
       " '110100101111111011110011011110',\n",
       " '011101011010010011011100100001',\n",
       " '000110001111001110110111100100',\n",
       " '010010111001110100011111100011',\n",
       " '011000100000000001110000111011',\n",
       " '010000101001000101100100010011']"
      ]
     },
     "execution_count": 7,
     "metadata": {},
     "output_type": "execute_result"
    }
   ],
   "source": [
    "poblacion_binarios = convertirPoblacion(poblacionInicial(), True)\n",
    "poblacion_binarios"
   ]
  },
  {
   "attachments": {},
   "cell_type": "markdown",
   "metadata": {},
   "source": [
    "### Tabla de datos"
   ]
  },
  {
   "cell_type": "code",
   "execution_count": 8,
   "metadata": {},
   "outputs": [
    {
     "data": {
      "text/html": [
       "<div>\n",
       "<style scoped>\n",
       "    .dataframe tbody tr th:only-of-type {\n",
       "        vertical-align: middle;\n",
       "    }\n",
       "\n",
       "    .dataframe tbody tr th {\n",
       "        vertical-align: top;\n",
       "    }\n",
       "\n",
       "    .dataframe thead th {\n",
       "        text-align: right;\n",
       "    }\n",
       "</style>\n",
       "<table border=\"1\" class=\"dataframe\">\n",
       "  <thead>\n",
       "    <tr style=\"text-align: right;\">\n",
       "      <th></th>\n",
       "      <th>Decimales</th>\n",
       "      <th>Binarios</th>\n",
       "      <th>FuncionObjetivo</th>\n",
       "      <th>Fitness</th>\n",
       "    </tr>\n",
       "  </thead>\n",
       "  <tbody>\n",
       "    <tr>\n",
       "      <th>0</th>\n",
       "      <td>174919638</td>\n",
       "      <td>110100100001111011000011111001</td>\n",
       "      <td>0.673683</td>\n",
       "      <td>0.279245</td>\n",
       "    </tr>\n",
       "    <tr>\n",
       "      <th>1</th>\n",
       "      <td>782122574</td>\n",
       "      <td>101100110101100010100011100101</td>\n",
       "      <td>0.490800</td>\n",
       "      <td>0.203439</td>\n",
       "    </tr>\n",
       "    <tr>\n",
       "      <th>2</th>\n",
       "      <td>590681511</td>\n",
       "      <td>001101110100010000101000001011</td>\n",
       "      <td>0.046606</td>\n",
       "      <td>0.019318</td>\n",
       "    </tr>\n",
       "    <tr>\n",
       "      <th>3</th>\n",
       "      <td>371771995</td>\n",
       "      <td>000000010011110011001011110100</td>\n",
       "      <td>0.000023</td>\n",
       "      <td>0.000010</td>\n",
       "    </tr>\n",
       "    <tr>\n",
       "      <th>4</th>\n",
       "      <td>255531878</td>\n",
       "      <td>110100101111111011110011011110</td>\n",
       "      <td>0.679310</td>\n",
       "      <td>0.281578</td>\n",
       "    </tr>\n",
       "    <tr>\n",
       "      <th>5</th>\n",
       "      <td>60695670</td>\n",
       "      <td>011101011010010011011100100001</td>\n",
       "      <td>0.211183</td>\n",
       "      <td>0.087537</td>\n",
       "    </tr>\n",
       "    <tr>\n",
       "      <th>6</th>\n",
       "      <td>284247083</td>\n",
       "      <td>000110001111001110110111100100</td>\n",
       "      <td>0.009500</td>\n",
       "      <td>0.003938</td>\n",
       "    </tr>\n",
       "    <tr>\n",
       "      <th>7</th>\n",
       "      <td>468322121</td>\n",
       "      <td>010010111001110100011111100011</td>\n",
       "      <td>0.087241</td>\n",
       "      <td>0.036162</td>\n",
       "    </tr>\n",
       "    <tr>\n",
       "      <th>8</th>\n",
       "      <td>519401944</td>\n",
       "      <td>011000100000000001110000111011</td>\n",
       "      <td>0.146551</td>\n",
       "      <td>0.060746</td>\n",
       "    </tr>\n",
       "    <tr>\n",
       "      <th>9</th>\n",
       "      <td>684362234</td>\n",
       "      <td>010000101001000101100100010011</td>\n",
       "      <td>0.067616</td>\n",
       "      <td>0.028027</td>\n",
       "    </tr>\n",
       "  </tbody>\n",
       "</table>\n",
       "</div>"
      ],
      "text/plain": [
       "   Decimales                        Binarios  FuncionObjetivo   Fitness\n",
       "0  174919638  110100100001111011000011111001         0.673683  0.279245\n",
       "1  782122574  101100110101100010100011100101         0.490800  0.203439\n",
       "2  590681511  001101110100010000101000001011         0.046606  0.019318\n",
       "3  371771995  000000010011110011001011110100         0.000023  0.000010\n",
       "4  255531878  110100101111111011110011011110         0.679310  0.281578\n",
       "5   60695670  011101011010010011011100100001         0.211183  0.087537\n",
       "6  284247083  000110001111001110110111100100         0.009500  0.003938\n",
       "7  468322121  010010111001110100011111100011         0.087241  0.036162\n",
       "8  519401944  011000100000000001110000111011         0.146551  0.060746\n",
       "9  684362234  010000101001000101100100010011         0.067616  0.028027"
      ]
     },
     "execution_count": 8,
     "metadata": {},
     "output_type": "execute_result"
    }
   ],
   "source": [
    "def generarDataFrame(data):\n",
    "    return pd.DataFrame(data)\n",
    "\n",
    "datos  = {'Decimales': poblacion_decimal, 'Binarios': poblacion_binarios,\n",
    "          'FuncionObjetivo':np.array(funcionObjetivo(poblacion_binarios)),\n",
    "          'Fitness': np.array(funcionFitness(poblacion_binarios))\n",
    "                  }\n",
    "\n",
    "data_frame = generarDataFrame(datos)\n",
    "data_frame"
   ]
  },
  {
   "attachments": {},
   "cell_type": "markdown",
   "metadata": {},
   "source": [
    "#### Estadisticas Marco de datos"
   ]
  },
  {
   "cell_type": "code",
   "execution_count": 9,
   "metadata": {},
   "outputs": [
    {
     "data": {
      "text/plain": [
       "Suma        1.000000\n",
       "Promedio    0.100000\n",
       "Máximo      0.281578\n",
       "Mínimo      0.000010\n",
       "Name: Fitness, dtype: float64"
      ]
     },
     "execution_count": 9,
     "metadata": {},
     "output_type": "execute_result"
    }
   ],
   "source": [
    "def generarEstadisticas(dataFrame): \n",
    "\n",
    "    calcular_datos = lambda nombre,frame: ( frame[nombre].sum(), frame[nombre].mean(), frame[nombre].max(), frame[nombre].min() )\n",
    "\n",
    "\n",
    "    fObjetivo_suma, fObjetivo_minimo, fObjetivo_promedio, fObjetivo_maximo = calcular_datos('FuncionObjetivo',dataFrame)\n",
    "    fFitness_suma, fFitness_minimo, fFitness_promedio, fFitness_maximo = calcular_datos('Fitness',dataFrame)\n",
    "\n",
    "    stats = {\n",
    "        'Suma': [       fObjetivo_suma,     fFitness_suma ],\n",
    "        'Promedio':[    fObjetivo_promedio, fFitness_promedio ],\n",
    "        'Máximo': [     fObjetivo_maximo,   fFitness_maximo ], \n",
    "        'Mínimo': [     fObjetivo_minimo,   fFitness_minimo ]\n",
    "        }\n",
    "    \n",
    "    dataFrame_stats = pd.DataFrame(stats, index = ['Función objetivo', 'Fitness'])\n",
    "\n",
    "    return dataFrame_stats, stats\n",
    "\n",
    "marcoDeDatos_stats, stats = generarEstadisticas(data_frame)\n",
    "mc = marcoDeDatos_stats.loc['Fitness']\n",
    "mc"
   ]
  },
  {
   "attachments": {},
   "cell_type": "markdown",
   "metadata": {},
   "source": [
    "### Ruleta"
   ]
  },
  {
   "cell_type": "code",
   "execution_count": 10,
   "metadata": {},
   "outputs": [
    {
     "data": {
      "text/plain": [
       "['010000101001000101100100010011',\n",
       " '110100100001111011000011111001',\n",
       " '110100101111111011110011011110',\n",
       " '110100100001111011000011111001',\n",
       " '110100100001111011000011111001',\n",
       " '101100110101100010100011100101',\n",
       " '101100110101100010100011100101',\n",
       " '011101011010010011011100100001',\n",
       " '101100110101100010100011100101',\n",
       " '101100110101100010100011100101']"
      ]
     },
     "execution_count": 10,
     "metadata": {},
     "output_type": "execute_result"
    }
   ],
   "source": [
    "def ruleta(pob_bin, cantidad_poblacion):\n",
    "    # Asigna probabilidad basada en el fitness\n",
    "    cromosomas = np.array(pob_bin)\n",
    "    probabilidades = np.array(funcionFitness(pob_bin))\n",
    "    np.random.seed()\n",
    "    binarios_ruleta = np.random.choice(cromosomas, size=int(cantidad_poblacion), p=probabilidades)\n",
    "    binarios_ruleta = binarios_ruleta.tolist()\n",
    "    return binarios_ruleta\n",
    "binarios_ruleta = ruleta(poblacion_binarios, 10)\n",
    "binarios_ruleta"
   ]
  },
  {
   "attachments": {},
   "cell_type": "markdown",
   "metadata": {},
   "source": [
    "### Crossover"
   ]
  },
  {
   "cell_type": "code",
   "execution_count": 11,
   "metadata": {},
   "outputs": [
    {
     "data": {
      "text/plain": [
       "['010000101001000101100100010011',\n",
       " '110100100001111011000011111001',\n",
       " '110100101111111011000011111001',\n",
       " '110100100001111011110011011110',\n",
       " '110100100001111011000011111001',\n",
       " '101100110101100010100011100101',\n",
       " '101101011010010011011100100001',\n",
       " '011100110101100010100011100101',\n",
       " '101100110101100010100011100101',\n",
       " '101100110101100010100011100101']"
      ]
     },
     "execution_count": 11,
     "metadata": {},
     "output_type": "execute_result"
    }
   ],
   "source": [
    "def crossover(poblacion_binarios, prob_corssover):\n",
    "    hijos_crossover = []\n",
    "    pob_binarios = np.array(poblacion_binarios)\n",
    "    cantidad_poblacion = len(pob_binarios)\n",
    "    genes = len(pob_binarios[0])\n",
    "    for i in range(0, cantidad_poblacion, 2):\n",
    "        opciones = [True, False]\n",
    "        np.random.seed()\n",
    "        # Probabilidades de cada opción\n",
    "        prob_cross = np.array([prob_corssover, (1-prob_corssover)])\n",
    "        cross = np.random.choice(opciones, size=1, p=prob_cross)\n",
    "        if cross[0]:\n",
    "            posiciones = [x for x in range(0, genes)]\n",
    "            probCorte = [(1/genes) for x in range(0, genes)]\n",
    "            # Devuelve ndarray de 1 elemento\n",
    "            corte = np.random.choice(posiciones, size=1, p=probCorte)\n",
    "            posicionCorte = corte[0]\n",
    "            primerTiraGenesPadre1 = pob_binarios[i][0:posicionCorte]\n",
    "            segundaTiraGenesPadre1 = pob_binarios[i][posicionCorte:genes]\n",
    "            primerTiraGenesPadre2 = pob_binarios[i+1][0:posicionCorte]\n",
    "            segundaTiraGenesPadre2 = pob_binarios[i+1][posicionCorte:genes]\n",
    "            hijos_crossover.append(primerTiraGenesPadre1 + segundaTiraGenesPadre2)  # Hijo 1\n",
    "            hijos_crossover.append(primerTiraGenesPadre2 + segundaTiraGenesPadre1)  # Hijo 2\n",
    "        else:\n",
    "            hijos_crossover.append(pob_binarios[i])\n",
    "            hijos_crossover.append(pob_binarios[i+1])\n",
    "    return hijos_crossover\n",
    "binarios_crossover = crossover(binarios_ruleta, PROB_CROSSOVER)\n",
    "binarios_crossover"
   ]
  },
  {
   "attachments": {},
   "cell_type": "markdown",
   "metadata": {},
   "source": [
    "### Mutacion"
   ]
  },
  {
   "cell_type": "code",
   "execution_count": 12,
   "metadata": {},
   "outputs": [
    {
     "data": {
      "text/plain": [
       "['010000101001000101100100010011',\n",
       " '110100100001111011000011111001',\n",
       " '110100101111111011000011111001',\n",
       " '110100100001111011110011011110',\n",
       " '110100100001111011000011111001',\n",
       " '101100110101100010100011100101',\n",
       " '101101011010010011011100100001',\n",
       " '011100110101100010100011100101',\n",
       " '101100110101100010100011100101',\n",
       " '101100110101100010100011100101']"
      ]
     },
     "execution_count": 12,
     "metadata": {},
     "output_type": "execute_result"
    }
   ],
   "source": [
    "def mutacion(hijos_binarios, prob_mutacion):\n",
    "        hijos_mutados = []\n",
    "        genes = len(str(hijos_binarios[0]))\n",
    "        for hijo in hijos_binarios:\n",
    "            opciones = [True, False]\n",
    "            np.random.seed()\n",
    "            # Probabilidades de cada opción\n",
    "            prob_mut = np.array([prob_mutacion, (1-prob_mutacion)])\n",
    "            mut = np.random.choice(opciones, size=1, p=prob_mut)\n",
    "            if mut[0]:\n",
    "                posiciones = [x for x in range(0, genes)]\n",
    "                probMutacion = [1/genes for x in range(0, genes)]\n",
    "                # Devuelve ndarray de 1 elemento\n",
    "                posicionMutacion = np.random.choice(posiciones, size=1, p=probMutacion)\n",
    "                posicionMutacion = posicionMutacion[0]\n",
    "\n",
    "                hijo[posicionMutacion] == '1' if hijo[posicionMutacion] == '0' else '0'\n",
    "\n",
    "            hijos_mutados.append(hijo)\n",
    "        return hijos_mutados\n",
    "mutados = mutacion(binarios_crossover, PROB_MUTACION)\n",
    "mutados"
   ]
  },
  {
   "attachments": {},
   "cell_type": "markdown",
   "metadata": {},
   "source": [
    "### Torneo"
   ]
  },
  {
   "cell_type": "code",
   "execution_count": 13,
   "metadata": {},
   "outputs": [
    {
     "data": {
      "text/plain": [
       "['101100110101100010100011100101',\n",
       " '110100101111111011110011011110',\n",
       " '110100101111111011110011011110',\n",
       " '110100101111111011110011011110',\n",
       " '001101110100010000101000001011',\n",
       " '101100110101100010100011100101',\n",
       " '110100101111111011110011011110',\n",
       " '110100101111111011110011011110',\n",
       " '110100100001111011000011111001',\n",
       " '110100101111111011110011011110']"
      ]
     },
     "execution_count": 13,
     "metadata": {},
     "output_type": "execute_result"
    }
   ],
   "source": [
    "def torneo(poblacion_binarios, cantidad_poblacion):\n",
    "    binarios_torneo = []\n",
    "    pob_binarios = np.array(poblacion_binarios)\n",
    "    fitness = np.array(funcionFitness(pob_binarios))\n",
    "    for i in range(0, cantidad_poblacion):\n",
    "        posiblesCantidades = [x for x in range(1, (cantidad_poblacion+1))]\n",
    "        np.random.seed()\n",
    "        cantidadMiembrosTorneo = np.random.choice(posiblesCantidades, size=1)\n",
    "        # Trabaja directamente con los fitness de los cromósomas\n",
    "        miembrosTorneo = np.random.choice(fitness, size=cantidadMiembrosTorneo[0], replace=False)\n",
    "        ganador = np.amax(miembrosTorneo)\n",
    "        indiceGanador = np.where(fitness == ganador)  # retorna ndarray\n",
    "        cromosomaGanador = pob_binarios[indiceGanador[0][0]]\n",
    "        binarios_torneo.append(cromosomaGanador)\n",
    "    return binarios_torneo\n",
    "binarios_torneo = torneo(poblacion_binarios, 10)\n",
    "binarios_torneo"
   ]
  },
  {
   "attachments": {},
   "cell_type": "markdown",
   "metadata": {},
   "source": [
    "### Elitismo"
   ]
  },
  {
   "cell_type": "code",
   "execution_count": 14,
   "metadata": {},
   "outputs": [
    {
     "data": {
      "text/plain": [
       "['110100101111111011110011011110', '110100100001111011000011111001']"
      ]
     },
     "execution_count": 14,
     "metadata": {},
     "output_type": "execute_result"
    }
   ],
   "source": [
    "def elitismo(poblacion_binarios, cantidad):\n",
    "    fitness = funcionFitness(poblacion_binarios)\n",
    "    elites = []\n",
    "    for i in range(0, cantidad):\n",
    "        ganador = max(fitness)\n",
    "        indiceGanador = fitness.index(ganador)\n",
    "        cromosomaGanador = poblacion_binarios[indiceGanador]\n",
    "        elites.append(cromosomaGanador)\n",
    "        fitness.remove(ganador)\n",
    "    return elites\n",
    "elites = elitismo(poblacion_binarios, 2)\n",
    "elites"
   ]
  },
  {
   "attachments": {},
   "cell_type": "markdown",
   "metadata": {},
   "source": [
    "## Iteracion"
   ]
  },
  {
   "attachments": {},
   "cell_type": "markdown",
   "metadata": {},
   "source": [
    "### Tablas"
   ]
  },
  {
   "cell_type": "code",
   "execution_count": 15,
   "metadata": {},
   "outputs": [],
   "source": [
    "def hacerTabla(cantIteraciones, maximos, minimos, promedios):\n",
    "    iteraciones = [x for x in range(1,cantIteraciones+1)]\n",
    "    data = {'Iteracion': iteraciones, 'Maximo': maximos, \n",
    "            'Minimo':minimos, 'Promedio':promedios}\n",
    "    data_frame = pd.DataFrame(data)\n",
    "    return data_frame"
   ]
  },
  {
   "attachments": {},
   "cell_type": "markdown",
   "metadata": {},
   "source": [
    "### Graficos"
   ]
  },
  {
   "cell_type": "code",
   "execution_count": 16,
   "metadata": {},
   "outputs": [],
   "source": [
    "def hacerGrafico(estadisticas, iteracion):\n",
    "    estadisticas[\"Iteración\"]=[x for x in range(1,iteracion+1)]\n",
    "    plt.figure(figsize=(20,20))\n",
    "    plt.plot(estadisticas[\"Iteración\"], estadisticas[\"Máximo\"], 'b.-', label=\"Máximo\")\n",
    "    plt.plot(estadisticas[\"Iteración\"], estadisticas[\"Mínimo\"], 'r.-', label=\"Mínimo\")\n",
    "    plt.plot(estadisticas[\"Iteración\"], estadisticas[\"Promedio\"], 'g.-', label=\"Promedio\")\n",
    "    plt.legend()\n",
    "    plt.title(\"Gráfica iteración: \" + str(iteracion))\n",
    "    plt.xticks(estadisticas[\"Iteración\"][::1])\n",
    "    plt.yticks(np.arange(0, 1.01, step=0.025))\n",
    "    plt.xlabel(\"Iteraciones\")\n",
    "    plt.ylabel(\"F. Objetivo\")\n",
    "    plt.show()"
   ]
  },
  {
   "cell_type": "code",
   "execution_count": null,
   "metadata": {},
   "outputs": [],
   "source": []
  },
  {
   "attachments": {},
   "cell_type": "markdown",
   "metadata": {},
   "source": [
    "### Iteracion"
   ]
  },
  {
   "cell_type": "code",
   "execution_count": 17,
   "metadata": {},
   "outputs": [
    {
     "name": "stdout",
     "output_type": "stream",
     "text": [
      "CASO A: Método selección ruleta\n"
     ]
    },
    {
     "ename": "KeyError",
     "evalue": "'FuncionObjetivo'",
     "output_type": "error",
     "traceback": [
      "\u001b[1;31m---------------------------------------------------------------------------\u001b[0m",
      "\u001b[1;31mKeyError\u001b[0m                                  Traceback (most recent call last)",
      "Cell \u001b[1;32mIn[17], line 75\u001b[0m\n\u001b[0;32m     73\u001b[0m     tipo_seleccion,conElitismo, conMutacion \u001b[39m=\u001b[39m (value[\u001b[39m0\u001b[39m],value[\u001b[39m1\u001b[39m],value[\u001b[39m2\u001b[39m]) \u001b[39mif\u001b[39;00m \u001b[39mtype\u001b[39m(value) \u001b[39m==\u001b[39m \u001b[39mtuple\u001b[39m \u001b[39melse\u001b[39;00m (value,\u001b[39mFalse\u001b[39;00m,\u001b[39mTrue\u001b[39;00m) \n\u001b[0;32m     74\u001b[0m     \u001b[39mfor\u001b[39;00m ciclo \u001b[39min\u001b[39;00m ITERACIONES_IMPRIMIBLES: \n\u001b[1;32m---> 75\u001b[0m         main(tipo_seleccion, ciclo,conElitismo,conMutacion)\n\u001b[0;32m     79\u001b[0m \u001b[39m# print(\"CASO A: Método selección ruleta\")\u001b[39;00m\n\u001b[0;32m     80\u001b[0m \u001b[39m# main(ruleta)\u001b[39;00m\n\u001b[0;32m     81\u001b[0m \u001b[39m# print(\"CASO B: Método selección torneo\")\u001b[39;00m\n\u001b[1;32m   (...)\u001b[0m\n\u001b[0;32m     96\u001b[0m \u001b[39m# print(\"CASO C: Método selección torneo con elitismo sin mutación\")\u001b[39;00m\n\u001b[0;32m     97\u001b[0m \u001b[39m# main(torneo, tieneElitismo = True, mutar = False)\u001b[39;00m\n",
      "Cell \u001b[1;32mIn[17], line 47\u001b[0m, in \u001b[0;36mmain\u001b[1;34m(seleccion, ciclos, tieneElitismo, mutar)\u001b[0m\n\u001b[0;32m     45\u001b[0m \u001b[39mif\u001b[39;00m ( i \u001b[39m==\u001b[39m ciclos\u001b[39m-\u001b[39m\u001b[39m1\u001b[39m ):\n\u001b[0;32m     46\u001b[0m     marcoDeDatos \u001b[39m=\u001b[39m generarDataFrame(poblacion_binarios)\n\u001b[1;32m---> 47\u001b[0m     marcoDeDatos_stats, stats \u001b[39m=\u001b[39m generarEstadisticas(marcoDeDatos)\n\u001b[0;32m     48\u001b[0m     tabla \u001b[39m=\u001b[39m hacerTabla(i\u001b[39m+\u001b[39m\u001b[39m1\u001b[39m, estadisticas[\u001b[39m\"\u001b[39m\u001b[39mMáximo\u001b[39m\u001b[39m\"\u001b[39m], estadisticas[\u001b[39m\"\u001b[39m\u001b[39mMínimo\u001b[39m\u001b[39m\"\u001b[39m], estadisticas[\u001b[39m\"\u001b[39m\u001b[39mPromedio\u001b[39m\u001b[39m\"\u001b[39m])\n\u001b[0;32m     49\u001b[0m     display(tabla\u001b[39m.\u001b[39mstyle\u001b[39m.\u001b[39mhide(axis\u001b[39m=\u001b[39m\u001b[39m'\u001b[39m\u001b[39mindex\u001b[39m\u001b[39m'\u001b[39m))\n",
      "Cell \u001b[1;32mIn[9], line 2\u001b[0m, in \u001b[0;36mgenerarEstadisticas\u001b[1;34m(dataFrame)\u001b[0m\n\u001b[0;32m      1\u001b[0m \u001b[39mdef\u001b[39;00m \u001b[39mgenerarEstadisticas\u001b[39m(dataFrame):\n\u001b[1;32m----> 2\u001b[0m     stats \u001b[39m=\u001b[39m {\u001b[39m'\u001b[39m\u001b[39mSuma\u001b[39m\u001b[39m'\u001b[39m:[ dataFrame[\u001b[39m'\u001b[39;49m\u001b[39mFuncionObjetivo\u001b[39;49m\u001b[39m'\u001b[39;49m]\u001b[39m.\u001b[39msum(), dataFrame[\u001b[39m'\u001b[39m\u001b[39mFitness\u001b[39m\u001b[39m'\u001b[39m]\u001b[39m.\u001b[39msum() ],\n\u001b[0;32m      3\u001b[0m                 \u001b[39m'\u001b[39m\u001b[39mPromedio\u001b[39m\u001b[39m'\u001b[39m: [ dataFrame[\u001b[39m'\u001b[39m\u001b[39mFuncionObjetivo\u001b[39m\u001b[39m'\u001b[39m]\u001b[39m.\u001b[39mmean(), dataFrame[\u001b[39m'\u001b[39m\u001b[39mFitness\u001b[39m\u001b[39m'\u001b[39m]\u001b[39m.\u001b[39mmean() ],\n\u001b[0;32m      4\u001b[0m                 \u001b[39m'\u001b[39m\u001b[39mMáximo\u001b[39m\u001b[39m'\u001b[39m: [ dataFrame[\u001b[39m'\u001b[39m\u001b[39mFuncionObjetivo\u001b[39m\u001b[39m'\u001b[39m]\u001b[39m.\u001b[39mmax(), dataFrame[\u001b[39m'\u001b[39m\u001b[39mFitness\u001b[39m\u001b[39m'\u001b[39m]\u001b[39m.\u001b[39mmax() ], \n\u001b[0;32m      5\u001b[0m                 \u001b[39m'\u001b[39m\u001b[39mMínimo\u001b[39m\u001b[39m'\u001b[39m: [ dataFrame[\u001b[39m'\u001b[39m\u001b[39mFuncionObjetivo\u001b[39m\u001b[39m'\u001b[39m]\u001b[39m.\u001b[39mmin(), dataFrame[\u001b[39m'\u001b[39m\u001b[39mFitness\u001b[39m\u001b[39m'\u001b[39m]\u001b[39m.\u001b[39mmin() ]}\n\u001b[0;32m      6\u001b[0m     dataFrame_stats \u001b[39m=\u001b[39m pd\u001b[39m.\u001b[39mDataFrame(stats, index \u001b[39m=\u001b[39m [\u001b[39m'\u001b[39m\u001b[39mFunción objetivo\u001b[39m\u001b[39m'\u001b[39m, \u001b[39m'\u001b[39m\u001b[39mFitness\u001b[39m\u001b[39m'\u001b[39m])\n\u001b[0;32m      7\u001b[0m     \u001b[39mreturn\u001b[39;00m dataFrame_stats, stats\n",
      "File \u001b[1;32mc:\\Users\\Francisco Mendiburu\\AppData\\Local\\Programs\\Python\\Python38\\lib\\site-packages\\pandas\\core\\frame.py:3761\u001b[0m, in \u001b[0;36mDataFrame.__getitem__\u001b[1;34m(self, key)\u001b[0m\n\u001b[0;32m   3759\u001b[0m \u001b[39mif\u001b[39;00m \u001b[39mself\u001b[39m\u001b[39m.\u001b[39mcolumns\u001b[39m.\u001b[39mnlevels \u001b[39m>\u001b[39m \u001b[39m1\u001b[39m:\n\u001b[0;32m   3760\u001b[0m     \u001b[39mreturn\u001b[39;00m \u001b[39mself\u001b[39m\u001b[39m.\u001b[39m_getitem_multilevel(key)\n\u001b[1;32m-> 3761\u001b[0m indexer \u001b[39m=\u001b[39m \u001b[39mself\u001b[39;49m\u001b[39m.\u001b[39;49mcolumns\u001b[39m.\u001b[39;49mget_loc(key)\n\u001b[0;32m   3762\u001b[0m \u001b[39mif\u001b[39;00m is_integer(indexer):\n\u001b[0;32m   3763\u001b[0m     indexer \u001b[39m=\u001b[39m [indexer]\n",
      "File \u001b[1;32mc:\\Users\\Francisco Mendiburu\\AppData\\Local\\Programs\\Python\\Python38\\lib\\site-packages\\pandas\\core\\indexes\\range.py:349\u001b[0m, in \u001b[0;36mRangeIndex.get_loc\u001b[1;34m(self, key)\u001b[0m\n\u001b[0;32m    347\u001b[0m         \u001b[39mraise\u001b[39;00m \u001b[39mKeyError\u001b[39;00m(key) \u001b[39mfrom\u001b[39;00m \u001b[39merr\u001b[39;00m\n\u001b[0;32m    348\u001b[0m \u001b[39mif\u001b[39;00m \u001b[39misinstance\u001b[39m(key, Hashable):\n\u001b[1;32m--> 349\u001b[0m     \u001b[39mraise\u001b[39;00m \u001b[39mKeyError\u001b[39;00m(key)\n\u001b[0;32m    350\u001b[0m \u001b[39mself\u001b[39m\u001b[39m.\u001b[39m_check_indexing_error(key)\n\u001b[0;32m    351\u001b[0m \u001b[39mraise\u001b[39;00m \u001b[39mKeyError\u001b[39;00m(key)\n",
      "\u001b[1;31mKeyError\u001b[0m: 'FuncionObjetivo'"
     ]
    }
   ],
   "source": [
    "def main(seleccion, ciclos, tieneElitismo = False, mutar = True):\n",
    "    estadisticas = { \"Máximo\":[], \"Mínimo\":[], \"Promedio\":[]}\n",
    "  \n",
    "    \n",
    "    poblacion_decimal = poblacionInicial()\n",
    "    poblacion_binarios = convertirPoblacion(poblacion_decimal)\n",
    "    \n",
    "    for i in range(0, ciclos):\n",
    "        \n",
    "        datos  = {\n",
    "            'Decimales':        poblacion_decimal, \n",
    "            'Binarios':         poblacion_binarios,\n",
    "            'FuncionObjetivo':  np.array(funcionObjetivo(poblacion_binarios)),\n",
    "            'Fitness':          np.array(funcionFitness(poblacion_binarios))\n",
    "            }\n",
    "        \n",
    "        marcoDeDatos = generarDataFrame(datos)\n",
    "        marcoDeDatos_stats, stats =  generarEstadisticas(marcoDeDatos)\n",
    "        \n",
    "        \n",
    "        estadisticas[\"Máximo\"].append(stats['Máximo'][0])\n",
    "        estadisticas[\"Mínimo\"].append(stats['Mínimo'][0])\n",
    "        estadisticas[\"Promedio\"].append(stats['Promedio'][0])\n",
    "        \n",
    "        \n",
    "        if tieneElitismo:\n",
    "            elites = elitismo(poblacion_binarios, 2)\n",
    "            cromosomasPadres = seleccion(poblacion_binarios, 8)\n",
    "        else:\n",
    "            cromosomasPadres = seleccion(poblacion_binarios, 10)\n",
    "        cromosomasHijos = crossover(cromosomasPadres, PROB_CROSSOVER)\n",
    "        \n",
    "        if mutar: \n",
    "            cromosomasHijosMutados = mutacion(cromosomasHijos, PROB_MUTACION)\n",
    "            if tieneElitismo: \n",
    "                poblacion_binarios = cromosomasHijosMutados + elites\n",
    "            else:\n",
    "                poblacion_binarios = cromosomasHijosMutados\n",
    "        else:\n",
    "            if tieneElitismo: \n",
    "                poblacion_binarios = cromosomasHijos + elites\n",
    "            else:\n",
    "                poblacion_binarios = cromosomasHijos\n",
    "\n",
    "        if ( i == ciclos-1 ):\n",
    "            marcoDeDatos = generarDataFrame(poblacion_binarios)\n",
    "            marcoDeDatos_stats, stats = generarEstadisticas(marcoDeDatos)\n",
    "            tabla = hacerTabla(i+1, estadisticas[\"Máximo\"], estadisticas[\"Mínimo\"], estadisticas[\"Promedio\"])\n",
    "            display(tabla.style.hide(axis='index'))\n",
    "            #display(marcoDeDatos_stats.style.set_table_attributes(\"style='display:inline'\").set_caption('Tabla iteración: ' + str(i+1)))\n",
    "            hacerGrafico(estadisticas, i+1)\n",
    "\n",
    "\n",
    "debeMutar = True\n",
    "conElitismo = True \n",
    "\n",
    "casos = { \n",
    "    \"CASO A: Método selección ruleta\": ruleta, \n",
    "    \"CASO B: Método selección torneo\": torneo, \n",
    "    \"CASO C: Método selección Ruleta con elitismo\": (ruleta, conElitismo, debeMutar), \n",
    "    \"CASO C: Método selección torneo con elitismo\": (torneo, conElitismo,debeMutar),\n",
    "\n",
    "    \n",
    "    \"CASO A: Método selección ruleta sin mutacion\": (ruleta, not conElitismo,not debeMutar), \n",
    "    \"CASO B: Método selección torneo sin mutación\": (torneo, not conElitismo,not debeMutar), \n",
    "    \"CASO C: Método selección Ruleta con elitismo sin mutacion\": (ruleta, conElitismo,not debeMutar), \n",
    "    \"CASO C: Método selección torneo con elitismo sin mutacion\": (torneo, conElitismo,not debeMutar) \n",
    "}  \n",
    " \n",
    " \n",
    "for key, value in casos.items(): \n",
    "    print(key) \n",
    "    tipo_seleccion,conElitismo, conMutacion = (value[0],value[1],value[2]) if type(value) == tuple else (value,False,True) \n",
    "    for ciclo in ITERACIONES_IMPRIMIBLES: \n",
    "        main(tipo_seleccion, ciclo,conElitismo,conMutacion)\n",
    "\n",
    "\n",
    "\n",
    "# print(\"CASO A: Método selección ruleta\")\n",
    "# main(ruleta)\n",
    "# print(\"CASO B: Método selección torneo\")\n",
    "# main(torneo)\n",
    "# print(\"CASO C: Método selección Ruleta con elitismo\")\n",
    "# main(ruleta, tieneElitismo = True)\n",
    "# print(\"CASO C: Método selección torneo con elitismo\")\n",
    "# main(torneo, tieneElitismo = True)\n",
    "\n",
    "# # Sin mutacion (Se ve como se estanca la función en maximos locales)\n",
    "# print(\"-----------------Sin mutación-----------------\")\n",
    "# print(\"CASO A: Método selección ruleta sin mutación\")\n",
    "# main(ruleta, mutar = False)\n",
    "# print(\"CASO B: Método selección torneo sin mutación\")\n",
    "# main(torneo, mutar = False)\n",
    "# print(\"CASO C: Método selección Ruleta con elitismo sin mutación\")\n",
    "# main(ruleta, tieneElitismo = True, mutar = False)\n",
    "# print(\"CASO C: Método selección torneo con elitismo sin mutación\")\n",
    "# main(torneo, tieneElitismo = True, mutar = False)"
   ]
  }
 ],
 "metadata": {
  "kernelspec": {
   "display_name": "Python 3.9.13 64-bit",
   "language": "python",
   "name": "python3"
  },
  "language_info": {
   "codemirror_mode": {
    "name": "ipython",
    "version": 3
   },
   "file_extension": ".py",
   "mimetype": "text/x-python",
   "name": "python",
   "nbconvert_exporter": "python",
   "pygments_lexer": "ipython3",
   "version": "3.8.0"
  },
  "orig_nbformat": 4,
  "vscode": {
   "interpreter": {
    "hash": "f1a5d23aa71d821cb89ea9bf9e09d6a9661f348a5982dd36c24152f8b8a929a8"
   }
  }
 },
 "nbformat": 4,
 "nbformat_minor": 2
}
